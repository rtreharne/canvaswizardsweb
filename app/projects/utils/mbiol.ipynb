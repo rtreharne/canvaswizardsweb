{
 "cells": [
  {
   "cell_type": "code",
   "execution_count": 1,
   "metadata": {},
   "outputs": [],
   "source": [
    "import pandas as pd"
   ]
  },
  {
   "cell_type": "code",
   "execution_count": 2,
   "metadata": {},
   "outputs": [],
   "source": [
    "all_students = pd.read_csv('students_app.csv')"
   ]
  },
  {
   "cell_type": "code",
   "execution_count": 4,
   "metadata": {},
   "outputs": [],
   "source": [
    "mbiolsci = pd.read_csv('students_mbiol.csv')"
   ]
  },
  {
   "cell_type": "code",
   "execution_count": 5,
   "metadata": {},
   "outputs": [
    {
     "data": {
      "text/html": [
       "<div>\n",
       "<style scoped>\n",
       "    .dataframe tbody tr th:only-of-type {\n",
       "        vertical-align: middle;\n",
       "    }\n",
       "\n",
       "    .dataframe tbody tr th {\n",
       "        vertical-align: top;\n",
       "    }\n",
       "\n",
       "    .dataframe thead th {\n",
       "        text-align: right;\n",
       "    }\n",
       "</style>\n",
       "<table border=\"1\" class=\"dataframe\">\n",
       "  <thead>\n",
       "    <tr style=\"text-align: right;\">\n",
       "      <th></th>\n",
       "      <th>id</th>\n",
       "      <th>student_id</th>\n",
       "      <th>first_name</th>\n",
       "      <th>last_name</th>\n",
       "      <th>email</th>\n",
       "      <th>programme</th>\n",
       "      <th>allocation_round</th>\n",
       "      <th>project_types</th>\n",
       "      <th>project_keywords</th>\n",
       "      <th>priority</th>\n",
       "      <th>prerequisites</th>\n",
       "      <th>comment</th>\n",
       "      <th>mbiolsci</th>\n",
       "      <th>institution</th>\n",
       "      <th>admin_dept</th>\n",
       "      <th>submitted_at</th>\n",
       "    </tr>\n",
       "  </thead>\n",
       "  <tbody>\n",
       "    <tr>\n",
       "      <th>0</th>\n",
       "      <td>492</td>\n",
       "      <td>201512402</td>\n",
       "      <td>louie</td>\n",
       "      <td>hey</td>\n",
       "      <td>hllhey@liverpool.ac.uk</td>\n",
       "      <td>Biological Sciences</td>\n",
       "      <td>Biosciences 202425</td>\n",
       "      <td>Laboratory,Bioinformatics,Computational projec...</td>\n",
       "      <td>Cancer medicine,Multi-omics,Bioinformatics,Can...</td>\n",
       "      <td>type</td>\n",
       "      <td>LIFE201,LIFE202,LIFE206,LIFE207,LIFE223,LIFE22...</td>\n",
       "      <td>Third year modules: \\r\\nLIFE302\\r\\nLIFE305\\r\\n...</td>\n",
       "      <td>yes</td>\n",
       "      <td>University of Liverpool</td>\n",
       "      <td>School of Biosciences</td>\n",
       "      <td>2024-09-12 21:01:23.844770+00:00</td>\n",
       "    </tr>\n",
       "    <tr>\n",
       "      <th>1</th>\n",
       "      <td>491</td>\n",
       "      <td>201331578</td>\n",
       "      <td>Rafael</td>\n",
       "      <td>Shekarchi</td>\n",
       "      <td>hlrsheka@liverpool.ac.uk</td>\n",
       "      <td>Pharmacology</td>\n",
       "      <td>Biosciences 202425</td>\n",
       "      <td>Laboratory,Computational project,Health Resear...</td>\n",
       "      <td>Drug safety,Cardiotoxicity,Clinical drug devel...</td>\n",
       "      <td>topic</td>\n",
       "      <td>LIFE206,LIFE207,LIFE221,LIFE223,LIFE225,LIFE23...</td>\n",
       "      <td>I am highly interested in undertaking a projec...</td>\n",
       "      <td>yes</td>\n",
       "      <td>University of Liverpool</td>\n",
       "      <td>School of Biosciences</td>\n",
       "      <td>2024-09-12 20:13:57.077151+00:00</td>\n",
       "    </tr>\n",
       "    <tr>\n",
       "      <th>2</th>\n",
       "      <td>490</td>\n",
       "      <td>201574777</td>\n",
       "      <td>Kerry</td>\n",
       "      <td>A Finnigan</td>\n",
       "      <td>Hlkfinni@liverpool.ac.uk</td>\n",
       "      <td>Microbiology and Infection</td>\n",
       "      <td>Biosciences 202425</td>\n",
       "      <td>Field,Laboratory,Outreach,Education Research,J...</td>\n",
       "      <td>Emerging infections and pandemic threats,Globa...</td>\n",
       "      <td>type</td>\n",
       "      <td>LIFE202,LIFE209,LIFE210,LIFE216,LIFE221,LIFE22...</td>\n",
       "      <td>I have a keen interest in Epidemiology that I ...</td>\n",
       "      <td>yes</td>\n",
       "      <td>University of Liverpool</td>\n",
       "      <td>School of Biosciences</td>\n",
       "      <td>2024-09-12 19:39:31.653175+00:00</td>\n",
       "    </tr>\n",
       "    <tr>\n",
       "      <th>3</th>\n",
       "      <td>489</td>\n",
       "      <td>201545676</td>\n",
       "      <td>William</td>\n",
       "      <td>Partington</td>\n",
       "      <td>hlwparti@liverpool.ac.uk</td>\n",
       "      <td>Biological Sciences</td>\n",
       "      <td>Biosciences 202425</td>\n",
       "      <td>Laboratory,Bioinformatics,Data analysis,Meta-a...</td>\n",
       "      <td>Drug discovery,Drug safety,Pre-clinical drug d...</td>\n",
       "      <td>none</td>\n",
       "      <td>LIFE206,LIFE207,LIFE208,LIFE210,LIFE223,LIFE22...</td>\n",
       "      <td>NaN</td>\n",
       "      <td>yes</td>\n",
       "      <td>University of Liverpool</td>\n",
       "      <td>School of Biosciences</td>\n",
       "      <td>2024-09-12 17:01:15.073878+00:00</td>\n",
       "    </tr>\n",
       "    <tr>\n",
       "      <th>4</th>\n",
       "      <td>488</td>\n",
       "      <td>201587822</td>\n",
       "      <td>Amaal</td>\n",
       "      <td>Are</td>\n",
       "      <td>hlaare@liverpool.ac.uk</td>\n",
       "      <td>Biological and Medical Sciences</td>\n",
       "      <td>Biosciences 202425</td>\n",
       "      <td>Market Analysis,Grant proposal,Outreach,Journa...</td>\n",
       "      <td>Anatomy,Emerging infections and pandemic threa...</td>\n",
       "      <td>topic</td>\n",
       "      <td>LIFE202,LIFE204,LIFE206,LIFE221,LIFE223,LIFE22...</td>\n",
       "      <td>NaN</td>\n",
       "      <td>no</td>\n",
       "      <td>University of Liverpool</td>\n",
       "      <td>School of Biosciences</td>\n",
       "      <td>2024-09-12 12:49:19.436312+00:00</td>\n",
       "    </tr>\n",
       "  </tbody>\n",
       "</table>\n",
       "</div>"
      ],
      "text/plain": [
       "    id  student_id first_name   last_name                     email  \\\n",
       "0  492   201512402      louie         hey    hllhey@liverpool.ac.uk   \n",
       "1  491   201331578     Rafael   Shekarchi  hlrsheka@liverpool.ac.uk   \n",
       "2  490   201574777      Kerry  A Finnigan  Hlkfinni@liverpool.ac.uk   \n",
       "3  489   201545676    William  Partington  hlwparti@liverpool.ac.uk   \n",
       "4  488   201587822      Amaal         Are    hlaare@liverpool.ac.uk   \n",
       "\n",
       "                         programme    allocation_round  \\\n",
       "0              Biological Sciences  Biosciences 202425   \n",
       "1                     Pharmacology  Biosciences 202425   \n",
       "2       Microbiology and Infection  Biosciences 202425   \n",
       "3              Biological Sciences  Biosciences 202425   \n",
       "4  Biological and Medical Sciences  Biosciences 202425   \n",
       "\n",
       "                                       project_types  \\\n",
       "0  Laboratory,Bioinformatics,Computational projec...   \n",
       "1  Laboratory,Computational project,Health Resear...   \n",
       "2  Field,Laboratory,Outreach,Education Research,J...   \n",
       "3  Laboratory,Bioinformatics,Data analysis,Meta-a...   \n",
       "4  Market Analysis,Grant proposal,Outreach,Journa...   \n",
       "\n",
       "                                    project_keywords priority  \\\n",
       "0  Cancer medicine,Multi-omics,Bioinformatics,Can...     type   \n",
       "1  Drug safety,Cardiotoxicity,Clinical drug devel...    topic   \n",
       "2  Emerging infections and pandemic threats,Globa...     type   \n",
       "3  Drug discovery,Drug safety,Pre-clinical drug d...     none   \n",
       "4  Anatomy,Emerging infections and pandemic threa...    topic   \n",
       "\n",
       "                                       prerequisites  \\\n",
       "0  LIFE201,LIFE202,LIFE206,LIFE207,LIFE223,LIFE22...   \n",
       "1  LIFE206,LIFE207,LIFE221,LIFE223,LIFE225,LIFE23...   \n",
       "2  LIFE202,LIFE209,LIFE210,LIFE216,LIFE221,LIFE22...   \n",
       "3  LIFE206,LIFE207,LIFE208,LIFE210,LIFE223,LIFE22...   \n",
       "4  LIFE202,LIFE204,LIFE206,LIFE221,LIFE223,LIFE22...   \n",
       "\n",
       "                                             comment mbiolsci  \\\n",
       "0  Third year modules: \\r\\nLIFE302\\r\\nLIFE305\\r\\n...      yes   \n",
       "1  I am highly interested in undertaking a projec...      yes   \n",
       "2  I have a keen interest in Epidemiology that I ...      yes   \n",
       "3                                                NaN      yes   \n",
       "4                                                NaN       no   \n",
       "\n",
       "               institution             admin_dept  \\\n",
       "0  University of Liverpool  School of Biosciences   \n",
       "1  University of Liverpool  School of Biosciences   \n",
       "2  University of Liverpool  School of Biosciences   \n",
       "3  University of Liverpool  School of Biosciences   \n",
       "4  University of Liverpool  School of Biosciences   \n",
       "\n",
       "                       submitted_at  \n",
       "0  2024-09-12 21:01:23.844770+00:00  \n",
       "1  2024-09-12 20:13:57.077151+00:00  \n",
       "2  2024-09-12 19:39:31.653175+00:00  \n",
       "3  2024-09-12 17:01:15.073878+00:00  \n",
       "4  2024-09-12 12:49:19.436312+00:00  "
      ]
     },
     "execution_count": 5,
     "metadata": {},
     "output_type": "execute_result"
    }
   ],
   "source": [
    "all_students.head()"
   ]
  },
  {
   "cell_type": "code",
   "execution_count": 6,
   "metadata": {},
   "outputs": [],
   "source": [
    "# fake mbiolsci\n",
    "\n",
    "subset = all_students[all_students['mbiolsci'] == \"yes\"]"
   ]
  },
  {
   "cell_type": "code",
   "execution_count": 8,
   "metadata": {},
   "outputs": [],
   "source": [
    "mbiolsci_ids = mbiolsci['student_id'].tolist()"
   ]
  },
  {
   "cell_type": "code",
   "execution_count": 10,
   "metadata": {},
   "outputs": [],
   "source": [
    "# find all rows in subset that do not have student_id in mbiolsci_ids\n",
    "\n",
    "not_in_mbiolsci = subset[~subset['student_id'].isin(mbiolsci_ids)]"
   ]
  },
  {
   "cell_type": "code",
   "execution_count": 11,
   "metadata": {},
   "outputs": [
    {
     "data": {
      "text/plain": [
       "19"
      ]
     },
     "execution_count": 11,
     "metadata": {},
     "output_type": "execute_result"
    }
   ],
   "source": [
    "len(not_in_mbiolsci)"
   ]
  },
  {
   "cell_type": "code",
   "execution_count": 13,
   "metadata": {},
   "outputs": [],
   "source": [
    "all_students_ids = all_students['student_id'].tolist()"
   ]
  },
  {
   "cell_type": "code",
   "execution_count": 16,
   "metadata": {},
   "outputs": [],
   "source": [
    "# iterate through mbiolsci and update \"submitted\" column with \"yes\" if student_id is in all_students_ids\n",
    "\n",
    "mbiolsci['submitted'] = \"no\"\n",
    "\n",
    "for index, row in mbiolsci.iterrows():\n",
    "    if row['student_id'] in all_students_ids:\n",
    "        mbiolsci.loc[mbiolsci['student_id'] == row['student_id'], 'submitted'] = \"yes\""
   ]
  },
  {
   "cell_type": "code",
   "execution_count": 20,
   "metadata": {},
   "outputs": [
    {
     "data": {
      "text/plain": [
       "11"
      ]
     },
     "execution_count": 20,
     "metadata": {},
     "output_type": "execute_result"
    }
   ],
   "source": [
    "len(mbiolsci[mbiolsci['submitted'] == \"yes\"])"
   ]
  },
  {
   "cell_type": "code",
   "execution_count": 29,
   "metadata": {},
   "outputs": [],
   "source": [
    "mbiolsci[mbiolsci['submitted'] == \"no\"].to_csv('students_mbiol_not_submitted.csv')"
   ]
  },
  {
   "cell_type": "code",
   "execution_count": 26,
   "metadata": {},
   "outputs": [
    {
     "data": {
      "text/html": [
       "<div>\n",
       "<style scoped>\n",
       "    .dataframe tbody tr th:only-of-type {\n",
       "        vertical-align: middle;\n",
       "    }\n",
       "\n",
       "    .dataframe tbody tr th {\n",
       "        vertical-align: top;\n",
       "    }\n",
       "\n",
       "    .dataframe thead th {\n",
       "        text-align: right;\n",
       "    }\n",
       "</style>\n",
       "<table border=\"1\" class=\"dataframe\">\n",
       "  <thead>\n",
       "    <tr style=\"text-align: right;\">\n",
       "      <th></th>\n",
       "      <th>Student</th>\n",
       "      <th>ID</th>\n",
       "      <th>student_id</th>\n",
       "      <th>username</th>\n",
       "      <th>SIS Login ID</th>\n",
       "      <th>submitted</th>\n",
       "    </tr>\n",
       "  </thead>\n",
       "  <tbody>\n",
       "    <tr>\n",
       "      <th>32</th>\n",
       "      <td>Rosca, Elena</td>\n",
       "      <td>85168</td>\n",
       "      <td>201564761</td>\n",
       "      <td>hlerosca</td>\n",
       "      <td>hlerosca@liverpool.ac.uk</td>\n",
       "      <td>yes</td>\n",
       "    </tr>\n",
       "  </tbody>\n",
       "</table>\n",
       "</div>"
      ],
      "text/plain": [
       "         Student     ID  student_id  username              SIS Login ID  \\\n",
       "32  Rosca, Elena  85168   201564761  hlerosca  hlerosca@liverpool.ac.uk   \n",
       "\n",
       "   submitted  \n",
       "32       yes  "
      ]
     },
     "execution_count": 26,
     "metadata": {},
     "output_type": "execute_result"
    }
   ],
   "source": [
    "mbiolsci[mbiolsci['Student'].str.contains(\"Rosca\")]"
   ]
  },
  {
   "cell_type": "code",
   "execution_count": null,
   "metadata": {},
   "outputs": [],
   "source": []
  }
 ],
 "metadata": {
  "kernelspec": {
   "display_name": "Python 3",
   "language": "python",
   "name": "python3"
  },
  "language_info": {
   "codemirror_mode": {
    "name": "ipython",
    "version": 3
   },
   "file_extension": ".py",
   "mimetype": "text/x-python",
   "name": "python",
   "nbconvert_exporter": "python",
   "pygments_lexer": "ipython3",
   "version": "3.12.0"
  }
 },
 "nbformat": 4,
 "nbformat_minor": 2
}
