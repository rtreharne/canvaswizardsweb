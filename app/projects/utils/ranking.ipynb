{
 "cells": [
  {
   "cell_type": "code",
   "execution_count": 50,
   "metadata": {},
   "outputs": [],
   "source": [
    "import pandas as pd\n",
    "import ast\n",
    "import numpy as np\n",
    "import pulp\n",
    "import itertools\n",
    "import re"
   ]
  },
  {
   "cell_type": "code",
   "execution_count": 3,
   "metadata": {},
   "outputs": [],
   "source": [
    "sets = pd.read_csv(\"sets.csv\")\n",
    "students = pd.read_csv(\"students.csv\")"
   ]
  },
  {
   "cell_type": "code",
   "execution_count": 5,
   "metadata": {},
   "outputs": [],
   "source": [
    "def create_projects_list(sets):\n",
    "    rows = []\n",
    "    for i, row in sets.iterrows():\n",
    "        for i in range(row.available):\n",
    "            rows.append(\n",
    "                {\n",
    "                    \"username\": row.username,\n",
    "                    \"keywords\": row.keywords,\n",
    "                    \"types\": row.type,\n",
    "                    \"prerequisite\": row.prerequisite\n",
    "                }\n",
    "            )\n",
    "    return pd.DataFrame(rows)"
   ]
  },
  {
   "cell_type": "code",
   "execution_count": 6,
   "metadata": {},
   "outputs": [],
   "source": [
    "projects = create_projects_list(sets)"
   ]
  },
  {
   "cell_type": "code",
   "execution_count": 60,
   "metadata": {},
   "outputs": [],
   "source": [
    "def student_project_scores(label, projects, students):\n",
    "    s_list = []\n",
    "\n",
    "    for i, s in students.iterrows():\n",
    "        p_list = []\n",
    "\n",
    "        list1 = getattr(s, label).split(\",\")\n",
    "        \n",
    "        for j, p in projects.iterrows():\n",
    "            \n",
    "            list2 = getattr(p, label).split(\",\")\n",
    "\n",
    "            score = score_preference(list1, list2)\n",
    "\n",
    "            p_list.append(score)\n",
    "\n",
    "        s_list.append(p_list)\n",
    "\n",
    "    return np.array(s_list)\n",
    "\n",
    "def score_preference(pref, lst):\n",
    "    score = 0\n",
    "    pref_reverse = pref[::-1]\n",
    "\n",
    "    for i, item in enumerate(pref_reverse):\n",
    "        if item in lst:\n",
    "            score += i + 1\n",
    "\n",
    "    return score \n",
    "\n",
    "def normalize_2d_array(arr):\n",
    "    min_val = np.min(arr)\n",
    "    max_val = np.max(arr)\n",
    "    normalzed_array = (arr - min_val) / (max_val - min_val)\n",
    "    return normalzed_array\n",
    "\n",
    "def rank_student_projects(combined_scores):\n",
    "    student_project = []\n",
    "    for item in combined_scores:\n",
    "        student_project.append(item.argsort()[::-1].argsort()+1)\n",
    "    return student_project\n",
    "\n",
    "def allocate(A):\n",
    "    A = np.matrix(A)\n",
    "    n_students, n_projects = A.shape\n",
    "    prob = pulp.LpProblem(\"Project Allocation\", pulp.LpMinimize)\n",
    "    x = pulp.LpVariable.dicts(\"x\", itertools.product(range(n_students), range(n_projects)), cat=pulp.LpBinary)\n",
    "\n",
    "    objective_function = 0\n",
    "    for student in range(n_students):\n",
    "\n",
    "        for project in range(n_projects):\n",
    "\n",
    "            if A[(student, project)] > 0:\n",
    "                objective_function += x[(student, project)] * A[(student, project)]\n",
    "\n",
    "    prob += objective_function\n",
    "\n",
    "    # 1 project per student\n",
    "    for student in range(n_students):\n",
    "        prob += sum(x[(student, project)] for project in range(n_projects)) == 1\n",
    "\n",
    "    # Each project is assigned to at most 1 student\n",
    "    for project in range(n_projects):\n",
    "        prob += sum(x[(student, project)] for student in range(n_students)) <= 1\n",
    "\n",
    "    prob.solve()\n",
    "\n",
    "    return prob\n",
    "\n",
    "def get_allocation_coords(prob):\n",
    "\n",
    "    allocation = []\n",
    "\n",
    "    for v in prob.variables():\n",
    "        if v.varValue == 1:\n",
    "            stringy_coords = v.name.split(',')\n",
    "            allocation.append([int(re.findall(r\"[\\d]+|\\d+\", x)[0]) for x in stringy_coords])\n",
    "\n",
    "\n",
    "    return(allocation)\n",
    "\n",
    "def prerequisite_filter(scores, students, projects):\n",
    "    new_scores = []\n",
    "\n",
    "    for i, s in students.iterrows():\n",
    "\n",
    "        try:\n",
    "            student_modules = s.prerequisites.split(\",\")\n",
    "        except:\n",
    "            student_modules = []\n",
    "\n",
    "        new_scores_row = []\n",
    "\n",
    "        for j, p in projects.iterrows():\n",
    "\n",
    "            prerequisite = p.prerequisite\n",
    "\n",
    "            if isinstance(prerequisite, str):\n",
    "                print(f\"Prerequisite is a string: {prerequisite}\")\n",
    "                if any(prerequisite in word for word in student_modules):\n",
    "                    print(f\"{prerequisite} in {student_modules}\")\n",
    "                    new_scores_row.append(scores[i][j])\n",
    "                else:\n",
    "                    print(f\"{prerequisite} not in {student_modules}\")\n",
    "                    new_scores_row.append(0)\n",
    "            else:\n",
    "                print(\"Prerequisite not a string\")\n",
    "                new_scores_row.append(scores[i][j])\n",
    "\n",
    "        new_scores.append(new_scores_row)\n",
    "\n",
    "    return np.array(new_scores)\n",
    "        "
   ]
  },
  {
   "cell_type": "code",
   "execution_count": 52,
   "metadata": {},
   "outputs": [],
   "source": [
    "keyword_scores = student_project_scores(\"keywords\", projects, students)"
   ]
  },
  {
   "cell_type": "code",
   "execution_count": 9,
   "metadata": {},
   "outputs": [],
   "source": [
    "type_scores = student_project_scores(\"types\", projects, students)"
   ]
  },
  {
   "cell_type": "code",
   "execution_count": 56,
   "metadata": {},
   "outputs": [],
   "source": [
    "scores = normalize_2d_array(keyword_scores + type_scores)"
   ]
  },
  {
   "cell_type": "code",
   "execution_count": 59,
   "metadata": {},
   "outputs": [
    {
     "ename": "AttributeError",
     "evalue": "'Series' object has no attribute 'prerequisites'",
     "output_type": "error",
     "traceback": [
      "\u001b[1;31m---------------------------------------------------------------------------\u001b[0m",
      "\u001b[1;31mAttributeError\u001b[0m                            Traceback (most recent call last)",
      "\u001b[1;32m~\\AppData\\Local\\Temp\\ipykernel_18272\\3007162371.py\u001b[0m in \u001b[0;36m?\u001b[1;34m()\u001b[0m\n\u001b[1;32m----> 1\u001b[1;33m \u001b[0mscores\u001b[0m \u001b[1;33m=\u001b[0m \u001b[0mprerequisite_filter\u001b[0m\u001b[1;33m(\u001b[0m\u001b[0mscores\u001b[0m\u001b[1;33m,\u001b[0m \u001b[0mstudents\u001b[0m\u001b[1;33m,\u001b[0m \u001b[0mprojects\u001b[0m\u001b[1;33m)\u001b[0m\u001b[1;33m\u001b[0m\u001b[1;33m\u001b[0m\u001b[0m\n\u001b[0m",
      "\u001b[1;32m~\\AppData\\Local\\Temp\\ipykernel_18272\\170097468.py\u001b[0m in \u001b[0;36m?\u001b[1;34m(scores, students, projects)\u001b[0m\n\u001b[0;32m     93\u001b[0m         \u001b[0mnew_scores_row\u001b[0m \u001b[1;33m=\u001b[0m \u001b[1;33m[\u001b[0m\u001b[1;33m]\u001b[0m\u001b[1;33m\u001b[0m\u001b[1;33m\u001b[0m\u001b[0m\n\u001b[0;32m     94\u001b[0m \u001b[1;33m\u001b[0m\u001b[0m\n\u001b[0;32m     95\u001b[0m         \u001b[1;32mfor\u001b[0m \u001b[0mj\u001b[0m\u001b[1;33m,\u001b[0m \u001b[0mp\u001b[0m \u001b[1;32min\u001b[0m \u001b[0mprojects\u001b[0m\u001b[1;33m.\u001b[0m\u001b[0miterrows\u001b[0m\u001b[1;33m(\u001b[0m\u001b[1;33m)\u001b[0m\u001b[1;33m:\u001b[0m\u001b[1;33m\u001b[0m\u001b[1;33m\u001b[0m\u001b[0m\n\u001b[0;32m     96\u001b[0m \u001b[1;33m\u001b[0m\u001b[0m\n\u001b[1;32m---> 97\u001b[1;33m             \u001b[0mprerequisite\u001b[0m \u001b[1;33m=\u001b[0m \u001b[0mp\u001b[0m\u001b[1;33m.\u001b[0m\u001b[0mprerequisites\u001b[0m\u001b[1;33m\u001b[0m\u001b[1;33m\u001b[0m\u001b[0m\n\u001b[0m\u001b[0;32m     98\u001b[0m \u001b[1;33m\u001b[0m\u001b[0m\n\u001b[0;32m     99\u001b[0m             \u001b[1;32mif\u001b[0m \u001b[0misinstance\u001b[0m\u001b[1;33m(\u001b[0m\u001b[0mprerequisite\u001b[0m\u001b[1;33m,\u001b[0m \u001b[0mstr\u001b[0m\u001b[1;33m)\u001b[0m\u001b[1;33m:\u001b[0m\u001b[1;33m\u001b[0m\u001b[1;33m\u001b[0m\u001b[0m\n\u001b[0;32m    100\u001b[0m                 \u001b[0mprint\u001b[0m\u001b[1;33m(\u001b[0m\u001b[1;33mf\"\u001b[0m\u001b[1;33mPrerequisite is a string: \u001b[0m\u001b[1;33m{\u001b[0m\u001b[0mprerequisite\u001b[0m\u001b[1;33m}\u001b[0m\u001b[1;33m\"\u001b[0m\u001b[1;33m)\u001b[0m\u001b[1;33m\u001b[0m\u001b[1;33m\u001b[0m\u001b[0m\n",
      "\u001b[1;32mc:\\Users\\treharne\\AppData\\Local\\Programs\\Python\\Python312\\Lib\\site-packages\\pandas\\core\\generic.py\u001b[0m in \u001b[0;36m?\u001b[1;34m(self, name)\u001b[0m\n\u001b[0;32m   6200\u001b[0m             \u001b[1;32mand\u001b[0m \u001b[0mname\u001b[0m \u001b[1;32mnot\u001b[0m \u001b[1;32min\u001b[0m \u001b[0mself\u001b[0m\u001b[1;33m.\u001b[0m\u001b[0m_accessors\u001b[0m\u001b[1;33m\u001b[0m\u001b[1;33m\u001b[0m\u001b[0m\n\u001b[0;32m   6201\u001b[0m             \u001b[1;32mand\u001b[0m \u001b[0mself\u001b[0m\u001b[1;33m.\u001b[0m\u001b[0m_info_axis\u001b[0m\u001b[1;33m.\u001b[0m\u001b[0m_can_hold_identifiers_and_holds_name\u001b[0m\u001b[1;33m(\u001b[0m\u001b[0mname\u001b[0m\u001b[1;33m)\u001b[0m\u001b[1;33m\u001b[0m\u001b[1;33m\u001b[0m\u001b[0m\n\u001b[0;32m   6202\u001b[0m         \u001b[1;33m)\u001b[0m\u001b[1;33m:\u001b[0m\u001b[1;33m\u001b[0m\u001b[1;33m\u001b[0m\u001b[0m\n\u001b[0;32m   6203\u001b[0m             \u001b[1;32mreturn\u001b[0m \u001b[0mself\u001b[0m\u001b[1;33m[\u001b[0m\u001b[0mname\u001b[0m\u001b[1;33m]\u001b[0m\u001b[1;33m\u001b[0m\u001b[1;33m\u001b[0m\u001b[0m\n\u001b[1;32m-> 6204\u001b[1;33m         \u001b[1;32mreturn\u001b[0m \u001b[0mobject\u001b[0m\u001b[1;33m.\u001b[0m\u001b[0m__getattribute__\u001b[0m\u001b[1;33m(\u001b[0m\u001b[0mself\u001b[0m\u001b[1;33m,\u001b[0m \u001b[0mname\u001b[0m\u001b[1;33m)\u001b[0m\u001b[1;33m\u001b[0m\u001b[1;33m\u001b[0m\u001b[0m\n\u001b[0m",
      "\u001b[1;31mAttributeError\u001b[0m: 'Series' object has no attribute 'prerequisites'"
     ]
    }
   ],
   "source": [
    "scores = prerequisite_filter(scores, students, projects)"
   ]
  },
  {
   "cell_type": "code",
   "execution_count": 54,
   "metadata": {},
   "outputs": [],
   "source": [
    "student_project = rank_student_projects(scores)"
   ]
  },
  {
   "cell_type": "code",
   "execution_count": 20,
   "metadata": {},
   "outputs": [],
   "source": [
    "import numpy as np\n",
    "from scipy.optimize import linprog\n",
    "\n",
    "def allocate(A):\n",
    "    A = np.array(A)  # Convert to a NumPy array if it isn't already\n",
    "    n_students, n_projects = A.shape\n",
    "\n",
    "    # Create the objective function coefficients\n",
    "    c = -A.flatten()  # Use negative because linprog does minimization\n",
    "\n",
    "    # Create the equality and inequality constraints\n",
    "    A_eq = []\n",
    "    b_eq = []\n",
    "\n",
    "    # Constraint: Each student is assigned to exactly one project\n",
    "    for student in range(n_students):\n",
    "        row = np.zeros(n_students * n_projects)\n",
    "        for project in range(n_projects):\n",
    "            row[student * n_projects + project] = 1\n",
    "        A_eq.append(row)\n",
    "        b_eq.append(1)\n",
    "    \n",
    "    A_eq = np.array(A_eq)\n",
    "    b_eq = np.array(b_eq)\n",
    "\n",
    "    # No need for inequality constraints for project assignments\n",
    "    # because we will use bounds to ensure 0 or 1 for each variable\n",
    "\n",
    "    # Bounds for the variables: 0 <= x <= 1 (binary constraints)\n",
    "    bounds = [(0, 1) for _ in range(n_students * n_projects)]\n",
    "\n",
    "    # Solve the linear programming problem\n",
    "    result = linprog(c, A_eq=A_eq, b_eq=b_eq, bounds=bounds, method='highs')\n",
    "\n",
    "    # Reshape the result back into the matrix form\n",
    "    allocation = np.round(result.x).reshape((n_students, n_projects))\n",
    "\n",
    "    return allocation\n"
   ]
  },
  {
   "cell_type": "code",
   "execution_count": 21,
   "metadata": {},
   "outputs": [],
   "source": [
    "results = allocate(student_project)"
   ]
  },
  {
   "cell_type": "code",
   "execution_count": 26,
   "metadata": {},
   "outputs": [
    {
     "data": {
      "text/plain": [
       "array([ 1.,  0.,  0.,  0.,  0.,  0.,  0.,  0.,  0.,  0.,  0.,  0.,  0.,\n",
       "        0.,  0.,  0.,  0.,  0.,  0.,  0.,  0.,  0.,  0.,  0.,  0.,  0.,\n",
       "        0.,  0.,  0.,  0.,  0.,  0.,  0.,  0.,  0.,  0.,  0.,  0.,  0.,\n",
       "        0.,  0.,  0.,  0.,  0.,  0.,  0.,  0.,  0.,  0.,  0.,  0.,  0.,\n",
       "        0.,  0.,  0.,  0.,  0.,  0.,  0.,  0.,  0.,  0.,  0.,  0.,  0.,\n",
       "        0.,  0.,  0.,  0.,  0.,  0.,  0.,  0.,  0.,  0.,  0.,  0.,  0.,\n",
       "        0.,  0.,  0.,  0.,  0.,  0.,  0.,  0.,  0.,  0.,  0.,  0.,  0.,\n",
       "        0.,  0.,  0.,  0.,  0.,  0.,  0.,  0.,  0.,  0.,  0.,  0.,  0.,\n",
       "        0.,  0.,  0.,  0.,  0.,  0.,  0.,  0.,  0.,  0.,  0.,  0.,  0.,\n",
       "        0.,  0.,  0.,  0.,  0.,  0.,  0.,  0.,  0.,  0.,  0.,  0.,  0.,\n",
       "        0.,  0.,  0.,  0.,  0.,  0.,  0.,  0.,  0.,  0.,  0.,  0.,  0.,\n",
       "        0.,  0.,  0.,  0.,  0.,  0.,  0.,  0.,  0.,  0.,  0.,  0.,  0.,\n",
       "        0.,  0.,  0.,  0.,  0.,  0.,  0.,  0.,  0.,  0.,  0.,  0.,  0.,\n",
       "        0.,  0.,  0.,  0.,  0.,  0.,  0.,  0.,  0.,  0.,  0.,  0.,  0.,\n",
       "        0.,  0.,  0.,  0.,  0.,  0.,  0.,  0.,  0.,  0.,  0.,  0.,  0.,\n",
       "        0.,  0.,  0.,  0.,  0.,  0.,  0.,  0.,  0.,  0.,  0., -0.,  0.,\n",
       "        0.,  0.,  0.,  0.,  0.,  0.,  0.,  0.,  0.,  0.,  0.,  0.,  0.,\n",
       "        0.,  0.,  0.,  0.,  0.,  0.,  0.,  0.,  0.,  0.,  0.,  0.,  0.,\n",
       "        0.,  0.,  0.,  0.,  0.,  0.,  0.,  0.,  0.,  0.,  0.,  0.,  0.,\n",
       "        0.,  0.,  0.,  0.,  0.,  0.,  0.,  0.,  0.,  0.,  0.,  0.,  0.,\n",
       "        0.,  0.,  0.,  0.,  0.,  0.,  0.,  0.,  0.,  0.,  0.,  0.,  0.,\n",
       "        0.,  0.,  0.,  0.,  0.,  0.,  0.,  0.,  0.,  0.,  0.,  0.,  0.,\n",
       "        0.,  0.,  0.,  0.,  0.,  0.,  0.,  0.,  0.,  0.,  0.,  0.,  0.,\n",
       "        0.,  0.,  0.,  0.,  0.,  0.,  0.,  0.,  0.,  0.,  0.,  0.,  0.,\n",
       "        0.,  0.,  0.,  0.,  0.,  0.,  0.,  0.,  0.,  0.,  0.,  0.,  0.,\n",
       "        0.,  0.,  0.,  0.,  0.,  0.,  0.,  0.,  0.,  0.,  0.,  0.,  0.,\n",
       "        0.,  0.,  0.,  0.,  0.,  0.,  0.,  0.,  0.,  0.,  0.,  0.,  0.,\n",
       "        0.,  0.,  0.,  0.,  0.,  0.,  0.,  0.,  0.,  0.,  0.,  0.,  0.,\n",
       "        0.,  0.,  0.,  0.,  0.,  0.,  0.,  0.,  0.,  0.,  0.,  0.,  0.,\n",
       "        0.,  0.,  0.,  0.,  0.,  0.,  0.,  0.,  0.,  0.,  0.,  0.,  0.,\n",
       "        0.,  0.,  0.,  0.,  0.,  0.,  0.,  0.,  0.,  0.,  0.,  0.,  0.,\n",
       "        0.,  0.,  0.,  0.,  0.,  0.,  0.,  0.,  0.,  0.,  0.,  0.,  0.,\n",
       "        0.,  0.,  0.,  0.,  0.,  0.,  0.,  0.,  0.,  0.,  0.,  0.])"
      ]
     },
     "execution_count": 26,
     "metadata": {},
     "output_type": "execute_result"
    }
   ],
   "source": [
    "results[100]"
   ]
  },
  {
   "cell_type": "code",
   "execution_count": 114,
   "metadata": {},
   "outputs": [],
   "source": [
    "series = []\n",
    "score = []\n",
    "\n",
    "for [student, project] in allocation:\n",
    "    \n",
    "    s = students.iloc[student]\n",
    "    p = projects.iloc[project]\n",
    "\n",
    "    # rename s columns with _student suffix\n",
    "    s = s.add_suffix(\"_student\")\n",
    "\n",
    "    # rename p columns with _project suffix\n",
    "    p = p.add_suffix(\"_project\")\n",
    "\n",
    "    # combine p and s into one series\n",
    "    series.append(pd.concat([p, s]))\n",
    "\n",
    "    score.append(student_project[student][project])\n",
    "\n",
    "df = pd.DataFrame(series)\n",
    "#df[score] = score"
   ]
  },
  {
   "cell_type": "code",
   "execution_count": 116,
   "metadata": {},
   "outputs": [],
   "source": [
    "df[\"score\"] = score"
   ]
  },
  {
   "cell_type": "code",
   "execution_count": 117,
   "metadata": {},
   "outputs": [
    {
     "data": {
      "text/html": [
       "<div>\n",
       "<style scoped>\n",
       "    .dataframe tbody tr th:only-of-type {\n",
       "        vertical-align: middle;\n",
       "    }\n",
       "\n",
       "    .dataframe tbody tr th {\n",
       "        vertical-align: top;\n",
       "    }\n",
       "\n",
       "    .dataframe thead th {\n",
       "        text-align: right;\n",
       "    }\n",
       "</style>\n",
       "<table border=\"1\" class=\"dataframe\">\n",
       "  <thead>\n",
       "    <tr style=\"text-align: right;\">\n",
       "      <th></th>\n",
       "      <th>username_project</th>\n",
       "      <th>keywords_project</th>\n",
       "      <th>types_project</th>\n",
       "      <th>prerequisite_project</th>\n",
       "      <th>student_id_student</th>\n",
       "      <th>programme_student</th>\n",
       "      <th>types_student</th>\n",
       "      <th>keywords_student</th>\n",
       "      <th>prerequisites_student</th>\n",
       "      <th>score</th>\n",
       "    </tr>\n",
       "  </thead>\n",
       "  <tbody>\n",
       "    <tr>\n",
       "      <th>0</th>\n",
       "      <td>manolis</td>\n",
       "      <td>Molecular cell biology</td>\n",
       "      <td>Data analysis</td>\n",
       "      <td>NaN</td>\n",
       "      <td>123456789</td>\n",
       "      <td>Biochemistry</td>\n",
       "      <td>Data analysis,GIS analysis,Grant proposal,Imag...</td>\n",
       "      <td>Molecular cell biology,Multi-omics,One health,...</td>\n",
       "      <td>LIFE203,LIFE206,LIFE210,LIFE213,LIFE216</td>\n",
       "      <td>6</td>\n",
       "    </tr>\n",
       "    <tr>\n",
       "      <th>1</th>\n",
       "      <td>tmehta12</td>\n",
       "      <td>Bioinformatics,Multi-omics,Development,Evoluti...</td>\n",
       "      <td>Bioinformatics</td>\n",
       "      <td>NaN</td>\n",
       "      <td>201155246</td>\n",
       "      <td>Biological Sciences</td>\n",
       "      <td>Bioinformatics,Health Research,Systematic Revi...</td>\n",
       "      <td>Systems pharmacology and information science,B...</td>\n",
       "      <td>LIFE201,LIFE202,LIFE208,LIFE210,LIFE213,LIFE22...</td>\n",
       "      <td>1</td>\n",
       "    </tr>\n",
       "    <tr>\n",
       "      <th>2</th>\n",
       "      <td>acsharp</td>\n",
       "      <td>Anatomy,Biomechanics,Musculoskeletal biology,M...</td>\n",
       "      <td>Computational project</td>\n",
       "      <td>LIFE220</td>\n",
       "      <td>201409237</td>\n",
       "      <td>Biological Sciences</td>\n",
       "      <td>Grant proposal,Meta-analysis,Health Research,I...</td>\n",
       "      <td>Musculoskeletal biology,Musculoskeletal ageing...</td>\n",
       "      <td>LIFE202,LIFE204,LIFE206,LIFE207,LIFE221,LIFE22...</td>\n",
       "      <td>1</td>\n",
       "    </tr>\n",
       "    <tr>\n",
       "      <th>3</th>\n",
       "      <td>njeffery</td>\n",
       "      <td>Anatomy,Biomechanics,Neurobiology and Neuropat...</td>\n",
       "      <td>Data analysis</td>\n",
       "      <td>LIFE218</td>\n",
       "      <td>201590227</td>\n",
       "      <td>Anatomy and Human Biology</td>\n",
       "      <td>Health Research,Grant proposal,Laboratory,Fiel...</td>\n",
       "      <td>Neurobiology and Neuropathology,Biomechanics,M...</td>\n",
       "      <td>LIFE204,LIFE205,LIFE218,LIFE219,LIFE220,LIFE22...</td>\n",
       "      <td>3</td>\n",
       "    </tr>\n",
       "    <tr>\n",
       "      <th>4</th>\n",
       "      <td>eayates</td>\n",
       "      <td>Gastrointestinal infections,Drug safety,Host-m...</td>\n",
       "      <td>Laboratory</td>\n",
       "      <td>NaN</td>\n",
       "      <td>201590418</td>\n",
       "      <td>Biological and Medical Sciences</td>\n",
       "      <td>Laboratory,Data analysis,Health Research,Syste...</td>\n",
       "      <td>Drug safety,Clinical drug development,Gastroin...</td>\n",
       "      <td>LIFE202,LIFE204,LIFE206,LIFE207,LIFE221,LIFE22...</td>\n",
       "      <td>1</td>\n",
       "    </tr>\n",
       "  </tbody>\n",
       "</table>\n",
       "</div>"
      ],
      "text/plain": [
       "  username_project                                   keywords_project  \\\n",
       "0          manolis                             Molecular cell biology   \n",
       "1         tmehta12  Bioinformatics,Multi-omics,Development,Evoluti...   \n",
       "2          acsharp  Anatomy,Biomechanics,Musculoskeletal biology,M...   \n",
       "3         njeffery  Anatomy,Biomechanics,Neurobiology and Neuropat...   \n",
       "4          eayates  Gastrointestinal infections,Drug safety,Host-m...   \n",
       "\n",
       "           types_project prerequisite_project  student_id_student  \\\n",
       "0          Data analysis                  NaN           123456789   \n",
       "1         Bioinformatics                  NaN           201155246   \n",
       "2  Computational project              LIFE220           201409237   \n",
       "3          Data analysis              LIFE218           201590227   \n",
       "4             Laboratory                  NaN           201590418   \n",
       "\n",
       "                 programme_student  \\\n",
       "0                     Biochemistry   \n",
       "1              Biological Sciences   \n",
       "2              Biological Sciences   \n",
       "3        Anatomy and Human Biology   \n",
       "4  Biological and Medical Sciences   \n",
       "\n",
       "                                       types_student  \\\n",
       "0  Data analysis,GIS analysis,Grant proposal,Imag...   \n",
       "1  Bioinformatics,Health Research,Systematic Revi...   \n",
       "2  Grant proposal,Meta-analysis,Health Research,I...   \n",
       "3  Health Research,Grant proposal,Laboratory,Fiel...   \n",
       "4  Laboratory,Data analysis,Health Research,Syste...   \n",
       "\n",
       "                                    keywords_student  \\\n",
       "0  Molecular cell biology,Multi-omics,One health,...   \n",
       "1  Systems pharmacology and information science,B...   \n",
       "2  Musculoskeletal biology,Musculoskeletal ageing...   \n",
       "3  Neurobiology and Neuropathology,Biomechanics,M...   \n",
       "4  Drug safety,Clinical drug development,Gastroin...   \n",
       "\n",
       "                               prerequisites_student  score  \n",
       "0            LIFE203,LIFE206,LIFE210,LIFE213,LIFE216      6  \n",
       "1  LIFE201,LIFE202,LIFE208,LIFE210,LIFE213,LIFE22...      1  \n",
       "2  LIFE202,LIFE204,LIFE206,LIFE207,LIFE221,LIFE22...      1  \n",
       "3  LIFE204,LIFE205,LIFE218,LIFE219,LIFE220,LIFE22...      3  \n",
       "4  LIFE202,LIFE204,LIFE206,LIFE207,LIFE221,LIFE22...      1  "
      ]
     },
     "execution_count": 117,
     "metadata": {},
     "output_type": "execute_result"
    }
   ],
   "source": [
    "df.head()"
   ]
  },
  {
   "cell_type": "code",
   "execution_count": 118,
   "metadata": {},
   "outputs": [],
   "source": [
    "df.to_excel(\"allocation.xlsx\", index=False)"
   ]
  },
  {
   "cell_type": "code",
   "execution_count": 83,
   "metadata": {},
   "outputs": [
    {
     "data": {
      "text/plain": [
       "1"
      ]
     },
     "execution_count": 83,
     "metadata": {},
     "output_type": "execute_result"
    }
   ],
   "source": [
    "student_project[1][337]"
   ]
  },
  {
   "cell_type": "code",
   "execution_count": 122,
   "metadata": {},
   "outputs": [],
   "source": [
    "import numpy as np\n",
    "from scipy.optimize import linprog"
   ]
  },
  {
   "cell_type": "code",
   "execution_count": 132,
   "metadata": {},
   "outputs": [
    {
     "name": "stdout",
     "output_type": "stream",
     "text": [
      "[211, 13, 218, 271, 170, 262, 100, 234, 362, 366, 89, 390, 296, 213, 173, 365, 49, 72, 333, 121, 159, 178, 348, 288, 139, 53, 230, 48, 172, 336, 37, 197, 102, 245, 60, 326, 148, 309, 428, 78, 239, 314, 58, 7, 199, 280, 219, 378, 17, 334, 308, 190, 181, 342, 335, 61, 35, 373, 3, 141, 240, 75, 235, 154, 220, 297, 214, 81, 107, 174, 318, 14, 354, 87, 152, 281, 120, 180, 338, 224, 176, 76, 155, 103, 376, 304, 9, 222, 193, 69, 80, 16, 275, 215, 311, 344, 319, 202, 253, 268, 287, 321, 339, 278, 150, 196, 223, 331, 51, 194, 171, 56, 10, 71, 192, 322, 79, 295, 303, 343, 111, 353, 158, 146, 20, 329, 43, 64, 177, 2, 221, 208, 145, 250, 147, 290, 337, 358, 205, 351, 68, 8, 371, 203, 27, 320, 243, 323, 34, 267, 349, 19, 375, 18, 63, 153, 66, 52, 99, 299, 289, 29, 285, 143, 161, 328, 298, 191, 357, 330, 247, 332, 274, 183, 254, 346, 315, 149, 266, 25, 361, 244, 395, 300, 352, 33, 24, 168, 324, 382, 84, 325, 169, 225, 291, 302, 62, 340, 258, 212, 307, 246, 30, 95, 305, 355, 313, 67, 367, 185, 59, 188, 217, 11, 47, 83, 195, 105, 273, 270, 277, 182, 119, 206, 198, 132, 65, 50, 38, 231, 360, 272, 201, 36, 130, 359, 106, 251, 283, 242, 200, 26, 1, 42, 189, 389, 124, 261, 91, 259, 372, 57, 356, 210, 54, 316, 312, 184, 276, 265, 41, 207, 310, 317, 255, 260, 28, 236, 226, 167, 179, 345, 341, 164, 256, 23, 370, 363, 294, 292, 284, 46, 70, 12, 112, 166, 129, 15, 227, 347, 374, 204, 151, 175, 269, 209, 165, 279, 238, 187, 282, 350, 45, 216, 301, 248, 162, 327, 96, 368, 293, 263, 40, 4, 118, 369, 90, 264, 21, 306, 252, 94, 186, 156, 257, 286, 134, 228, 392, 22, 122, 32, 249, 364, 44]\n"
     ]
    }
   ],
   "source": [
    "import numpy as np\n",
    "from scipy.optimize import linear_sum_assignment\n",
    "\n",
    "def minimize_priority(student_preferences):\n",
    "    n_students = len(student_preferences)\n",
    "    max_project_index = max(max(prefs) for prefs in student_preferences) + 1\n",
    "    \n",
    "    # Create a cost matrix with a large enough size\n",
    "    cost_matrix = np.full((n_students, max_project_index), np.inf)\n",
    "    \n",
    "    for student in range(n_students):\n",
    "        for rank, project in enumerate(student_preferences[student]):\n",
    "            cost_matrix[student, project] = rank\n",
    "    \n",
    "    # Solve the assignment problem\n",
    "    row_ind, col_ind = linear_sum_assignment(cost_matrix)\n",
    "    \n",
    "    # Create the assignment result\n",
    "    assignment = [-1] * n_students\n",
    "    for student, project in zip(row_ind, col_ind):\n",
    "        if project < max_project_index:\n",
    "            assignment[student] = project\n",
    "    \n",
    "    return assignment\n",
    "\n",
    "allocation = minimize_priority(student_project)\n",
    "print(allocation)"
   ]
  },
  {
   "cell_type": "code",
   "execution_count": 133,
   "metadata": {},
   "outputs": [
    {
     "data": {
      "text/plain": [
       "student_id                                               123456789\n",
       "programme                                             Biochemistry\n",
       "types            Data analysis,GIS analysis,Grant proposal,Imag...\n",
       "keywords         Molecular cell biology,Multi-omics,One health,...\n",
       "prerequisites              LIFE203,LIFE206,LIFE210,LIFE213,LIFE216\n",
       "Name: 0, dtype: object"
      ]
     },
     "execution_count": 133,
     "metadata": {},
     "output_type": "execute_result"
    }
   ],
   "source": [
    "students.iloc[0]"
   ]
  },
  {
   "cell_type": "code",
   "execution_count": 134,
   "metadata": {},
   "outputs": [
    {
     "data": {
      "text/plain": [
       "username                                 kellyro\n",
       "keywords        Evolution and adaptation,Ecology\n",
       "types                                 Laboratory\n",
       "prerequisite                             LIFE212\n",
       "Name: 211, dtype: object"
      ]
     },
     "execution_count": 134,
     "metadata": {},
     "output_type": "execute_result"
    }
   ],
   "source": [
    "projects.iloc[211]"
   ]
  },
  {
   "cell_type": "code",
   "execution_count": 135,
   "metadata": {},
   "outputs": [
    {
     "data": {
      "text/plain": [
       "335"
      ]
     },
     "execution_count": 135,
     "metadata": {},
     "output_type": "execute_result"
    }
   ],
   "source": [
    "len(allocation)"
   ]
  },
  {
   "cell_type": "code",
   "execution_count": 42,
   "metadata": {},
   "outputs": [
    {
     "name": "stdout",
     "output_type": "stream",
     "text": [
      "1.11.4\n"
     ]
    }
   ],
   "source": [
    "import scipy\n",
    "print(scipy.__version__)"
   ]
  },
  {
   "cell_type": "code",
   "execution_count": 46,
   "metadata": {},
   "outputs": [
    {
     "name": "stdout",
     "output_type": "stream",
     "text": [
      "[[0, 374], [1, 337], [2, 233], [3, 194], [4, 73], [5, 252], [6, 4], [7, 297], [8, 191], [9, 390], [10, 409], [11, 307], [12, 41], [13, 188], [14, 399], [15, 29], [16, 232], [17, 308], [18, 408], [19, 299], [20, 44], [21, 121], [22, 220], [23, 238], [24, 172], [25, 240], [26, 282], [27, 101], [28, 203], [29, 30], [30, 198], [31, 309], [32, 248], [33, 199], [34, 281], [35, 195], [36, 93], [37, 124], [38, 368], [39, 50], [40, 353], [41, 346], [42, 415], [43, 133], [44, 24], [45, 403], [46, 289], [47, 18], [48, 280], [49, 286], [50, 347], [51, 300], [52, 94], [53, 367], [54, 407], [55, 206], [56, 249], [57, 138], [58, 272], [59, 58], [60, 366], [61, 391], [62, 157], [63, 214], [64, 303], [65, 55], [66, 143], [67, 112], [68, 357], [69, 139], [70, 318], [71, 231], [72, 342], [73, 323], [74, 372], [75, 236], [76, 292], [77, 137], [78, 217], [79, 13], [80, 316], [81, 247], [82, 242], [83, 201], [84, 171], [85, 28], [86, 2], [87, 360], [88, 120], [89, 301], [90, 284], [91, 47], [92, 196], [93, 377], [94, 77], [95, 148], [96, 343], [97, 23], [98, 111], [99, 417], [100, 241], [101, 71], [102, 392], [103, 379], [104, 229], [105, 310], [106, 358], [107, 290], [108, 11], [109, 123], [110, 62], [111, 48], [112, 210], [113, 406], [114, 103], [115, 16], [116, 46], [117, 216], [118, 225], [119, 193], [120, 87], [121, 122], [122, 424], [123, 257], [124, 373], [125, 370], [126, 338], [127, 321], [128, 132], [129, 0], [130, 153], [131, 72], [132, 243], [133, 97], [134, 404], [135, 319], [136, 287], [137, 418], [138, 255], [139, 389], [140, 40], [141, 39], [142, 106], [143, 306], [144, 398], [145, 394], [146, 43], [147, 422], [148, 411], [149, 162], [150, 78], [151, 89], [152, 349], [153, 329], [154, 207], [155, 291], [156, 45], [157, 42], [158, 176], [159, 119], [160, 371], [161, 331], [162, 250], [163, 253], [164, 384], [165, 218], [166, 192], [167, 174], [168, 224], [169, 345], [170, 315], [171, 328], [172, 339], [173, 332], [174, 402], [175, 147], [176, 160], [177, 131], [178, 381], [179, 334], [180, 223], [181, 340], [182, 302], [183, 237], [184, 356], [185, 152], [186, 184], [187, 164], [188, 298], [189, 146], [190, 83], [191, 263], [192, 158], [193, 215], [194, 376], [195, 258], [196, 90], [197, 333], [198, 230], [199, 234], [200, 251], [201, 76], [202, 387], [203, 163], [204, 421], [205, 118], [206, 228], [207, 67], [208, 222], [209, 314], [210, 92], [211, 246], [212, 12], [213, 181], [214, 327], [215, 285], [216, 401], [217, 69], [218, 239], [219, 14], [220, 7], [221, 355], [222, 99], [223, 63], [224, 405], [225, 56], [226, 88], [227, 348], [228, 393], [229, 35], [230, 305], [231, 200], [232, 226], [233, 324], [234, 84], [235, 386], [236, 359], [237, 344], [238, 79], [239, 26], [240, 270], [241, 114], [242, 1], [243, 400], [244, 269], [245, 105], [246, 15], [247, 219], [248, 66], [249, 382], [250, 100], [251, 276], [252, 159], [253, 283], [254, 317], [255, 179], [256, 145], [257, 151], [258, 177], [259, 25], [260, 91], [261, 95], [262, 81], [263, 365], [264, 6], [265, 288], [266, 261], [267, 140], [268, 423], [269, 113], [270, 116], [271, 130], [272, 259], [273, 134], [274, 362], [275, 296], [276, 416], [277, 410], [278, 363], [279, 27], [280, 70], [281, 82], [282, 168], [283, 115], [284, 278], [285, 395], [286, 68], [287, 36], [288, 279], [289, 169], [290, 388], [291, 267], [292, 57], [293, 304], [294, 375], [295, 254], [296, 183], [297, 335], [298, 125], [299, 96], [300, 154], [301, 277], [302, 189], [303, 352], [304, 142], [305, 227], [306, 173], [307, 187], [308, 185], [309, 221], [310, 156], [311, 98], [312, 104], [313, 5], [314, 22], [315, 144], [316, 320], [317, 190], [318, 135], [319, 260], [320, 380], [321, 427], [322, 75], [323, 186], [324, 361], [325, 34], [326, 150], [327, 197], [328, 149], [329, 274], [330, 378], [331, 80], [332, 178], [333, 262], [334, 326]]\n"
     ]
    }
   ],
   "source": [
    "import numpy as np\n",
    "from scipy.optimize import linear_sum_assignment\n",
    "\n",
    "def create_problem_and_solve(A):\n",
    "    A = np.array(A)  # Ensure A is a NumPy array\n",
    "    # Use the Hungarian algorithm (Kuhn-Munkres algorithm) to find the optimal assignment\n",
    "    row_ind, col_ind = linear_sum_assignment(A)\n",
    "    \n",
    "    # Create a matrix to represent the assignment\n",
    "    allocation = np.zeros_like(A)\n",
    "    allocation[row_ind, col_ind] = 1\n",
    "\n",
    "    result = []\n",
    "\n",
    "    for i, row in enumerate(allocation):\n",
    "        # find the index of the 1 in the row\n",
    "        idx = np.where(row == 1)[0][0]\n",
    "        result.append([i, idx])\n",
    "\n",
    "    return result\n",
    "\n",
    "result = create_problem_and_solve(student_project)\n",
    "print(result)"
   ]
  },
  {
   "cell_type": "code",
   "execution_count": 47,
   "metadata": {},
   "outputs": [
    {
     "data": {
      "text/plain": [
       "student_id                                               201393620\n",
       "programme                                   Bioveterinary Sciences\n",
       "types            Laboratory,Field,Systematic Review,Image analy...\n",
       "keywords         Ruminant health and welfare,Parasitology and v...\n",
       "prerequisites      LIFE212,LIFE216,LIFE223,LIFE230,LIFE239,LIFE240\n",
       "Name: 9, dtype: object"
      ]
     },
     "execution_count": 47,
     "metadata": {},
     "output_type": "execute_result"
    }
   ],
   "source": [
    "students.iloc[9]"
   ]
  },
  {
   "cell_type": "code",
   "execution_count": 49,
   "metadata": {},
   "outputs": [
    {
     "data": {
      "text/plain": [
       "username                                               venera\n",
       "keywords        Parasitology and vector borne disease,Ecology\n",
       "types                                              Laboratory\n",
       "prerequisite                                              NaN\n",
       "Name: 390, dtype: object"
      ]
     },
     "execution_count": 49,
     "metadata": {},
     "output_type": "execute_result"
    }
   ],
   "source": [
    "projects.iloc[390]"
   ]
  },
  {
   "cell_type": "code",
   "execution_count": 32,
   "metadata": {},
   "outputs": [],
   "source": [
    "def find_project_index(result):\n",
    "    # return index of list where 1 is\n",
    "    return [i for i, x in enumerate(result) if x == 1][0]"
   ]
  },
  {
   "cell_type": "code",
   "execution_count": 37,
   "metadata": {},
   "outputs": [
    {
     "data": {
      "text/plain": [
       "241"
      ]
     },
     "execution_count": 37,
     "metadata": {},
     "output_type": "execute_result"
    }
   ],
   "source": [
    "find_project_index(result[100])"
   ]
  },
  {
   "cell_type": "code",
   "execution_count": 40,
   "metadata": {},
   "outputs": [
    {
     "data": {
      "text/plain": [
       "username                                                 njeffery\n",
       "keywords        Anatomy,Biomechanics,Neurobiology and Neuropat...\n",
       "types                                               Data analysis\n",
       "prerequisite                                              LIFE218\n",
       "Name: 241, dtype: object"
      ]
     },
     "execution_count": 40,
     "metadata": {},
     "output_type": "execute_result"
    }
   ],
   "source": [
    "projects.iloc[241]"
   ]
  },
  {
   "cell_type": "code",
   "execution_count": 39,
   "metadata": {},
   "outputs": [
    {
     "data": {
      "text/plain": [
       "student_id                                               201590227\n",
       "programme                                Anatomy and Human Biology\n",
       "types            Health Research,Grant proposal,Laboratory,Fiel...\n",
       "keywords         Neurobiology and Neuropathology,Biomechanics,M...\n",
       "prerequisites    LIFE204,LIFE205,LIFE218,LIFE219,LIFE220,LIFE22...\n",
       "Name: 100, dtype: object"
      ]
     },
     "execution_count": 39,
     "metadata": {},
     "output_type": "execute_result"
    }
   ],
   "source": [
    "students.iloc[100]"
   ]
  },
  {
   "cell_type": "code",
   "execution_count": null,
   "metadata": {},
   "outputs": [],
   "source": []
  }
 ],
 "metadata": {
  "kernelspec": {
   "display_name": "Python 3",
   "language": "python",
   "name": "python3"
  },
  "language_info": {
   "codemirror_mode": {
    "name": "ipython",
    "version": 3
   },
   "file_extension": ".py",
   "mimetype": "text/x-python",
   "name": "python",
   "nbconvert_exporter": "python",
   "pygments_lexer": "ipython3",
   "version": "3.12.0"
  }
 },
 "nbformat": 4,
 "nbformat_minor": 2
}
