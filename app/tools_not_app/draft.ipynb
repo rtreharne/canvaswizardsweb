{
 "cells": [
  {
   "cell_type": "code",
   "execution_count": 1,
   "metadata": {},
   "outputs": [],
   "source": [
    "from canvasapi import Canvas"
   ]
  },
  {
   "cell_type": "code",
   "execution_count": 2,
   "metadata": {},
   "outputs": [],
   "source": [
    "API_URL = \"https://canvas.liverpool.ac.uk\"\n",
    "API_TOKEN = \"15502~9zMrJhn63xarJnB8FRQGPcRvvJzY2P74LLQC6AYKaYMmQun9eBLkhcHHNeYwYCNG\""
   ]
  },
  {
   "cell_type": "code",
   "execution_count": 3,
   "metadata": {},
   "outputs": [],
   "source": [
    "canvas = Canvas(API_URL, API_TOKEN)"
   ]
  },
  {
   "cell_type": "code",
   "execution_count": 4,
   "metadata": {},
   "outputs": [],
   "source": [
    "course = canvas.get_course(\"LIFE101-202324\", use_sis_id=True)"
   ]
  },
  {
   "cell_type": "code",
   "execution_count": 5,
   "metadata": {},
   "outputs": [],
   "source": [
    "def get_enrollments_by_user_id(course, user_id, enrollment_type=\"TeacherEnrollment\"):\n",
    "    enrollments = [x for x in course.get_enrollments(user_id=user_id) if x.type == enrollment_type]\n",
    "    if len(enrollments) > 0:\n",
    "        return enrollments[0]"
   ]
  },
  {
   "cell_type": "code",
   "execution_count": 6,
   "metadata": {},
   "outputs": [],
   "source": [
    "enrollments = get_enrollments_by_user_id(course, 101)"
   ]
  },
  {
   "cell_type": "code",
   "execution_count": 7,
   "metadata": {},
   "outputs": [
    {
     "data": {
      "text/plain": [
       "Enrollment(_requester=<canvasapi.requester.Requester object at 0x000002668FC88860>, id=3257570, user_id=101, course_id=70002, type=TeacherEnrollment, created_at=2023-05-31T03:24:07Z, created_at_date=2023-05-31 03:24:07+00:00, updated_at=2024-06-28T08:48:59Z, updated_at_date=2024-06-28 08:48:59+00:00, associated_user_id=None, start_at=None, end_at=None, course_section_id=72324, root_account_id=1, limit_privileges_to_course_section=False, enrollment_state=active, role=TeacherEnrollment, role_id=4, last_activity_at=2024-07-01T05:58:27Z, last_activity_at_date=2024-07-01 05:58:27+00:00, last_attended_at=None, total_activity_time=38714, sis_account_id=OX, sis_course_id=LIFE101-202324, course_integration_id=None, sis_section_id=None, section_integration_id=None, sis_user_id=442673treharne, html_url=https://canvas.liverpool.ac.uk/courses/70002/users/101, user={'id': 101, 'name': 'Robert Treharne', 'created_at': '2019-11-26T15:23:49+00:00', 'sortable_name': 'Treharne, Robert', 'short_name': 'Robert Treharne', 'sis_user_id': '442673treharne', 'integration_id': None, 'login_id': 'treharne@liverpool.ac.uk', 'pronouns': 'He/Him'})"
      ]
     },
     "execution_count": 7,
     "metadata": {},
     "output_type": "execute_result"
    }
   ],
   "source": [
    "enrollments.deactive"
   ]
  },
  {
   "cell_type": "code",
   "execution_count": 28,
   "metadata": {},
   "outputs": [
    {
     "name": "stdout",
     "output_type": "stream",
     "text": [
      "School of Life Sciences (409)\n",
      "School of Life Sciences 201617 (502)\n",
      "School of Life Sciences 201718 (610)\n",
      "School of Life Sciences 201819 (718)\n",
      "School of Life Sciences 201920 (828)\n",
      "School of Life Sciences 202021 (936)\n"
     ]
    }
   ],
   "source": [
    "for a in accounts:\n",
    "    print(a)"
   ]
  },
  {
   "cell_type": "code",
   "execution_count": 47,
   "metadata": {},
   "outputs": [],
   "source": [
    "import requests\n",
    "\n",
    "def user_search(account_id, user):\n",
    "    url = f\"https://canvas.liverpool.ac.uk/api/v1/accounts/{account_id}/users\"\n",
    "    params = {\n",
    "        \"search_term\": user\n",
    "    }\n",
    "    headers = {\n",
    "        \"Authorization\": f\"Bearer {API_TOKEN}\"\n",
    "    }\n",
    "    response = requests.get(url, params=params, headers=headers)\n",
    "    return response"
   ]
  },
  {
   "cell_type": "code",
   "execution_count": 52,
   "metadata": {},
   "outputs": [],
   "source": [
    "def account_user(canvas, user):\n",
    "    accounts = [x for x in canvas.get_accounts()]\n",
    "\n",
    "    for a in accounts:\n",
    "        response = user_search(a.id, \"treharne@liverpool.ac.uk\")\n",
    "        print(response.status_code)\n",
    "        if response.status_code == 200:\n",
    "            return response.json()\n"
   ]
  },
  {
   "cell_type": "code",
   "execution_count": 53,
   "metadata": {},
   "outputs": [
    {
     "name": "stdout",
     "output_type": "stream",
     "text": [
      "200\n"
     ]
    }
   ],
   "source": [
    "user = account_user(canvas, \"treharne@liverpool.ac.uk\")"
   ]
  },
  {
   "cell_type": "code",
   "execution_count": 54,
   "metadata": {},
   "outputs": [
    {
     "data": {
      "text/plain": [
       "[{'id': 101,\n",
       "  'name': 'Robert Treharne',\n",
       "  'created_at': '2019-11-26T15:23:49+00:00',\n",
       "  'sortable_name': 'Treharne, Robert',\n",
       "  'short_name': 'Robert Treharne',\n",
       "  'sis_user_id': '442673treharne',\n",
       "  'integration_id': None,\n",
       "  'login_id': 'treharne@liverpool.ac.uk',\n",
       "  'pronouns': 'He/Him'}]"
      ]
     },
     "execution_count": 54,
     "metadata": {},
     "output_type": "execute_result"
    }
   ],
   "source": [
    "user"
   ]
  },
  {
   "cell_type": "code",
   "execution_count": null,
   "metadata": {},
   "outputs": [],
   "source": []
  }
 ],
 "metadata": {
  "kernelspec": {
   "display_name": "Python 3",
   "language": "python",
   "name": "python3"
  },
  "language_info": {
   "codemirror_mode": {
    "name": "ipython",
    "version": 3
   },
   "file_extension": ".py",
   "mimetype": "text/x-python",
   "name": "python",
   "nbconvert_exporter": "python",
   "pygments_lexer": "ipython3",
   "version": "3.12.0"
  }
 },
 "nbformat": 4,
 "nbformat_minor": 2
}
