{
 "cells": [
  {
   "cell_type": "code",
   "execution_count": 13,
   "metadata": {},
   "outputs": [],
   "source": [
    "from canvasapi import Canvas"
   ]
  },
  {
   "cell_type": "code",
   "execution_count": 15,
   "metadata": {},
   "outputs": [],
   "source": [
    "API_URL = \"https://canvas.liverpool.ac.uk\"\n",
    "API_TOKEN = \"15502~HMyPhBLvKVH8YEaUBmXRUzUkWAD7FkCxYBefACeGhFDLETzTfL7HRQ6R3KAxFuzC\""
   ]
  },
  {
   "cell_type": "code",
   "execution_count": 23,
   "metadata": {},
   "outputs": [],
   "source": [
    "canvas = Canvas(API_URL, API_TOKEN)"
   ]
  },
  {
   "cell_type": "code",
   "execution_count": 24,
   "metadata": {},
   "outputs": [],
   "source": [
    "course = canvas.get_course(\"LIFE101-202324\", use_sis_id=True)"
   ]
  },
  {
   "cell_type": "code",
   "execution_count": 27,
   "metadata": {},
   "outputs": [],
   "source": [
    "accounts = [x for x in canvas.get_accounts()]"
   ]
  },
  {
   "cell_type": "code",
   "execution_count": 28,
   "metadata": {},
   "outputs": [
    {
     "name": "stdout",
     "output_type": "stream",
     "text": [
      "School of Life Sciences (409)\n",
      "School of Life Sciences 201617 (502)\n",
      "School of Life Sciences 201718 (610)\n",
      "School of Life Sciences 201819 (718)\n",
      "School of Life Sciences 201920 (828)\n",
      "School of Life Sciences 202021 (936)\n"
     ]
    }
   ],
   "source": [
    "for a in accounts:\n",
    "    print(a)"
   ]
  },
  {
   "cell_type": "code",
   "execution_count": 47,
   "metadata": {},
   "outputs": [],
   "source": [
    "import requests\n",
    "\n",
    "def user_search(account_id, user):\n",
    "    url = f\"https://canvas.liverpool.ac.uk/api/v1/accounts/{account_id}/users\"\n",
    "    params = {\n",
    "        \"search_term\": \"treharne@liverpool.ac.uk\"\n",
    "    }\n",
    "    headers = {\n",
    "        \"Authorization\": f\"Bearer {API_TOKEN}\"\n",
    "    }\n",
    "    response = requests.get(url, params=params, headers=headers)\n",
    "    return response"
   ]
  },
  {
   "cell_type": "code",
   "execution_count": 52,
   "metadata": {},
   "outputs": [],
   "source": [
    "def account_user(canvas, user):\n",
    "    accounts = [x for x in canvas.get_accounts()]\n",
    "\n",
    "    for a in accounts:\n",
    "        response = user_search(a.id, \"treharne@liverpool.ac.uk\")\n",
    "        print(response.status_code)\n",
    "        if response.status_code == 200:\n",
    "            return response.json()\n"
   ]
  },
  {
   "cell_type": "code",
   "execution_count": 53,
   "metadata": {},
   "outputs": [
    {
     "name": "stdout",
     "output_type": "stream",
     "text": [
      "200\n"
     ]
    }
   ],
   "source": [
    "user = account_user(canvas, \"treharne@liverpool.ac.uk\")"
   ]
  },
  {
   "cell_type": "code",
   "execution_count": 54,
   "metadata": {},
   "outputs": [
    {
     "data": {
      "text/plain": [
       "[{'id': 101,\n",
       "  'name': 'Robert Treharne',\n",
       "  'created_at': '2019-11-26T15:23:49+00:00',\n",
       "  'sortable_name': 'Treharne, Robert',\n",
       "  'short_name': 'Robert Treharne',\n",
       "  'sis_user_id': '442673treharne',\n",
       "  'integration_id': None,\n",
       "  'login_id': 'treharne@liverpool.ac.uk',\n",
       "  'pronouns': 'He/Him'}]"
      ]
     },
     "execution_count": 54,
     "metadata": {},
     "output_type": "execute_result"
    }
   ],
   "source": [
    "user"
   ]
  },
  {
   "cell_type": "code",
   "execution_count": null,
   "metadata": {},
   "outputs": [],
   "source": []
  }
 ],
 "metadata": {
  "kernelspec": {
   "display_name": "Python 3",
   "language": "python",
   "name": "python3"
  },
  "language_info": {
   "codemirror_mode": {
    "name": "ipython",
    "version": 3
   },
   "file_extension": ".py",
   "mimetype": "text/x-python",
   "name": "python",
   "nbconvert_exporter": "python",
   "pygments_lexer": "ipython3",
   "version": "3.12.0"
  }
 },
 "nbformat": 4,
 "nbformat_minor": 2
}
