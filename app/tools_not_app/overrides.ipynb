{
 "cells": [
  {
   "cell_type": "code",
   "execution_count": 2,
   "metadata": {},
   "outputs": [],
   "source": [
    "from canvasapi import Canvas"
   ]
  },
  {
   "cell_type": "code",
   "execution_count": 51,
   "metadata": {},
   "outputs": [],
   "source": [
    "CANVAS_URL = \"https://canvas.liverpool.ac.uk\"\n",
    "CANVAS_TOKEN = \"\""
   ]
  },
  {
   "cell_type": "code",
   "execution_count": 6,
   "metadata": {},
   "outputs": [],
   "source": [
    "canvas = Canvas(CANVAS_URL, CANVAS_TOKEN)"
   ]
  },
  {
   "cell_type": "code",
   "execution_count": 7,
   "metadata": {},
   "outputs": [],
   "source": [
    "course_id = 68788\n",
    "assignment_id = 259524"
   ]
  },
  {
   "cell_type": "code",
   "execution_count": 8,
   "metadata": {},
   "outputs": [],
   "source": [
    "assignment = canvas.get_course(course_id).get_assignment(assignment_id)"
   ]
  },
  {
   "cell_type": "code",
   "execution_count": 9,
   "metadata": {},
   "outputs": [],
   "source": [
    "overrides = [x for x in assignment.get_overrides()]"
   ]
  },
  {
   "cell_type": "code",
   "execution_count": 12,
   "metadata": {},
   "outputs": [
    {
     "data": {
      "text/plain": [
       "[AssignmentOverride(_requester=<canvasapi.requester.Requester object at 0x000001815D8850A0>, id=37178, assignment_id=259524, title=28 students, due_at=2024-08-09T16:00:00Z, due_at_date=2024-08-09 16:00:00+00:00, all_day=False, all_day_date=2024-08-09, all_day_date_date=2024-08-09 00:00:00+00:00, unlock_at=2024-08-05T08:00:00Z, unlock_at_date=2024-08-05 08:00:00+00:00, lock_at=2024-08-09T16:00:00Z, lock_at_date=2024-08-09 16:00:00+00:00, quiz_id=155653, unassign_item=False, student_ids=[9483, 73435, 103818, 110940, 111177, 112030, 131258, 132708, 135041, 135798, 136801, 137154, 137879, 139516, 140168, 140947, 141578, 141611, 141633, 141662, 141738, 141784, 142253, 142405, 143220, 144792, 146825, 146990], course_id=68788)]"
      ]
     },
     "execution_count": 12,
     "metadata": {},
     "output_type": "execute_result"
    }
   ],
   "source": [
    "len()"
   ]
  },
  {
   "cell_type": "code",
   "execution_count": 17,
   "metadata": {},
   "outputs": [],
   "source": [
    "user = canvas.get_user(73435, include=[\"profile\"])"
   ]
  },
  {
   "cell_type": "code",
   "execution_count": 15,
   "metadata": {},
   "outputs": [],
   "source": [
    "profile = user.get_profile()"
   ]
  },
  {
   "cell_type": "code",
   "execution_count": 24,
   "metadata": {},
   "outputs": [
    {
     "data": {
      "text/plain": [
       "{'id': 73435,\n",
       " 'name': 'Olivia Chaplin',\n",
       " 'short_name': 'Olivia Chaplin',\n",
       " 'sortable_name': 'Chaplin, Olivia',\n",
       " 'avatar_url': 'https://canvas.liverpool.ac.uk/images/messages/avatar-50.png',\n",
       " 'pronouns': 'She/Her',\n",
       " 'title': None,\n",
       " 'bio': None,\n",
       " 'pronunciation': None,\n",
       " 'primary_email': 'psochapl@liverpool.ac.uk',\n",
       " 'login_id': 'psochapl@liverpool.ac.uk',\n",
       " 'sis_user_id': '201590222psochapl',\n",
       " 'integration_id': None,\n",
       " 'time_zone': 'Europe/London',\n",
       " 'locale': None}"
      ]
     },
     "execution_count": 24,
     "metadata": {},
     "output_type": "execute_result"
    }
   ],
   "source": [
    "profile"
   ]
  },
  {
   "cell_type": "code",
   "execution_count": 21,
   "metadata": {},
   "outputs": [],
   "source": [
    "import pandas as pd\n",
    "from tqdm import tqdm"
   ]
  },
  {
   "cell_type": "code",
   "execution_count": 20,
   "metadata": {},
   "outputs": [],
   "source": [
    "data = pd.read_csv(\"Assignment.csv\")"
   ]
  },
  {
   "cell_type": "code",
   "execution_count": 46,
   "metadata": {},
   "outputs": [],
   "source": [
    "def get_assignment_overrides(assignment):\n",
    "    \n",
    "    try:\n",
    "        student_ids = []\n",
    "        [student_ids.extend(x.student_ids) for x in assignment.get_overrides()]\n",
    "    except:\n",
    "        return None\n",
    "    return student_ids\n",
    "\n",
    "def get_student_profile(user_id):\n",
    "    profile = canvas.get_user(user_id).get_profile()\n",
    "    return profile"
   ]
  },
  {
   "cell_type": "code",
   "execution_count": 28,
   "metadata": {},
   "outputs": [],
   "source": [
    "sample = data[data[\"assignment_id\"] == 259524]"
   ]
  },
  {
   "cell_type": "code",
   "execution_count": 29,
   "metadata": {},
   "outputs": [
    {
     "data": {
      "text/html": [
       "<div>\n",
       "<style scoped>\n",
       "    .dataframe tbody tr th:only-of-type {\n",
       "        vertical-align: middle;\n",
       "    }\n",
       "\n",
       "    .dataframe tbody tr th {\n",
       "        vertical-align: top;\n",
       "    }\n",
       "\n",
       "    .dataframe thead th {\n",
       "        text-align: right;\n",
       "    }\n",
       "</style>\n",
       "<table border=\"1\" class=\"dataframe\">\n",
       "  <thead>\n",
       "    <tr style=\"text-align: right;\">\n",
       "      <th></th>\n",
       "      <th>id</th>\n",
       "      <th>department</th>\n",
       "      <th>assignment_name</th>\n",
       "      <th>course</th>\n",
       "      <th>points_possible</th>\n",
       "      <th>assignment_id</th>\n",
       "      <th>unlock_at</th>\n",
       "      <th>lock_at</th>\n",
       "      <th>due_at</th>\n",
       "      <th>url</th>\n",
       "      <th>...</th>\n",
       "      <th>quiz</th>\n",
       "      <th>sas_exam</th>\n",
       "      <th>average_score</th>\n",
       "      <th>type</th>\n",
       "      <th>has_overrides</th>\n",
       "      <th>posted_at</th>\n",
       "      <th>rollover_to_course</th>\n",
       "      <th>previous_term_assignment</th>\n",
       "      <th>assignment_type</th>\n",
       "      <th>rubric_title</th>\n",
       "    </tr>\n",
       "  </thead>\n",
       "  <tbody>\n",
       "    <tr>\n",
       "      <th>420</th>\n",
       "      <td>716213</td>\n",
       "      <td>School of Life Sciences</td>\n",
       "      <td>RESIT LIFE113.0 (60%) - Test 2</td>\n",
       "      <td>LIFE113-202324</td>\n",
       "      <td>100.0</td>\n",
       "      <td>259524</td>\n",
       "      <td>2024-08-05 08:00:00+00:00</td>\n",
       "      <td>2024-08-09 16:00:00+00:00</td>\n",
       "      <td>NaN</td>\n",
       "      <td>https://canvas.liverpool.ac.uk/courses/68788/a...</td>\n",
       "      <td>...</td>\n",
       "      <td>True</td>\n",
       "      <td>False</td>\n",
       "      <td>63.8</td>\n",
       "      <td>['online_quiz']</td>\n",
       "      <td>True</td>\n",
       "      <td>NaN</td>\n",
       "      <td>NaN</td>\n",
       "      <td>NaN</td>\n",
       "      <td>Online test 60 mins UG/PG</td>\n",
       "      <td>NaN</td>\n",
       "    </tr>\n",
       "  </tbody>\n",
       "</table>\n",
       "<p>1 rows × 28 columns</p>\n",
       "</div>"
      ],
      "text/plain": [
       "         id               department                 assignment_name  \\\n",
       "420  716213  School of Life Sciences  RESIT LIFE113.0 (60%) - Test 2   \n",
       "\n",
       "             course  points_possible  assignment_id  \\\n",
       "420  LIFE113-202324            100.0         259524   \n",
       "\n",
       "                     unlock_at                    lock_at due_at  \\\n",
       "420  2024-08-05 08:00:00+00:00  2024-08-09 16:00:00+00:00    NaN   \n",
       "\n",
       "                                                   url  ...  quiz  sas_exam  \\\n",
       "420  https://canvas.liverpool.ac.uk/courses/68788/a...  ...  True     False   \n",
       "\n",
       "     average_score             type  has_overrides  posted_at  \\\n",
       "420           63.8  ['online_quiz']           True        NaN   \n",
       "\n",
       "     rollover_to_course  previous_term_assignment            assignment_type  \\\n",
       "420                 NaN                       NaN  Online test 60 mins UG/PG   \n",
       "\n",
       "     rubric_title  \n",
       "420           NaN  \n",
       "\n",
       "[1 rows x 28 columns]"
      ]
     },
     "execution_count": 29,
     "metadata": {},
     "output_type": "execute_result"
    }
   ],
   "source": [
    "sample"
   ]
  },
  {
   "cell_type": "code",
   "execution_count": 50,
   "metadata": {},
   "outputs": [
    {
     "name": "stderr",
     "output_type": "stream",
     "text": [
      "  0%|          | 1/422 [00:01<12:45,  1.82s/it]"
     ]
    },
    {
     "name": "stdout",
     "output_type": "stream",
     "text": [
      "202324-LIFE107 - EXPERIMENTAL SKILLS IN CURRENT BIOLOGY RESIT LIFE107.0 (30%) LIFE107 Cycle 2 Assessment  21/22  []\n"
     ]
    },
    {
     "name": "stderr",
     "output_type": "stream",
     "text": [
      "  0%|          | 2/422 [00:02<07:22,  1.05s/it]"
     ]
    },
    {
     "name": "stdout",
     "output_type": "stream",
     "text": [
      "202324-LIFE107 - EXPERIMENTAL SKILLS IN CURRENT BIOLOGY RESIT LIFE107.1 (20%) Abstract submission link  []\n"
     ]
    },
    {
     "name": "stderr",
     "output_type": "stream",
     "text": [
      "  1%|          | 3/422 [00:02<05:45,  1.21it/s]"
     ]
    },
    {
     "name": "stdout",
     "output_type": "stream",
     "text": [
      "202324-LIFE215 - Veterinary Form and Function Life 215 Cycle 1 resit (40%) []\n"
     ]
    },
    {
     "name": "stderr",
     "output_type": "stream",
     "text": [
      "  1%|          | 4/422 [00:03<04:50,  1.44it/s]"
     ]
    },
    {
     "name": "stdout",
     "output_type": "stream",
     "text": [
      "202324-LIFE215 - Veterinary Form and Function Life 215 Cycle 2 resit (60%) []\n"
     ]
    },
    {
     "name": "stderr",
     "output_type": "stream",
     "text": [
      "  1%|          | 5/422 [00:03<03:43,  1.87it/s]"
     ]
    },
    {
     "name": "stdout",
     "output_type": "stream",
     "text": [
      "202324-LIFE237 - Molecular Science RESIT LIFE237.0 (40%) Summative Test [85671, 104249, 111701]\n"
     ]
    },
    {
     "name": "stderr",
     "output_type": "stream",
     "text": [
      "  3%|▎         | 13/422 [00:09<02:57,  2.31it/s]"
     ]
    },
    {
     "name": "stdout",
     "output_type": "stream",
     "text": [
      "202324-LIFE324 - CURRENT SKILLS AND TOPICS IN EVOLUTIONARY BIOLOGY RESIT LIFE324.1 (40%) Cycle 1 Submission []\n"
     ]
    },
    {
     "name": "stderr",
     "output_type": "stream",
     "text": [
      "  3%|▎         | 14/422 [00:09<03:06,  2.19it/s]"
     ]
    },
    {
     "name": "stdout",
     "output_type": "stream",
     "text": [
      "202324-LIFE324 - CURRENT SKILLS AND TOPICS IN EVOLUTIONARY BIOLOGY RESIT LIFE324.0 (60%)  CYCLE 2 []\n"
     ]
    },
    {
     "name": "stderr",
     "output_type": "stream",
     "text": [
      "  4%|▎         | 15/422 [00:10<03:34,  1.90it/s]"
     ]
    },
    {
     "name": "stdout",
     "output_type": "stream",
     "text": [
      "202324-LIFE224 - Advanced Biochemical Techniques LIFE224.1  Coursework resit []\n",
      "202324-LIFE237 - Molecular Science RESIT LIFE237.1 (30%) - Abstract/Comprehension 1 [113109]\n"
     ]
    },
    {
     "name": "stderr",
     "output_type": "stream",
     "text": [
      "  4%|▍         | 16/422 [00:11<05:20,  1.27it/s]"
     ]
    },
    {
     "name": "stdout",
     "output_type": "stream",
     "text": [
      "202324-LIFE237 - Molecular Science RESIT LIFE237.2 (30%) - Abstract/Comprehension 2 [113109]\n"
     ]
    },
    {
     "name": "stderr",
     "output_type": "stream",
     "text": [
      "  4%|▍         | 17/422 [00:13<06:48,  1.01s/it]"
     ]
    },
    {
     "name": "stdout",
     "output_type": "stream",
     "text": [
      "202324-LIFE243 - Bird Ecology Identification and Conservation LIFE243 RESIT Exam - 40% Cycle 1 [104587, 104843, 113027]\n"
     ]
    },
    {
     "name": "stderr",
     "output_type": "stream",
     "text": [
      "  5%|▍         | 19/422 [00:16<08:49,  1.31s/it]"
     ]
    },
    {
     "name": "stdout",
     "output_type": "stream",
     "text": [
      "202324-LIFE205 - The Multicellular Organism: tissues development regeneration and aging RESIT LIFE205.0 (60%) Cycle 2_FINAL- Requires Respondus LockDown Browser [34362, 61368, 62548, 82784, 83861, 85671, 85762, 86818, 110842]\n"
     ]
    },
    {
     "name": "stderr",
     "output_type": "stream",
     "text": [
      "  5%|▍         | 21/422 [00:26<18:00,  2.69s/it]"
     ]
    },
    {
     "name": "stdout",
     "output_type": "stream",
     "text": [
      "202324-LIFE112 - ANIMAL BIODIVERSITY RESIT LIFE112.1 (40%) Cycle 1 Test 23/24 []\n"
     ]
    },
    {
     "name": "stderr",
     "output_type": "stream",
     "text": [
      "  5%|▌         | 22/422 [00:26<13:32,  2.03s/it]"
     ]
    },
    {
     "name": "stdout",
     "output_type": "stream",
     "text": [
      "202324-LIFE110 - MICROBIOLOGY Resit Cycle 1 Part A []\n"
     ]
    },
    {
     "name": "stderr",
     "output_type": "stream",
     "text": [
      "  5%|▌         | 23/422 [00:27<10:24,  1.56s/it]"
     ]
    },
    {
     "name": "stdout",
     "output_type": "stream",
     "text": [
      "202324-LIFE110 - MICROBIOLOGY Resit, Cycle 1, Part A []\n",
      "202324-LIFE128 - Introduction to Genetics and Development RESIT LIFE128.0.1 (60%) MCQ Part 1 [104755, 135798, 142405]\n"
     ]
    },
    {
     "name": "stderr",
     "output_type": "stream",
     "text": [
      "  6%|▌         | 24/422 [00:30<13:26,  2.03s/it]"
     ]
    },
    {
     "name": "stdout",
     "output_type": "stream",
     "text": [
      "202324-LIFE128 - Introduction to Genetics and Development RESIT LIFE128.0.2 (60%) MCQ Part 2 [104755, 135798, 142405]\n"
     ]
    },
    {
     "name": "stderr",
     "output_type": "stream",
     "text": [
      "  6%|▋         | 27/422 [00:34<08:57,  1.36s/it]"
     ]
    },
    {
     "name": "stdout",
     "output_type": "stream",
     "text": [
      "202324-LIFE102 - BIOCHEMISTRY AND BIOMEDICAL SCIENCES RESIT LIFE102.1.1 (40%) C1T1 August [104755, 142405]\n"
     ]
    },
    {
     "name": "stderr",
     "output_type": "stream",
     "text": [
      "  7%|▋         | 28/422 [00:37<11:07,  1.69s/it]"
     ]
    },
    {
     "name": "stdout",
     "output_type": "stream",
     "text": [
      "202324-LIFE102 - BIOCHEMISTRY AND BIOMEDICAL SCIENCES RESIT LIFE102.1.2 (40%) C1T2 August [104755, 142405]\n"
     ]
    },
    {
     "name": "stderr",
     "output_type": "stream",
     "text": [
      "  7%|▋         | 29/422 [00:39<12:37,  1.93s/it]"
     ]
    },
    {
     "name": "stdout",
     "output_type": "stream",
     "text": [
      "202324-LIFE102 - BIOCHEMISTRY AND BIOMEDICAL SCIENCES RESIT LIFE102.0.1 (60%) C2T1 August [9483, 104755, 139480, 139605, 140011, 142405, 146050]\n"
     ]
    },
    {
     "name": "stderr",
     "output_type": "stream",
     "text": [
      "  7%|▋         | 30/422 [00:47<23:54,  3.66s/it]"
     ]
    },
    {
     "name": "stdout",
     "output_type": "stream",
     "text": [
      "202324-LIFE102 - BIOCHEMISTRY AND BIOMEDICAL SCIENCES RESIT LIFE102.0.2 (60%) C2T2 August [9483, 104755, 139480, 139605, 140011, 142405, 146050]\n"
     ]
    },
    {
     "name": "stderr",
     "output_type": "stream",
     "text": [
      "  8%|▊         | 34/422 [00:55<12:04,  1.87s/it]"
     ]
    },
    {
     "name": "stdout",
     "output_type": "stream",
     "text": [
      "202324-LIFE204 - Endocrine and Neuro-physiology LIFE204.0 RESIT Assessment (Cycle 2 - 60%)  []\n",
      "202324-LIFE112 - ANIMAL BIODIVERSITY RESIT LIFE112.0 (60%) Cycle 2 Test  23/24 [3450, 137057]\n"
     ]
    },
    {
     "name": "stderr",
     "output_type": "stream",
     "text": [
      "  8%|▊         | 35/422 [00:57<12:54,  2.00s/it]"
     ]
    },
    {
     "name": "stdout",
     "output_type": "stream",
     "text": [
      "202324-LIFE116 - CIRCULATORY AND RESPIRATORY ANATOMY LIFE116 Cycle 2 MCQ Resit - Requires Respondus LockDown Browser [112030, 135187, 139772, 143002]\n"
     ]
    },
    {
     "name": "stderr",
     "output_type": "stream",
     "text": [
      " 10%|█         | 43/422 [01:03<03:13,  1.96it/s]"
     ]
    },
    {
     "name": "stdout",
     "output_type": "stream",
     "text": [
      "202324-LIFE116 - CIRCULATORY AND RESPIRATORY ANATOMY RESIT LIFE116.2 (20%) Cycle 1 Poster []\n"
     ]
    },
    {
     "name": "stderr",
     "output_type": "stream",
     "text": [
      " 10%|█         | 44/422 [01:04<03:19,  1.90it/s]"
     ]
    },
    {
     "name": "stdout",
     "output_type": "stream",
     "text": [
      "202324-PHAR660 - PHARMACOLOGY RESEARCH PROJECTS RESIT Poster Submission - Marker 1 []\n"
     ]
    },
    {
     "name": "stderr",
     "output_type": "stream",
     "text": [
      " 11%|█         | 45/422 [01:05<03:17,  1.91it/s]"
     ]
    },
    {
     "name": "stdout",
     "output_type": "stream",
     "text": [
      "202324-PHAR660 - PHARMACOLOGY RESEARCH PROJECTS RESIT Poster Submission - Marker 2 []\n"
     ]
    },
    {
     "name": "stderr",
     "output_type": "stream",
     "text": [
      " 11%|█         | 46/422 [01:05<03:16,  1.91it/s]"
     ]
    },
    {
     "name": "stdout",
     "output_type": "stream",
     "text": [
      "202324-PHAR660 - PHARMACOLOGY RESEARCH PROJECTS RESIT Final Laboratory Report - Marker 1 []\n"
     ]
    },
    {
     "name": "stderr",
     "output_type": "stream",
     "text": [
      " 11%|█         | 47/422 [01:06<03:13,  1.94it/s]"
     ]
    },
    {
     "name": "stdout",
     "output_type": "stream",
     "text": [
      "202324-PHAR660 - PHARMACOLOGY RESEARCH PROJECTS RESIT Final Laboratory Report - Marker 2 []\n"
     ]
    },
    {
     "name": "stderr",
     "output_type": "stream",
     "text": [
      " 11%|█▏        | 48/422 [01:06<03:15,  1.91it/s]"
     ]
    },
    {
     "name": "stdout",
     "output_type": "stream",
     "text": [
      "202324-PHAR660 - PHARMACOLOGY RESEARCH PROJECTS RESIT Oral presentation slides - Marker 1  []\n"
     ]
    },
    {
     "name": "stderr",
     "output_type": "stream",
     "text": [
      " 12%|█▏        | 49/422 [01:07<03:14,  1.92it/s]"
     ]
    },
    {
     "name": "stdout",
     "output_type": "stream",
     "text": [
      "202324-PHAR660 - PHARMACOLOGY RESEARCH PROJECTS RESIT Oral presentation slides - Marker 2  []\n"
     ]
    },
    {
     "name": "stderr",
     "output_type": "stream",
     "text": [
      " 12%|█▏        | 50/422 [01:07<03:14,  1.91it/s]"
     ]
    },
    {
     "name": "stdout",
     "output_type": "stream",
     "text": [
      "202324-PHAR660 - PHARMACOLOGY RESEARCH PROJECTS RESIT Final library dissertation - Marker 1  []\n"
     ]
    },
    {
     "name": "stderr",
     "output_type": "stream",
     "text": [
      " 12%|█▏        | 51/422 [01:08<03:17,  1.88it/s]"
     ]
    },
    {
     "name": "stdout",
     "output_type": "stream",
     "text": [
      "202324-PHAR660 - PHARMACOLOGY RESEARCH PROJECTS RESIT Final library dissertation - Marker 2   []\n"
     ]
    },
    {
     "name": "stderr",
     "output_type": "stream",
     "text": [
      " 12%|█▏        | 52/422 [01:08<03:14,  1.91it/s]"
     ]
    },
    {
     "name": "stdout",
     "output_type": "stream",
     "text": [
      "202324-PHAR660 - PHARMACOLOGY RESEARCH PROJECTS RESIT Library Dissertation Draft []\n"
     ]
    },
    {
     "name": "stderr",
     "output_type": "stream",
     "text": [
      " 13%|█▎        | 53/422 [01:09<03:08,  1.96it/s]"
     ]
    },
    {
     "name": "stdout",
     "output_type": "stream",
     "text": [
      "202324-PHAR660 - PHARMACOLOGY RESEARCH PROJECTS RESIT Lab Report Draft []\n"
     ]
    },
    {
     "name": "stderr",
     "output_type": "stream",
     "text": [
      " 13%|█▎        | 54/422 [01:09<03:02,  2.02it/s]"
     ]
    },
    {
     "name": "stdout",
     "output_type": "stream",
     "text": [
      "202324-OX-399WBP23 - 399 Work Based Placement RESIT  Consultancy report []\n"
     ]
    },
    {
     "name": "stderr",
     "output_type": "stream",
     "text": [
      " 13%|█▎        | 55/422 [01:10<03:23,  1.81it/s]"
     ]
    },
    {
     "name": "stdout",
     "output_type": "stream",
     "text": [
      "202324-OX-RSRCINTNSP - LIFE701 Research Internship RESIT LIFE701.2 (10%) - Internship Talk (oral presentation) - Marker 1 []\n"
     ]
    },
    {
     "name": "stderr",
     "output_type": "stream",
     "text": [
      " 13%|█▎        | 56/422 [01:10<03:17,  1.85it/s]"
     ]
    },
    {
     "name": "stdout",
     "output_type": "stream",
     "text": [
      "202324-OX-RSRCINTNSP - LIFE701 Research Internship RESIT LIFE701.2 (10%) - Internship Talk (oral presentation) - Marker 2 []\n"
     ]
    },
    {
     "name": "stderr",
     "output_type": "stream",
     "text": [
      " 14%|█▎        | 57/422 [01:11<03:33,  1.71it/s]"
     ]
    },
    {
     "name": "stdout",
     "output_type": "stream",
     "text": [
      "202324-OX-RSRCINTNSP - LIFE701 Research Internship RESIT LIFE701.0 (65%) - Internship final report submission  []\n"
     ]
    },
    {
     "name": "stderr",
     "output_type": "stream",
     "text": [
      " 14%|█▎        | 58/422 [01:11<03:20,  1.82it/s]"
     ]
    },
    {
     "name": "stdout",
     "output_type": "stream",
     "text": [
      "202324-OX-RSRCINTNSP - LIFE701 Research Internship RESIT LIFE701.2 (10%) - Internship Talk (oral presentation) for students on placement - Marker 1 []\n"
     ]
    },
    {
     "name": "stderr",
     "output_type": "stream",
     "text": [
      " 14%|█▍        | 59/422 [01:12<03:14,  1.86it/s]"
     ]
    },
    {
     "name": "stdout",
     "output_type": "stream",
     "text": [
      "202324-OX-RSRCINTNSP - LIFE701 Research Internship RESIT LIFE701.2 (10%) - Internship Talk (oral presentation) for students on placement - Marker 2 []\n"
     ]
    },
    {
     "name": "stderr",
     "output_type": "stream",
     "text": [
      " 14%|█▍        | 60/422 [01:12<03:06,  1.94it/s]"
     ]
    },
    {
     "name": "stdout",
     "output_type": "stream",
     "text": [
      "202324-OX-RSRCINTNSP - LIFE701 Research Internship RESIT LIFE701.0 (65%) - Internship final report submission for placement students []\n"
     ]
    },
    {
     "name": "stderr",
     "output_type": "stream",
     "text": [
      " 14%|█▍        | 61/422 [01:13<03:07,  1.92it/s]"
     ]
    },
    {
     "name": "stdout",
     "output_type": "stream",
     "text": [
      "202324-LIFE766 - Frontiers in Drug Delivery and Advanced Therapeutics RESIT LIFE766 Cycle 1 Assessment (Marker 1) []\n"
     ]
    },
    {
     "name": "stderr",
     "output_type": "stream",
     "text": [
      " 15%|█▍        | 62/422 [01:14<03:14,  1.85it/s]"
     ]
    },
    {
     "name": "stdout",
     "output_type": "stream",
     "text": [
      "202324-LIFE766 - Frontiers in Drug Delivery and Advanced Therapeutics RESIT LIFE766 Written Report []\n"
     ]
    },
    {
     "name": "stderr",
     "output_type": "stream",
     "text": [
      " 15%|█▍        | 63/422 [01:14<03:09,  1.89it/s]"
     ]
    },
    {
     "name": "stdout",
     "output_type": "stream",
     "text": [
      "202324-LIFE764 - Experimental Medicine and Clinical Pharmacology RESIT LIFE764.1  Cycle 1 Presentation (40%) []\n"
     ]
    },
    {
     "name": "stderr",
     "output_type": "stream",
     "text": [
      " 15%|█▌        | 64/422 [01:15<03:05,  1.93it/s]"
     ]
    },
    {
     "name": "stdout",
     "output_type": "stream",
     "text": [
      "202324-LIFE764 - Experimental Medicine and Clinical Pharmacology RESIT LIFE764.0  Cycle 2 Written Report (60%) []\n",
      "202324-LIFE765 - Pharmaceutical Toxicology RESIT LIFE765.1.1  (50%) - Cycle 1  [137308]\n"
     ]
    },
    {
     "name": "stderr",
     "output_type": "stream",
     "text": [
      " 15%|█▌        | 65/422 [01:16<04:31,  1.32it/s]"
     ]
    },
    {
     "name": "stdout",
     "output_type": "stream",
     "text": [
      "202324-LIFE765 - Pharmaceutical Toxicology RESIT LIFE765.0.1  (50%) - Cycle 2  [134918, 137308]\n"
     ]
    },
    {
     "name": "stderr",
     "output_type": "stream",
     "text": [
      " 16%|█▌        | 66/422 [01:18<07:35,  1.28s/it]"
     ]
    },
    {
     "name": "stdout",
     "output_type": "stream",
     "text": [
      "202324-OX-LIFE223QS - Essential Skill for the Life Sciences - Quantitative Skills RESIT LIFE223.2.2 (20%) Poster Submission [7523, 54716, 108965, 117151]\n"
     ]
    },
    {
     "name": "stderr",
     "output_type": "stream",
     "text": [
      " 16%|█▌        | 67/422 [01:23<13:27,  2.27s/it]"
     ]
    },
    {
     "name": "stdout",
     "output_type": "stream",
     "text": [
      "202324-LIFE763 - STATISTICS FOR BIOLOGICAL RESEARCH RESIT LIFE763.0 (40%) SAQ On Campus Examination  [132452, 132506, 132600, 133594, 133977, 134453, 135793, 135886, 136368, 136839, 137308, 137548, 137579, 137829, 137886, 137975, 138118, 138144, 138336, 138393, 138436, 138975, 139096, 145448, 148585]\n"
     ]
    },
    {
     "name": "stderr",
     "output_type": "stream",
     "text": [
      " 16%|█▌        | 68/422 [01:47<51:43,  8.77s/it]"
     ]
    },
    {
     "name": "stdout",
     "output_type": "stream",
     "text": [
      "202324-LIFE763 - STATISTICS FOR BIOLOGICAL RESEARCH RESIT LIFE763.1 (40%) - Data Analysis Report [132452, 132506, 132600, 133594, 133977, 134453, 136368, 136839, 137308, 137548, 137579, 137829, 137886, 137975, 138118, 138144, 138336, 138393, 138436, 139096, 145448, 148585]\n"
     ]
    },
    {
     "name": "stderr",
     "output_type": "stream",
     "text": [
      " 16%|█▋        | 69/422 [02:08<1:13:17, 12.46s/it]"
     ]
    },
    {
     "name": "stdout",
     "output_type": "stream",
     "text": [
      "202324-LIFE763 - STATISTICS FOR BIOLOGICAL RESEARCH RESIT LIFE763.2 Poster Submission  (10%) [132452, 132506, 132600, 133594, 133977, 134453, 136368, 136839, 137308, 137548, 137579, 137829, 137975, 138118, 145448, 148585]\n"
     ]
    },
    {
     "name": "stderr",
     "output_type": "stream",
     "text": [
      " 17%|█▋        | 71/422 [02:24<56:09,  9.60s/it]  "
     ]
    },
    {
     "name": "stdout",
     "output_type": "stream",
     "text": [
      "202324-LIFE756 - Synthetic Biology and Biotechnology RESIT LIFE756.1 (30%) Cycle 1 Group Submission (Scientific Report) []\n"
     ]
    },
    {
     "name": "stderr",
     "output_type": "stream",
     "text": [
      " 17%|█▋        | 72/422 [02:25<40:07,  6.88s/it]"
     ]
    },
    {
     "name": "stdout",
     "output_type": "stream",
     "text": [
      "202324-LIFE756 - Synthetic Biology and Biotechnology RESIT LIFE756.0 (70%) Cycle 2 Submission (Paper Critique) []\n",
      "202324-LIFE754 - Proteomics Metabolomics and Data Analysis RESIT LIFE754.1 (40%) Cycle 1 submission [133221, 133304, 133970, 133977, 134076, 135290, 135886, 135999, 136629, 136633, 136849, 137294, 137450, 137637, 137886, 137975, 138118, 138144, 138436, 145448]\n"
     ]
    },
    {
     "name": "stderr",
     "output_type": "stream",
     "text": [
      " 17%|█▋        | 73/422 [02:44<1:00:45, 10.44s/it]"
     ]
    },
    {
     "name": "stdout",
     "output_type": "stream",
     "text": [
      "202324-LIFE754 - Proteomics Metabolomics and Data Analysis RESIT LIFE754.0 (60%) Cycle 2 submission - Continuous Assessment [133594, 135886, 135999, 136629, 136633, 137294, 137886, 137975, 138253, 145448]\n"
     ]
    },
    {
     "name": "stderr",
     "output_type": "stream",
     "text": [
      " 18%|█▊        | 76/422 [02:55<30:59,  5.37s/it]  "
     ]
    },
    {
     "name": "stdout",
     "output_type": "stream",
     "text": [
      "202324-LIFE751 - Emerging Infections and Pandemics RESIT LIFE751.1 (40%) -- Cycle 2 (Presentation) []\n",
      "202324-LIFE751 - Emerging Infections and Pandemics RESIT LIFE751.0 (60%) - Cycle 1 - Essay [9098, 136368]\n"
     ]
    },
    {
     "name": "stderr",
     "output_type": "stream",
     "text": [
      " 18%|█▊        | 77/422 [02:58<25:45,  4.48s/it]"
     ]
    },
    {
     "name": "stdout",
     "output_type": "stream",
     "text": [
      "202324-LIFE750 - Advanced Genomic Analysis RESIT LIFE750.1 (30%) Cycle 1 Poster [136633]\n"
     ]
    },
    {
     "name": "stderr",
     "output_type": "stream",
     "text": [
      " 18%|█▊        | 78/422 [02:59<20:26,  3.56s/it]"
     ]
    },
    {
     "name": "stdout",
     "output_type": "stream",
     "text": [
      "202324-LIFE749 - Cellular Biotechnology and Biological Imaging RESIT LIFE749.1 (30%) - Cycle 1 - Video submission [134685, 135645, 137829]\n"
     ]
    },
    {
     "name": "stderr",
     "output_type": "stream",
     "text": [
      " 19%|█▊        | 79/422 [03:02<19:57,  3.49s/it]"
     ]
    },
    {
     "name": "stdout",
     "output_type": "stream",
     "text": [
      "202324-LIFE749 - Cellular Biotechnology and Biological Imaging RESIT LIFE749.0 (70%) - Cycle 2 submission [134453, 134685, 137548, 137829, 137975]\n"
     ]
    },
    {
     "name": "stderr",
     "output_type": "stream",
     "text": [
      " 19%|█▉        | 80/422 [03:07<22:33,  3.96s/it]"
     ]
    },
    {
     "name": "stdout",
     "output_type": "stream",
     "text": [
      "202324-LIFE748 - Practical Bioinformatics RESIT LIFE748.0 Project Proposal Aessement 3 40% FIRST MARKER [136633]\n"
     ]
    },
    {
     "name": "stderr",
     "output_type": "stream",
     "text": [
      " 19%|█▉        | 81/422 [03:09<18:13,  3.21s/it]"
     ]
    },
    {
     "name": "stdout",
     "output_type": "stream",
     "text": [
      "202324-LIFE748 - Practical Bioinformatics RESIT LIFE748.0 Project Proposal Aessement 3 40%  SECOND MARKER [136633]\n"
     ]
    },
    {
     "name": "stderr",
     "output_type": "stream",
     "text": [
      " 19%|█▉        | 82/422 [03:10<15:08,  2.67s/it]"
     ]
    },
    {
     "name": "stdout",
     "output_type": "stream",
     "text": [
      "202324-LIFE748 - Practical Bioinformatics RESIT LIFE748.1 50% Assessment 2: Scientific Report [136633]\n"
     ]
    },
    {
     "name": "stderr",
     "output_type": "stream",
     "text": [
      " 20%|█▉        | 84/422 [03:12<10:15,  1.82s/it]"
     ]
    },
    {
     "name": "stdout",
     "output_type": "stream",
     "text": [
      "202324-LIFE737 - Advanced Biological Sciences Research Project 1 (Full-Time) RESIT LIFE737.0.1 (80%) Preliminary report - Assessor []\n"
     ]
    },
    {
     "name": "stderr",
     "output_type": "stream",
     "text": [
      " 20%|██        | 85/422 [03:13<08:01,  1.43s/it]"
     ]
    },
    {
     "name": "stdout",
     "output_type": "stream",
     "text": [
      "202324-LIFE737 - Advanced Biological Sciences Research Project 1 (Full-Time) RESIT LIFE737.0.2 (80%) Preliminary report - Supervisor []\n",
      "202324-LIFE733 - CODING FOR LIFE SCIENCES RESIT LIFE733.2 (10%) - Assignment 1 [136368]\n"
     ]
    },
    {
     "name": "stderr",
     "output_type": "stream",
     "text": [
      " 20%|██        | 86/422 [03:14<08:08,  1.45s/it]"
     ]
    },
    {
     "name": "stdout",
     "output_type": "stream",
     "text": [
      "202324-LIFE733 - CODING FOR LIFE SCIENCES RESIT LIFE733.3 (10%) - Assignment 2 [132600, 136633]\n"
     ]
    },
    {
     "name": "stderr",
     "output_type": "stream",
     "text": [
      " 21%|██        | 87/422 [03:17<10:09,  1.82s/it]"
     ]
    },
    {
     "name": "stdout",
     "output_type": "stream",
     "text": [
      "202324-LIFE733 - CODING FOR LIFE SCIENCES RESIT LIFE733.1 (30%) - Assignment 3 [132600, 136368, 136633]\n"
     ]
    },
    {
     "name": "stderr",
     "output_type": "stream",
     "text": [
      " 21%|██        | 88/422 [03:20<12:24,  2.23s/it]"
     ]
    },
    {
     "name": "stdout",
     "output_type": "stream",
     "text": [
      "202324-LIFE733 - CODING FOR LIFE SCIENCES RESIT LIFE733.0 (50%) - Assignment 4 [132600, 136368, 136633]\n"
     ]
    },
    {
     "name": "stderr",
     "output_type": "stream",
     "text": [
      " 21%|██▏       | 90/422 [03:24<11:03,  2.00s/it]"
     ]
    },
    {
     "name": "stdout",
     "output_type": "stream",
     "text": [
      "202324-LIFE732 - Diagnostics Therapeutics and Vaccines RESIT LIFE732.1 (40%) Cycle 1 Presentation []\n"
     ]
    },
    {
     "name": "stderr",
     "output_type": "stream",
     "text": [
      " 22%|██▏       | 91/422 [03:25<08:33,  1.55s/it]"
     ]
    },
    {
     "name": "stdout",
     "output_type": "stream",
     "text": [
      "202324-LIFE732 - Diagnostics Therapeutics and Vaccines RESIT LIFE732 (60%) Cycle 2 assessment submission -- Diagnostics []\n"
     ]
    },
    {
     "name": "stderr",
     "output_type": "stream",
     "text": [
      " 22%|██▏       | 92/422 [03:25<06:47,  1.23s/it]"
     ]
    },
    {
     "name": "stdout",
     "output_type": "stream",
     "text": [
      "202324-LIFE732 - Diagnostics Therapeutics and Vaccines RESIT LIFE732 (60%) Cycle 2 assessment submission -- Therapeutics []\n"
     ]
    },
    {
     "name": "stderr",
     "output_type": "stream",
     "text": [
      " 22%|██▏       | 93/422 [03:26<05:37,  1.02s/it]"
     ]
    },
    {
     "name": "stdout",
     "output_type": "stream",
     "text": [
      "202324-LIFE732 - Diagnostics Therapeutics and Vaccines RESIT LIFE732 (60%) Cycle 2 assessment submission -- Vaccination []\n"
     ]
    },
    {
     "name": "stderr",
     "output_type": "stream",
     "text": [
      " 22%|██▏       | 94/422 [03:26<04:48,  1.14it/s]"
     ]
    },
    {
     "name": "stdout",
     "output_type": "stream",
     "text": [
      "202324-LIFE731 - RESEARCH METHODS AND APPLICATIONS IN BIOLOGICAL SCIENCES RESIT LIFE731.0.1 (23%) Advanced Microscopy Presentation []\n"
     ]
    },
    {
     "name": "stderr",
     "output_type": "stream",
     "text": [
      " 23%|██▎       | 95/422 [03:27<04:13,  1.29it/s]"
     ]
    },
    {
     "name": "stdout",
     "output_type": "stream",
     "text": [
      "202324-LIFE731 - RESEARCH METHODS AND APPLICATIONS IN BIOLOGICAL SCIENCES RESIT LIFE731.0.2 (23%) Molecular Ecology Presentation []\n"
     ]
    },
    {
     "name": "stderr",
     "output_type": "stream",
     "text": [
      " 23%|██▎       | 96/422 [03:28<03:47,  1.43it/s]"
     ]
    },
    {
     "name": "stdout",
     "output_type": "stream",
     "text": [
      "202324-LIFE731 - RESEARCH METHODS AND APPLICATIONS IN BIOLOGICAL SCIENCES RESIT LIFE731.2 (24%) - News & Views []\n"
     ]
    },
    {
     "name": "stderr",
     "output_type": "stream",
     "text": [
      " 23%|██▎       | 97/422 [03:28<03:30,  1.55it/s]"
     ]
    },
    {
     "name": "stdout",
     "output_type": "stream",
     "text": [
      "202324-LIFE731 - RESEARCH METHODS AND APPLICATIONS IN BIOLOGICAL SCIENCES RESIT LIFE731.1 (30%) - Ethics Essay []\n"
     ]
    },
    {
     "name": "stderr",
     "output_type": "stream",
     "text": [
      " 23%|██▎       | 98/422 [03:29<03:16,  1.65it/s]"
     ]
    },
    {
     "name": "stdout",
     "output_type": "stream",
     "text": [
      "202324-LIFE731 - RESEARCH METHODS AND APPLICATIONS IN BIOLOGICAL SCIENCES RESIT LIFE731.3.2 (23%) - Genomics or Modelling poster []\n"
     ]
    },
    {
     "name": "stderr",
     "output_type": "stream",
     "text": [
      " 23%|██▎       | 99/422 [03:29<03:08,  1.72it/s]"
     ]
    },
    {
     "name": "stdout",
     "output_type": "stream",
     "text": [
      "202324-LIFE728 - Immunology RESIT LIFE728 Cycle 2 (60%) -- Poster []\n"
     ]
    },
    {
     "name": "stderr",
     "output_type": "stream",
     "text": [
      " 24%|██▎       | 100/422 [03:30<03:01,  1.78it/s]"
     ]
    },
    {
     "name": "stdout",
     "output_type": "stream",
     "text": [
      "202324-LIFE728 - Immunology RESIT LIFE728.0 (40%) - Cycle 1 []\n"
     ]
    },
    {
     "name": "stderr",
     "output_type": "stream",
     "text": [
      " 24%|██▍       | 101/422 [03:30<03:00,  1.78it/s]"
     ]
    },
    {
     "name": "stdout",
     "output_type": "stream",
     "text": [
      "202324-LIFE726 - Cancer Clinical Trials RESIT LIFE726.0 (70%) Cycle 2 Assessment submission []\n"
     ]
    },
    {
     "name": "stderr",
     "output_type": "stream",
     "text": [
      " 24%|██▍       | 102/422 [03:31<02:57,  1.81it/s]"
     ]
    },
    {
     "name": "stdout",
     "output_type": "stream",
     "text": [
      "202324-LIFE726 - Cancer Clinical Trials RESIT LIFE726.1 (30%) Poster Submission []\n"
     ]
    },
    {
     "name": "stderr",
     "output_type": "stream",
     "text": [
      " 24%|██▍       | 103/422 [03:31<02:57,  1.80it/s]"
     ]
    },
    {
     "name": "stdout",
     "output_type": "stream",
     "text": [
      "202324-LIFE724 - Frontiers in Cancer Research and Treatment RESIT LIFE724.1 (50%) Cycle 1 []\n",
      "202324-LIFE724 - Frontiers in Cancer Research and Treatment RESIT LIFE724.1 (50%) Cycle 1 Seminar Report [9098]\n"
     ]
    },
    {
     "name": "stderr",
     "output_type": "stream",
     "text": [
      " 25%|██▍       | 104/422 [03:33<04:28,  1.18it/s]"
     ]
    },
    {
     "name": "stdout",
     "output_type": "stream",
     "text": [
      "202324-LIFE724 - Frontiers in Cancer Research and Treatment RESIT LIFE724.0 (25%) Oral Presentation [9098, 137882]\n"
     ]
    },
    {
     "name": "stderr",
     "output_type": "stream",
     "text": [
      " 25%|██▍       | 105/422 [03:35<07:01,  1.33s/it]"
     ]
    },
    {
     "name": "stdout",
     "output_type": "stream",
     "text": [
      "202324-LIFE724 - Frontiers in Cancer Research and Treatment RESIT LIFE724.2 (25%) Abstract [9098]\n"
     ]
    },
    {
     "name": "stderr",
     "output_type": "stream",
     "text": [
      " 25%|██▌       | 106/422 [03:37<07:38,  1.45s/it]"
     ]
    },
    {
     "name": "stdout",
     "output_type": "stream",
     "text": [
      "202324-LIFE721 - INFORMATICS FOR LIFE SCIENCES RESIT LIFE721.1 (33%) - Assessment 1 (LM/DR) [132506, 132600, 133263, 134685, 136368, 136633, 136839, 137308, 137548, 137829, 137975, 138144, 138436]\n"
     ]
    },
    {
     "name": "stderr",
     "output_type": "stream",
     "text": [
      " 25%|██▌       | 107/422 [03:51<26:38,  5.07s/it]"
     ]
    },
    {
     "name": "stdout",
     "output_type": "stream",
     "text": [
      "202324-LIFE721 - INFORMATICS FOR LIFE SCIENCES RESIT LIFE721.2 (33%) - Assessment 2 (RM) [133594, 134453, 134685, 137829, 137975, 145448]\n"
     ]
    },
    {
     "name": "stderr",
     "output_type": "stream",
     "text": [
      " 26%|██▌       | 108/422 [03:57<28:16,  5.40s/it]"
     ]
    },
    {
     "name": "stdout",
     "output_type": "stream",
     "text": [
      "202324-LIFE721 - INFORMATICS FOR LIFE SCIENCES RESIT LIFE721.0 (34%) - Assessment 3 (MB/CM) [132506, 133263, 133594, 134453, 134685, 135886, 136633, 137308, 137975, 145448]\n"
     ]
    },
    {
     "name": "stderr",
     "output_type": "stream",
     "text": [
      " 26%|██▌       | 110/422 [04:07<25:33,  4.91s/it]"
     ]
    },
    {
     "name": "stdout",
     "output_type": "stream",
     "text": [
      "202324-LIFE710 - PROFESSIONAL EMPLOYABILITY AND RESEARCH SKILLS FOR ADVANCED BIOLOGICAL SCIENCES RESIT LIFE710.0 (33%) - Project Summary submission link []\n"
     ]
    },
    {
     "name": "stderr",
     "output_type": "stream",
     "text": [
      " 26%|██▋       | 111/422 [04:08<18:33,  3.58s/it]"
     ]
    },
    {
     "name": "stdout",
     "output_type": "stream",
     "text": [
      "202324-LIFE710 - PROFESSIONAL EMPLOYABILITY AND RESEARCH SKILLS FOR ADVANCED BIOLOGICAL SCIENCES RESIT LIFE710.2  (33%) - Poster Presentation (Marker 1) []\n"
     ]
    },
    {
     "name": "stderr",
     "output_type": "stream",
     "text": [
      " 27%|██▋       | 112/422 [04:08<13:42,  2.65s/it]"
     ]
    },
    {
     "name": "stdout",
     "output_type": "stream",
     "text": [
      "202324-LIFE710 - PROFESSIONAL EMPLOYABILITY AND RESEARCH SKILLS FOR ADVANCED BIOLOGICAL SCIENCES RESIT LIFE710.2  (33%) - Poster Presentation (Marker 2) []\n"
     ]
    },
    {
     "name": "stderr",
     "output_type": "stream",
     "text": [
      " 27%|██▋       | 113/422 [04:09<10:20,  2.01s/it]"
     ]
    },
    {
     "name": "stdout",
     "output_type": "stream",
     "text": [
      "202324-LIFE710 - PROFESSIONAL EMPLOYABILITY AND RESEARCH SKILLS FOR ADVANCED BIOLOGICAL SCIENCES RESIT LIFE710.1 (34%) - Digital Case Study Draft []\n"
     ]
    },
    {
     "name": "stderr",
     "output_type": "stream",
     "text": [
      " 27%|██▋       | 114/422 [04:09<07:55,  1.54s/it]"
     ]
    },
    {
     "name": "stdout",
     "output_type": "stream",
     "text": [
      "202324-LIFE710 - PROFESSIONAL EMPLOYABILITY AND RESEARCH SKILLS FOR ADVANCED BIOLOGICAL SCIENCES RESIT LIFE710.1 (34%) - Digital Case Study Final Submission []\n"
     ]
    },
    {
     "name": "stderr",
     "output_type": "stream",
     "text": [
      " 27%|██▋       | 115/422 [04:10<06:27,  1.26s/it]"
     ]
    },
    {
     "name": "stdout",
     "output_type": "stream",
     "text": [
      "202324-LIFE709 - EVOLUTION AND BEHAVIOUR RESIT LIFE709 (60%) -- Cycle 2 (Review) []\n"
     ]
    },
    {
     "name": "stderr",
     "output_type": "stream",
     "text": [
      " 27%|██▋       | 116/422 [04:11<05:45,  1.13s/it]"
     ]
    },
    {
     "name": "stdout",
     "output_type": "stream",
     "text": [
      "202324-LIFE709 - EVOLUTION AND BEHAVIOUR RESIT LIFE709.1 (40%) - Cycle 1 - Primer []\n",
      "202324-LIFE707 - ADVANCED STATISTICS FOR BIOLOGICAL RESEARCH RESIT LIFE707.0 (50%) Cycle 2 [57801, 133221, 135645, 136633, 137294]\n"
     ]
    },
    {
     "name": "stderr",
     "output_type": "stream",
     "text": [
      " 28%|██▊       | 117/422 [04:23<23:02,  4.53s/it]"
     ]
    },
    {
     "name": "stdout",
     "output_type": "stream",
     "text": [
      "202324-LIFE707 - ADVANCED STATISTICS FOR BIOLOGICAL RESEARCH RESIT LIFE707.1 (35%) - Cycle 1 [133221, 136633, 137294]\n"
     ]
    },
    {
     "name": "stderr",
     "output_type": "stream",
     "text": [
      " 29%|██▉       | 123/422 [04:28<04:34,  1.09it/s]"
     ]
    },
    {
     "name": "stdout",
     "output_type": "stream",
     "text": [
      "202324-LIFE702 - INTRODUCTION TO RESEARCH RESIT LIFE702.1.1 (40%) Literature Review - first marker [132506, 133594, 134453, 135999, 137294, 137975]\n"
     ]
    },
    {
     "name": "stderr",
     "output_type": "stream",
     "text": [
      " 29%|██▉       | 124/422 [04:42<23:47,  4.79s/it]"
     ]
    },
    {
     "name": "stdout",
     "output_type": "stream",
     "text": [
      "202324-LIFE702 - INTRODUCTION TO RESEARCH RESIT LIFE702.1.2 (40%) Literature Review - second marker [132506, 133594, 134453, 135999, 137294, 137975]\n"
     ]
    },
    {
     "name": "stderr",
     "output_type": "stream",
     "text": [
      " 30%|██▉       | 125/422 [04:48<25:45,  5.20s/it]"
     ]
    },
    {
     "name": "stdout",
     "output_type": "stream",
     "text": [
      "202324-LIFE702 - INTRODUCTION TO RESEARCH RESIT LIFE702.0.2 (30%) Grant Proposal - supervisor [132506, 134453, 135999, 137294]\n"
     ]
    },
    {
     "name": "stderr",
     "output_type": "stream",
     "text": [
      " 30%|██▉       | 126/422 [04:52<24:32,  4.98s/it]"
     ]
    },
    {
     "name": "stdout",
     "output_type": "stream",
     "text": [
      "202324-LIFE702 - INTRODUCTION TO RESEARCH RESIT LIFE702.0.1 (30%) Grant Proposal - assessor [132506, 134453, 135999, 137294]\n"
     ]
    },
    {
     "name": "stderr",
     "output_type": "stream",
     "text": [
      " 30%|███       | 127/422 [04:56<23:24,  4.76s/it]"
     ]
    },
    {
     "name": "stdout",
     "output_type": "stream",
     "text": [
      "202324-LIFE702 - INTRODUCTION TO RESEARCH RESIT LIFE702.2 (30%) Portfolio [135999]\n"
     ]
    },
    {
     "name": "stderr",
     "output_type": "stream",
     "text": [
      " 31%|███       | 129/422 [04:59<14:13,  2.91s/it]"
     ]
    },
    {
     "name": "stdout",
     "output_type": "stream",
     "text": [
      "202324-LIFE700 - RESEARCH PROJECT RESIT Grant Application  - Supervisor  []\n"
     ]
    },
    {
     "name": "stderr",
     "output_type": "stream",
     "text": [
      " 31%|███       | 130/422 [04:59<10:41,  2.20s/it]"
     ]
    },
    {
     "name": "stdout",
     "output_type": "stream",
     "text": [
      "202324-LIFE700 - RESEARCH PROJECT RESIT Grant Application - 2nd Marker  []\n"
     ]
    },
    {
     "name": "stderr",
     "output_type": "stream",
     "text": [
      " 31%|███       | 131/422 [05:00<08:12,  1.69s/it]"
     ]
    },
    {
     "name": "stdout",
     "output_type": "stream",
     "text": [
      "202324-LIFE700 - RESEARCH PROJECT RESIT LIFE Interim Report 202324 []\n"
     ]
    },
    {
     "name": "stderr",
     "output_type": "stream",
     "text": [
      " 31%|███▏      | 132/422 [05:01<06:28,  1.34s/it]"
     ]
    },
    {
     "name": "stdout",
     "output_type": "stream",
     "text": [
      "202324-LIFE700 - RESEARCH PROJECT RESIT Final Report- Marker 1 (Supervisor) []\n"
     ]
    },
    {
     "name": "stderr",
     "output_type": "stream",
     "text": [
      " 32%|███▏      | 133/422 [05:01<05:21,  1.11s/it]"
     ]
    },
    {
     "name": "stdout",
     "output_type": "stream",
     "text": [
      "202324-LIFE700 - RESEARCH PROJECT RESIT Final Report- Marker 2. []\n"
     ]
    },
    {
     "name": "stderr",
     "output_type": "stream",
     "text": [
      " 32%|███▏      | 134/422 [05:02<05:25,  1.13s/it]"
     ]
    },
    {
     "name": "stdout",
     "output_type": "stream",
     "text": [
      "202324-LIFE631 - RESEARCH METHODS AND APPLICATIONS IN BIOLOGICAL SCIENCES (OFF-CAMPUS) RESIT LIFE631.0.1 (23%) Advanced Microscopy Presentation []\n"
     ]
    },
    {
     "name": "stderr",
     "output_type": "stream",
     "text": [
      " 32%|███▏      | 135/422 [05:03<04:36,  1.04it/s]"
     ]
    },
    {
     "name": "stdout",
     "output_type": "stream",
     "text": [
      "202324-LIFE631 - RESEARCH METHODS AND APPLICATIONS IN BIOLOGICAL SCIENCES (OFF-CAMPUS) RESIT LIFE631.0.2 (23%) Molecular Ecology Presentation []\n"
     ]
    },
    {
     "name": "stderr",
     "output_type": "stream",
     "text": [
      " 32%|███▏      | 136/422 [05:03<04:00,  1.19it/s]"
     ]
    },
    {
     "name": "stdout",
     "output_type": "stream",
     "text": [
      "202324-LIFE631 - RESEARCH METHODS AND APPLICATIONS IN BIOLOGICAL SCIENCES (OFF-CAMPUS) RESIT LIFE631.2 (24%) - News & Views []\n"
     ]
    },
    {
     "name": "stderr",
     "output_type": "stream",
     "text": [
      " 32%|███▏      | 137/422 [05:04<03:36,  1.32it/s]"
     ]
    },
    {
     "name": "stdout",
     "output_type": "stream",
     "text": [
      "202324-LIFE631 - RESEARCH METHODS AND APPLICATIONS IN BIOLOGICAL SCIENCES (OFF-CAMPUS) RESIT LIFE631.3.1 (23%) - Genomics or Modelling poster []\n"
     ]
    },
    {
     "name": "stderr",
     "output_type": "stream",
     "text": [
      " 33%|███▎      | 138/422 [05:05<03:19,  1.43it/s]"
     ]
    },
    {
     "name": "stdout",
     "output_type": "stream",
     "text": [
      "202324-LIFE631 - RESEARCH METHODS AND APPLICATIONS IN BIOLOGICAL SCIENCES (OFF-CAMPUS) RESIT LIFE631.1 (30%) - Ethics Essay []\n"
     ]
    },
    {
     "name": "stderr",
     "output_type": "stream",
     "text": [
      " 33%|███▎      | 139/422 [05:05<03:03,  1.54it/s]"
     ]
    },
    {
     "name": "stdout",
     "output_type": "stream",
     "text": [
      "202324-LIFE402 - Cancer Pharmacology for Medicinal Chemists RESIT LIFE402.1 (40%) - Cycle 1 Submission Link []\n"
     ]
    },
    {
     "name": "stderr",
     "output_type": "stream",
     "text": [
      " 33%|███▎      | 140/422 [05:06<03:13,  1.46it/s]"
     ]
    },
    {
     "name": "stdout",
     "output_type": "stream",
     "text": [
      "202324-LIFE402 - Cancer Pharmacology for Medicinal Chemists RESIT LIFE402.0.1 (60%) - Cycle 2 Submission Question 1 []\n"
     ]
    },
    {
     "name": "stderr",
     "output_type": "stream",
     "text": [
      " 33%|███▎      | 141/422 [05:06<02:57,  1.58it/s]"
     ]
    },
    {
     "name": "stdout",
     "output_type": "stream",
     "text": [
      "202324-LIFE402 - Cancer Pharmacology for Medicinal Chemists RESIT LIFE402.0.2 (60%) - Cycle 2 Submission Question 2 []\n"
     ]
    },
    {
     "name": "stderr",
     "output_type": "stream",
     "text": [
      " 34%|███▎      | 142/422 [05:07<02:45,  1.69it/s]"
     ]
    },
    {
     "name": "stdout",
     "output_type": "stream",
     "text": [
      "202324-LIFE402 - Cancer Pharmacology for Medicinal Chemists RESIT LIFE402.0.3 (60%) - Cycle 2 Submission Question 3 []\n"
     ]
    },
    {
     "name": "stderr",
     "output_type": "stream",
     "text": [
      " 34%|███▍      | 143/422 [05:07<02:40,  1.74it/s]"
     ]
    },
    {
     "name": "stdout",
     "output_type": "stream",
     "text": [
      "202324-LIFE401 - CARDIOVASCULAR PHARMACOLOGY RESIT LIFE401.0.1 (100%) - Question 1  []\n"
     ]
    },
    {
     "name": "stderr",
     "output_type": "stream",
     "text": [
      " 34%|███▍      | 144/422 [05:08<02:36,  1.78it/s]"
     ]
    },
    {
     "name": "stdout",
     "output_type": "stream",
     "text": [
      "202324-LIFE401 - CARDIOVASCULAR PHARMACOLOGY RESIT LIFE401.0.2 (100%) - Question 2  []\n"
     ]
    },
    {
     "name": "stderr",
     "output_type": "stream",
     "text": [
      " 35%|███▍      | 147/422 [05:09<01:38,  2.79it/s]"
     ]
    },
    {
     "name": "stdout",
     "output_type": "stream",
     "text": [
      "202324-LIFE373 - MOLECULAR CLINICAL AND TRANSLATIONAL CANCER LIFE 373.0 Cycle 2 Resit [59569]\n"
     ]
    },
    {
     "name": "stderr",
     "output_type": "stream",
     "text": [
      " 36%|███▌      | 151/422 [05:11<02:14,  2.01it/s]"
     ]
    },
    {
     "name": "stdout",
     "output_type": "stream",
     "text": [
      "202324-LIFE369 - NEUROPHARMACOLOGY RESIT LIFE369.0.1 (60%) - Cycle 2 - Part 1 []\n"
     ]
    },
    {
     "name": "stderr",
     "output_type": "stream",
     "text": [
      " 36%|███▌      | 152/422 [05:12<02:18,  1.95it/s]"
     ]
    },
    {
     "name": "stdout",
     "output_type": "stream",
     "text": [
      "202324-LIFE369 - NEUROPHARMACOLOGY RESIT LIFE369.0.2 (60%) - Cycle 2 - Part 2 []\n"
     ]
    },
    {
     "name": "stderr",
     "output_type": "stream",
     "text": [
      " 36%|███▋      | 153/422 [05:12<02:19,  1.92it/s]"
     ]
    },
    {
     "name": "stdout",
     "output_type": "stream",
     "text": [
      "202324-LIFE369 - NEUROPHARMACOLOGY RESIT LIFE369.1.1 (40%) - Cycle 1 - Part 1 []\n"
     ]
    },
    {
     "name": "stderr",
     "output_type": "stream",
     "text": [
      " 36%|███▋      | 154/422 [05:13<02:19,  1.92it/s]"
     ]
    },
    {
     "name": "stdout",
     "output_type": "stream",
     "text": [
      "202324-LIFE369 - NEUROPHARMACOLOGY RESIT LIFE369.1.2 (40%) - Cycle 1 - Part 2 []\n",
      "202324-LIFE367 - Biology of Veterinary Pathogens: Lessons for Disease Control RESIT LIFE367.1 40% Cycle 1 [63009]\n"
     ]
    },
    {
     "name": "stderr",
     "output_type": "stream",
     "text": [
      " 37%|███▋      | 156/422 [05:15<03:13,  1.37it/s]"
     ]
    },
    {
     "name": "stdout",
     "output_type": "stream",
     "text": [
      "202324-LIFE367 - Biology of Veterinary Pathogens: Lessons for Disease Control RESIT LIFE367.0 (60%) - Cycle 2 - Essay []\n",
      "202324-LIFE365 - Advanced Skills in Biological and Medical Sciences RESIT LIFE365.0.1 (40%) Assignment 1 (Peer Review - 40%) - Advanced Skills [87291]\n"
     ]
    },
    {
     "name": "stderr",
     "output_type": "stream",
     "text": [
      " 37%|███▋      | 157/422 [05:16<04:21,  1.01it/s]"
     ]
    },
    {
     "name": "stdout",
     "output_type": "stream",
     "text": [
      "202324-LIFE365 - Advanced Skills in Biological and Medical Sciences RESIT LIFE365.1.0 (60%) - Cycle 2 [87291]\n"
     ]
    },
    {
     "name": "stderr",
     "output_type": "stream",
     "text": [
      " 38%|███▊      | 159/422 [05:19<04:23,  1.00s/it]"
     ]
    },
    {
     "name": "stdout",
     "output_type": "stream",
     "text": [
      "202324-LIFE364 - BECOMING HUMAN RESIT LIFE364.1 (40%) - Cycle 1 - Presentation []\n"
     ]
    },
    {
     "name": "stderr",
     "output_type": "stream",
     "text": [
      " 38%|███▊      | 160/422 [05:19<03:45,  1.16it/s]"
     ]
    },
    {
     "name": "stdout",
     "output_type": "stream",
     "text": [
      "202324-LIFE364 - BECOMING HUMAN RESIT LIFE364.0 (60%) - Cycle 2 Assessment Submission []\n"
     ]
    },
    {
     "name": "stderr",
     "output_type": "stream",
     "text": [
      " 38%|███▊      | 161/422 [05:24<08:25,  1.94s/it]"
     ]
    },
    {
     "name": "stdout",
     "output_type": "stream",
     "text": [
      "202324-LIFE363 - Research Project RESIT Submission Academic Integrity declaration []\n"
     ]
    },
    {
     "name": "stderr",
     "output_type": "stream",
     "text": [
      " 38%|███▊      | 162/422 [05:24<06:44,  1.56s/it]"
     ]
    },
    {
     "name": "stdout",
     "output_type": "stream",
     "text": [
      "202324-LIFE361 - Parasitology RESIT LIFE361.0 (60%) - Cycle 2 []\n"
     ]
    },
    {
     "name": "stderr",
     "output_type": "stream",
     "text": [
      " 39%|███▊      | 163/422 [05:25<05:26,  1.26s/it]"
     ]
    },
    {
     "name": "stdout",
     "output_type": "stream",
     "text": [
      "202324-LIFE361 - Parasitology RESIT LIFE361.1 (40%) - Cycle 1 - Assessment Submission []\n"
     ]
    },
    {
     "name": "stderr",
     "output_type": "stream",
     "text": [
      " 39%|███▉      | 164/422 [05:25<04:30,  1.05s/it]"
     ]
    },
    {
     "name": "stdout",
     "output_type": "stream",
     "text": [
      "202324-LIFE359 - Vector Biology: Theory Research and Implementation RESIT LIFE359.0 (60%) - Cycle 2 []\n"
     ]
    },
    {
     "name": "stderr",
     "output_type": "stream",
     "text": [
      " 39%|███▉      | 165/422 [05:26<03:53,  1.10it/s]"
     ]
    },
    {
     "name": "stdout",
     "output_type": "stream",
     "text": [
      "202324-LIFE359 - Vector Biology: Theory Research and Implementation RESIT LIFE359.1 (40%) - Cycle 1 []\n"
     ]
    },
    {
     "name": "stderr",
     "output_type": "stream",
     "text": [
      " 39%|███▉      | 166/422 [05:27<03:31,  1.21it/s]"
     ]
    },
    {
     "name": "stdout",
     "output_type": "stream",
     "text": [
      "202324-LIFE357 - Advanced Skills in Tropical Disease Biology RESIT LIFE357.0 (60%) - Cycle 2 []\n"
     ]
    },
    {
     "name": "stderr",
     "output_type": "stream",
     "text": [
      " 40%|███▉      | 167/422 [05:27<03:17,  1.29it/s]"
     ]
    },
    {
     "name": "stdout",
     "output_type": "stream",
     "text": [
      "202324-LIFE357 - Advanced Skills in Tropical Disease Biology RESIT LIFE357.1 (40%) - Cycle 1 - Assessment Submission []\n",
      "202324-LIFE355 - Advanced Skills in Biological Sciences RESIT LIFE355.0 (40%) - Cycle 1 - Peer Review - Advanced skills [61134]\n"
     ]
    },
    {
     "name": "stderr",
     "output_type": "stream",
     "text": [
      " 40%|███▉      | 168/422 [05:29<04:38,  1.09s/it]"
     ]
    },
    {
     "name": "stdout",
     "output_type": "stream",
     "text": [
      "202324-LIFE355 - Advanced Skills in Biological Sciences RESIT LIFE355.1 (60%) - Cycle 2 - POSTnote - Advanced skills [24151, 61134]\n"
     ]
    },
    {
     "name": "stderr",
     "output_type": "stream",
     "text": [
      " 40%|████      | 170/422 [05:32<05:24,  1.29s/it]"
     ]
    },
    {
     "name": "stdout",
     "output_type": "stream",
     "text": [
      "202324-LIFE349 - Advanced Human Topographical Anatomy RESIT LIFE349.1 (35%) - Final Report []\n"
     ]
    },
    {
     "name": "stderr",
     "output_type": "stream",
     "text": [
      " 41%|████      | 171/422 [05:33<04:28,  1.07s/it]"
     ]
    },
    {
     "name": "stdout",
     "output_type": "stream",
     "text": [
      "202324-LIFE348 - ANTIMICROBIAL CHEMOTHERAPY FOR CHEMISTS RESIT LIFE348.1.1 (40%) Cycle 1- Q1 (Pushpakom) []\n"
     ]
    },
    {
     "name": "stderr",
     "output_type": "stream",
     "text": [
      " 41%|████      | 172/422 [05:34<03:49,  1.09it/s]"
     ]
    },
    {
     "name": "stdout",
     "output_type": "stream",
     "text": [
      "202324-LIFE348 - ANTIMICROBIAL CHEMOTHERAPY FOR CHEMISTS RESIT LIFE348.1.2 (40%) Cycle 1- Q2 (Nixon) []\n"
     ]
    },
    {
     "name": "stderr",
     "output_type": "stream",
     "text": [
      " 41%|████      | 173/422 [05:34<03:27,  1.20it/s]"
     ]
    },
    {
     "name": "stdout",
     "output_type": "stream",
     "text": [
      "202324-LIFE348 - ANTIMICROBIAL CHEMOTHERAPY FOR CHEMISTS RESIT LIFE348.0.1 (60%) Cycle 2 - Q1a (Dickens)  []\n"
     ]
    },
    {
     "name": "stderr",
     "output_type": "stream",
     "text": [
      " 41%|████      | 174/422 [05:35<03:07,  1.32it/s]"
     ]
    },
    {
     "name": "stdout",
     "output_type": "stream",
     "text": [
      "202324-LIFE348 - ANTIMICROBIAL CHEMOTHERAPY FOR CHEMISTS RESIT LIFE348.0.2 (60%) Cycle 2 – Q1b  (Olagunju) []\n"
     ]
    },
    {
     "name": "stderr",
     "output_type": "stream",
     "text": [
      " 41%|████▏     | 175/422 [05:35<02:52,  1.43it/s]"
     ]
    },
    {
     "name": "stdout",
     "output_type": "stream",
     "text": [
      "202324-LIFE348 - ANTIMICROBIAL CHEMOTHERAPY FOR CHEMISTS RESIT LIFE348.0.3 (60%) Cycle 2 – Q2 (O'Neill) []\n"
     ]
    },
    {
     "name": "stderr",
     "output_type": "stream",
     "text": [
      " 42%|████▏     | 176/422 [05:36<02:44,  1.49it/s]"
     ]
    },
    {
     "name": "stdout",
     "output_type": "stream",
     "text": [
      "202324-LIFE347 - Advanced Skills and Contemporary Themes in Anatomical Science RESIT LIFE347.1 (40%) - Cycle 1 []\n"
     ]
    },
    {
     "name": "stderr",
     "output_type": "stream",
     "text": [
      " 42%|████▏     | 177/422 [05:36<02:33,  1.60it/s]"
     ]
    },
    {
     "name": "stdout",
     "output_type": "stream",
     "text": [
      "202324-LIFE347 - Advanced Skills and Contemporary Themes in Anatomical Science RESIT Grant Writing Task (60%) []\n"
     ]
    },
    {
     "name": "stderr",
     "output_type": "stream",
     "text": [
      " 42%|████▏     | 178/422 [05:37<02:33,  1.59it/s]"
     ]
    },
    {
     "name": "stdout",
     "output_type": "stream",
     "text": [
      "202324-LIFE344 - Animal Nervous and Musculoskeletal Disorders RESIT LIFE344.1 (60%) Cycle 1 Submission  []\n"
     ]
    },
    {
     "name": "stderr",
     "output_type": "stream",
     "text": [
      " 42%|████▏     | 179/422 [05:38<02:36,  1.55it/s]"
     ]
    },
    {
     "name": "stdout",
     "output_type": "stream",
     "text": [
      "202324-LIFE344 - Animal Nervous and Musculoskeletal Disorders RESIT LIFE344.0 (40%) Cycle 2 Assessment Submission  []\n"
     ]
    },
    {
     "name": "stderr",
     "output_type": "stream",
     "text": [
      " 43%|████▎     | 180/422 [05:38<02:30,  1.60it/s]"
     ]
    },
    {
     "name": "stdout",
     "output_type": "stream",
     "text": [
      "202324-LIFE343 - Microbiomes - microbial diversity and host interactions RESIT LIFE343.1 40% Cycle 1 []\n",
      "202324-LIFE343 - Microbiomes - microbial diversity and host interactions RESIT LIFE343 (60%) -- Cycle 2 [24151]\n"
     ]
    },
    {
     "name": "stderr",
     "output_type": "stream",
     "text": [
      " 43%|████▎     | 182/422 [05:41<03:24,  1.17it/s]"
     ]
    },
    {
     "name": "stdout",
     "output_type": "stream",
     "text": [
      "202324-LIFE341 - Advanced Skills in Bioveterinary Sciences RESIT LIFE341.1 40% Cycle 1 []\n"
     ]
    },
    {
     "name": "stderr",
     "output_type": "stream",
     "text": [
      " 43%|████▎     | 183/422 [05:41<03:06,  1.28it/s]"
     ]
    },
    {
     "name": "stdout",
     "output_type": "stream",
     "text": [
      "202324-LIFE341 - Advanced Skills in Bioveterinary Sciences RESIT LIFE341 cycle 2 60% Post Note []\n"
     ]
    },
    {
     "name": "stderr",
     "output_type": "stream",
     "text": [
      " 44%|████▎     | 184/422 [05:42<02:51,  1.39it/s]"
     ]
    },
    {
     "name": "stdout",
     "output_type": "stream",
     "text": [
      "202324-LIFE340 - Topics in Global Health RESIT LIFE340.1 Cycle 1 40% - Surname A & B []\n"
     ]
    },
    {
     "name": "stderr",
     "output_type": "stream",
     "text": [
      " 44%|████▍     | 185/422 [05:42<02:40,  1.48it/s]"
     ]
    },
    {
     "name": "stdout",
     "output_type": "stream",
     "text": [
      "202324-LIFE340 - Topics in Global Health RESIT LIFE340.0 Cycle 2 QUESTION 1 60% Submission - Students with Surnames A-L []\n"
     ]
    },
    {
     "name": "stderr",
     "output_type": "stream",
     "text": [
      " 44%|████▍     | 186/422 [05:43<02:32,  1.54it/s]"
     ]
    },
    {
     "name": "stdout",
     "output_type": "stream",
     "text": [
      "202324-LIFE339 - Integrative Comparative Animal Physiology RESIT LIFE339.0 (60%) - Cycle 2 []\n"
     ]
    },
    {
     "name": "stderr",
     "output_type": "stream",
     "text": [
      " 44%|████▍     | 187/422 [05:44<02:27,  1.59it/s]"
     ]
    },
    {
     "name": "stdout",
     "output_type": "stream",
     "text": [
      "202324-LIFE339 - Integrative Comparative Animal Physiology RESIT LIFE339.1 (40%) - Cycle 1 - Assessment []\n",
      "202324-LIFE338 - Chemotherapy of Parasitic Disease RESIT LIFE338.0 Cycle 2 submission 60% [61134]\n"
     ]
    },
    {
     "name": "stderr",
     "output_type": "stream",
     "text": [
      " 45%|████▍     | 188/422 [05:45<03:40,  1.06it/s]"
     ]
    },
    {
     "name": "stdout",
     "output_type": "stream",
     "text": [
      "202324-LIFE338 - Chemotherapy of Parasitic Disease RESIT LIFE338.1 (40%) - Cycle 1 submission  [61134]\n"
     ]
    },
    {
     "name": "stderr",
     "output_type": "stream",
     "text": [
      " 45%|████▌     | 190/422 [05:47<03:45,  1.03it/s]"
     ]
    },
    {
     "name": "stdout",
     "output_type": "stream",
     "text": [
      "202324-LIFE337 - Advanced Topics in Ecology RESIT LIFE337.2 Group Assignment 1 30% RW []\n"
     ]
    },
    {
     "name": "stderr",
     "output_type": "stream",
     "text": [
      " 45%|████▌     | 191/422 [05:48<03:17,  1.17it/s]"
     ]
    },
    {
     "name": "stdout",
     "output_type": "stream",
     "text": [
      "202324-LIFE337 - Advanced Topics in Ecology RESIT LIFE337.0 Assignment 3 - 35% SC []\n"
     ]
    },
    {
     "name": "stderr",
     "output_type": "stream",
     "text": [
      " 45%|████▌     | 192/422 [05:49<02:58,  1.29it/s]"
     ]
    },
    {
     "name": "stdout",
     "output_type": "stream",
     "text": [
      "202324-LIFE337 - Advanced Topics in Ecology RESIT LIFE337.1  - Assignment 2 - Fenton (35%) []\n"
     ]
    },
    {
     "name": "stderr",
     "output_type": "stream",
     "text": [
      " 46%|████▌     | 193/422 [05:49<02:40,  1.43it/s]"
     ]
    },
    {
     "name": "stdout",
     "output_type": "stream",
     "text": [
      "202324-LIFE335 - THE BODY IN MOTION: MUSCULOSKELETAL FUNCTIONING IN HEALTH PERFORMANCE AND DISEASE RESIT Formative assignment - Portfolio Task 1 for feedback (optional) []\n",
      "202324-LIFE335 - THE BODY IN MOTION: MUSCULOSKELETAL FUNCTIONING IN HEALTH PERFORMANCE AND DISEASE RESIT LIFE335.1 (40%) Cycle 1 - Essay [61134]\n"
     ]
    },
    {
     "name": "stderr",
     "output_type": "stream",
     "text": [
      " 46%|████▌     | 195/422 [05:51<03:18,  1.14it/s]"
     ]
    },
    {
     "name": "stdout",
     "output_type": "stream",
     "text": [
      "202324-LIFE335 - THE BODY IN MOTION: MUSCULOSKELETAL FUNCTIONING IN HEALTH PERFORMANCE AND DISEASE RESIT LIFE335.0 (60%) Cycle 2 []\n",
      "202324-LIFE334 - Clinical Anatomical and Cellular Basis of Neurological Dysfunction RESIT LIFE334.1 Cycle 1 New and Views Submission Link [61134]\n"
     ]
    },
    {
     "name": "stderr",
     "output_type": "stream",
     "text": [
      " 46%|████▋     | 196/422 [05:53<04:24,  1.17s/it]"
     ]
    },
    {
     "name": "stdout",
     "output_type": "stream",
     "text": [
      "202324-LIFE334 - Clinical Anatomical and Cellular Basis of Neurological Dysfunction RESIT LIFE334.0.1 (60%) Cycle 2 Question 1 [61134]\n"
     ]
    },
    {
     "name": "stderr",
     "output_type": "stream",
     "text": [
      " 47%|████▋     | 197/422 [05:55<05:02,  1.34s/it]"
     ]
    },
    {
     "name": "stdout",
     "output_type": "stream",
     "text": [
      "202324-LIFE334 - Clinical Anatomical and Cellular Basis of Neurological Dysfunction RESIT LIFE334.0.2 (60%) Cycle 2 Question 2 [61134]\n"
     ]
    },
    {
     "name": "stderr",
     "output_type": "stream",
     "text": [
      " 47%|████▋     | 198/422 [05:57<05:26,  1.46s/it]"
     ]
    },
    {
     "name": "stdout",
     "output_type": "stream",
     "text": [
      "202324-LIFE334 - Clinical Anatomical and Cellular Basis of Neurological Dysfunction RESIT LIFE334.0.3 (60%) Cycle 2 Question 3 [61134]\n"
     ]
    },
    {
     "name": "stderr",
     "output_type": "stream",
     "text": [
      " 47%|████▋     | 199/422 [05:58<05:40,  1.52s/it]"
     ]
    },
    {
     "name": "stdout",
     "output_type": "stream",
     "text": [
      "202324-LIFE334 - Clinical Anatomical and Cellular Basis of Neurological Dysfunction RESIT LIFE334.0.4 (60%) Cycle 2 Question 4 [61134]\n"
     ]
    },
    {
     "name": "stderr",
     "output_type": "stream",
     "text": [
      " 48%|████▊     | 201/422 [06:01<04:41,  1.27s/it]"
     ]
    },
    {
     "name": "stdout",
     "output_type": "stream",
     "text": [
      "202324-LIFE333 - Zoology Field Course RESIT LIFE333.0 (65%) Field Project Scientific Report []\n"
     ]
    },
    {
     "name": "stderr",
     "output_type": "stream",
     "text": [
      " 48%|████▊     | 202/422 [06:01<03:52,  1.06s/it]"
     ]
    },
    {
     "name": "stdout",
     "output_type": "stream",
     "text": [
      "202324-LIFE332 - SPECIALISED BODY SYSTEMS: DEVELOPMENT DISEASE AND REGENERATION RESIT LIFE332 Formative assignment submission []\n"
     ]
    },
    {
     "name": "stderr",
     "output_type": "stream",
     "text": [
      " 48%|████▊     | 203/422 [06:02<03:24,  1.07it/s]"
     ]
    },
    {
     "name": "stdout",
     "output_type": "stream",
     "text": [
      "202324-LIFE332 - SPECIALISED BODY SYSTEMS: DEVELOPMENT DISEASE AND REGENERATION RESIT LIFE332.0.1 (60%) Cycle 2 Question 1 (15%) []\n"
     ]
    },
    {
     "name": "stderr",
     "output_type": "stream",
     "text": [
      " 48%|████▊     | 204/422 [06:03<03:08,  1.16it/s]"
     ]
    },
    {
     "name": "stdout",
     "output_type": "stream",
     "text": [
      "202324-LIFE332 - SPECIALISED BODY SYSTEMS: DEVELOPMENT DISEASE AND REGENERATION RESIT LIFE332.0.2 (60%) Cycle 2 Question 2 (15%)  []\n"
     ]
    },
    {
     "name": "stderr",
     "output_type": "stream",
     "text": [
      " 49%|████▊     | 205/422 [06:03<02:48,  1.29it/s]"
     ]
    },
    {
     "name": "stdout",
     "output_type": "stream",
     "text": [
      "202324-LIFE332 - SPECIALISED BODY SYSTEMS: DEVELOPMENT DISEASE AND REGENERATION RESIT LIFE332.0.3 (60%) Cycle 2 Question 3 (15%)  []\n"
     ]
    },
    {
     "name": "stderr",
     "output_type": "stream",
     "text": [
      " 49%|████▉     | 206/422 [06:04<02:33,  1.40it/s]"
     ]
    },
    {
     "name": "stdout",
     "output_type": "stream",
     "text": [
      "202324-LIFE332 - SPECIALISED BODY SYSTEMS: DEVELOPMENT DISEASE AND REGENERATION RESIT LIFE332.0.4 (60%) Cycle 2 Question 4 (15%)  []\n"
     ]
    },
    {
     "name": "stderr",
     "output_type": "stream",
     "text": [
      " 49%|████▉     | 207/422 [06:04<02:21,  1.52it/s]"
     ]
    },
    {
     "name": "stdout",
     "output_type": "stream",
     "text": [
      "202324-LIFE332 - SPECIALISED BODY SYSTEMS: DEVELOPMENT DISEASE AND REGENERATION RESIT LIFE332.1.1 (40%) Cycle 1 - Question 1 (10%) []\n"
     ]
    },
    {
     "name": "stderr",
     "output_type": "stream",
     "text": [
      " 49%|████▉     | 208/422 [06:05<02:19,  1.54it/s]"
     ]
    },
    {
     "name": "stdout",
     "output_type": "stream",
     "text": [
      "202324-LIFE332 - SPECIALISED BODY SYSTEMS: DEVELOPMENT DISEASE AND REGENERATION RESIT LIFE332.1.2 (40%) Cycle 1 - Question 2 (10%)  []\n"
     ]
    },
    {
     "name": "stderr",
     "output_type": "stream",
     "text": [
      " 50%|████▉     | 209/422 [06:05<02:13,  1.59it/s]"
     ]
    },
    {
     "name": "stdout",
     "output_type": "stream",
     "text": [
      "202324-LIFE332 - SPECIALISED BODY SYSTEMS: DEVELOPMENT DISEASE AND REGENERATION RESIT LIFE332.1.3 (40%) Cycle 1 - Question 3 (10%)  []\n"
     ]
    },
    {
     "name": "stderr",
     "output_type": "stream",
     "text": [
      " 50%|████▉     | 210/422 [06:06<02:12,  1.60it/s]"
     ]
    },
    {
     "name": "stdout",
     "output_type": "stream",
     "text": [
      "202324-LIFE332 - SPECIALISED BODY SYSTEMS: DEVELOPMENT DISEASE AND REGENERATION RESIT LIFE332.1.4 (40%) Cycle 1 - Question 4 (10%) []\n"
     ]
    },
    {
     "name": "stderr",
     "output_type": "stream",
     "text": [
      " 50%|█████     | 211/422 [06:07<02:09,  1.62it/s]"
     ]
    },
    {
     "name": "stdout",
     "output_type": "stream",
     "text": [
      "202324-LIFE331 - Advanced Skills in Zoology RESIT LIFE331.0 (40%) Peer Review - Ritchie []\n"
     ]
    },
    {
     "name": "stderr",
     "output_type": "stream",
     "text": [
      " 50%|█████     | 212/422 [06:07<02:06,  1.66it/s]"
     ]
    },
    {
     "name": "stdout",
     "output_type": "stream",
     "text": [
      "202324-LIFE331 - Advanced Skills in Zoology RESIT LIFE331.0 (40%) - Peer Review - Stemkovski []\n"
     ]
    },
    {
     "name": "stderr",
     "output_type": "stream",
     "text": [
      " 50%|█████     | 213/422 [06:08<02:02,  1.71it/s]"
     ]
    },
    {
     "name": "stdout",
     "output_type": "stream",
     "text": [
      "202324-LIFE331 - Advanced Skills in Zoology RESIT LIFE331.1 (60%) - Cycle 2 []\n"
     ]
    },
    {
     "name": "stderr",
     "output_type": "stream",
     "text": [
      " 51%|█████     | 214/422 [06:08<02:04,  1.68it/s]"
     ]
    },
    {
     "name": "stdout",
     "output_type": "stream",
     "text": [
      "202324-LIFE330 - The Cardiovascular System in Health and Disease RESIT LIFE330.0.1 (40%) Cycle 1 - Q1 - Dr Jill Madine []\n"
     ]
    },
    {
     "name": "stderr",
     "output_type": "stream",
     "text": [
      " 51%|█████     | 215/422 [06:09<02:01,  1.70it/s]"
     ]
    },
    {
     "name": "stdout",
     "output_type": "stream",
     "text": [
      "202324-LIFE330 - The Cardiovascular System in Health and Disease RESIT LIFE330.0.2 (40%) Cycle 1 - Q2 - Dr Richard Rainbow []\n"
     ]
    },
    {
     "name": "stderr",
     "output_type": "stream",
     "text": [
      " 51%|█████     | 216/422 [06:10<01:59,  1.73it/s]"
     ]
    },
    {
     "name": "stdout",
     "output_type": "stream",
     "text": [
      "202324-LIFE330 - The Cardiovascular System in Health and Disease RESIT LIFE330.0.3 (40%) Cycle 1 - Q3 - Dr Al Bond []\n"
     ]
    },
    {
     "name": "stderr",
     "output_type": "stream",
     "text": [
      " 51%|█████▏    | 217/422 [06:10<01:55,  1.77it/s]"
     ]
    },
    {
     "name": "stdout",
     "output_type": "stream",
     "text": [
      "202324-LIFE330 - The Cardiovascular System in Health and Disease RESIT LIFE330.0.4 (40%) Cycle 1 - Q4 - Dr Claire Tierney []\n"
     ]
    },
    {
     "name": "stderr",
     "output_type": "stream",
     "text": [
      " 52%|█████▏    | 218/422 [06:11<02:00,  1.69it/s]"
     ]
    },
    {
     "name": "stdout",
     "output_type": "stream",
     "text": [
      "202324-LIFE330 - The Cardiovascular System in Health and Disease RESIT LIFE330.1.1 (60%)  Question 1 - Dr Parveen Sharma []\n"
     ]
    },
    {
     "name": "stderr",
     "output_type": "stream",
     "text": [
      " 52%|█████▏    | 219/422 [06:11<02:00,  1.69it/s]"
     ]
    },
    {
     "name": "stdout",
     "output_type": "stream",
     "text": [
      "202324-LIFE330 - The Cardiovascular System in Health and Disease RESIT LIFE330.1.2 (60%) Question 2 - Dr Bettina Wilm []\n"
     ]
    },
    {
     "name": "stderr",
     "output_type": "stream",
     "text": [
      " 52%|█████▏    | 220/422 [06:12<01:57,  1.72it/s]"
     ]
    },
    {
     "name": "stdout",
     "output_type": "stream",
     "text": [
      "202324-LIFE330 - The Cardiovascular System in Health and Disease RESIT LIFE330.1.3 (60%) Question 3 - Dr Alec Simpson []\n"
     ]
    },
    {
     "name": "stderr",
     "output_type": "stream",
     "text": [
      " 52%|█████▏    | 221/422 [06:13<02:01,  1.66it/s]"
     ]
    },
    {
     "name": "stdout",
     "output_type": "stream",
     "text": [
      "202324-LIFE328 - Veterinary Epidemiology and Public Health RESIT LIFE328.0 Cycle 2 Submission 60% []\n"
     ]
    },
    {
     "name": "stderr",
     "output_type": "stream",
     "text": [
      " 53%|█████▎    | 222/422 [06:13<01:58,  1.68it/s]"
     ]
    },
    {
     "name": "stdout",
     "output_type": "stream",
     "text": [
      "202324-LIFE328 - Veterinary Epidemiology and Public Health RESIT LIFE328.1 (40%) Tutorial Group ] Cycle 1 Assessment Group Project []\n"
     ]
    },
    {
     "name": "stderr",
     "output_type": "stream",
     "text": [
      " 53%|█████▎    | 223/422 [06:14<01:58,  1.67it/s]"
     ]
    },
    {
     "name": "stdout",
     "output_type": "stream",
     "text": [
      "202324-LIFE327 - Advanced Biotechnology RESIT LIFE327.0.1 (60%) -- Cycle 2 -- QUESTION 1 []\n"
     ]
    },
    {
     "name": "stderr",
     "output_type": "stream",
     "text": [
      " 53%|█████▎    | 224/422 [06:14<01:58,  1.67it/s]"
     ]
    },
    {
     "name": "stdout",
     "output_type": "stream",
     "text": [
      "202324-LIFE327 - Advanced Biotechnology RESIT LIFE327.0.2 (60%) -- Cycle 2 -- QUESTION 2 []\n"
     ]
    },
    {
     "name": "stderr",
     "output_type": "stream",
     "text": [
      " 53%|█████▎    | 225/422 [06:15<01:58,  1.66it/s]"
     ]
    },
    {
     "name": "stdout",
     "output_type": "stream",
     "text": [
      "202324-LIFE327 - Advanced Biotechnology RESIT LIFE327.0.3 (60%) -- Cycle 2 -- QUESTION 3 []\n"
     ]
    },
    {
     "name": "stderr",
     "output_type": "stream",
     "text": [
      " 54%|█████▎    | 226/422 [06:16<01:57,  1.67it/s]"
     ]
    },
    {
     "name": "stdout",
     "output_type": "stream",
     "text": [
      "202324-LIFE327 - Advanced Biotechnology RESIT LIFE327.0.4 (60%) -- Cycle 2 -- QUESTION 4 []\n"
     ]
    },
    {
     "name": "stderr",
     "output_type": "stream",
     "text": [
      " 54%|█████▍    | 227/422 [06:16<01:51,  1.74it/s]"
     ]
    },
    {
     "name": "stdout",
     "output_type": "stream",
     "text": [
      "202324-LIFE327 - Advanced Biotechnology RESIT LIFE327.1 (40%) - Cycle 1 - Essay 1  []\n"
     ]
    },
    {
     "name": "stderr",
     "output_type": "stream",
     "text": [
      " 54%|█████▍    | 228/422 [06:17<01:48,  1.79it/s]"
     ]
    },
    {
     "name": "stdout",
     "output_type": "stream",
     "text": [
      "202324-LIFE326 - Conservation Biology RESIT LIFE326.0 (60%) - Cycle 2 []\n"
     ]
    },
    {
     "name": "stderr",
     "output_type": "stream",
     "text": [
      " 54%|█████▍    | 229/422 [06:17<01:46,  1.81it/s]"
     ]
    },
    {
     "name": "stdout",
     "output_type": "stream",
     "text": [
      "202324-LIFE326 - Conservation Biology RESIT LIFE326.1.1 (40%) - Cycle 1 - Debate Topic 1  []\n"
     ]
    },
    {
     "name": "stderr",
     "output_type": "stream",
     "text": [
      " 55%|█████▍    | 230/422 [06:18<01:47,  1.79it/s]"
     ]
    },
    {
     "name": "stdout",
     "output_type": "stream",
     "text": [
      "202324-LIFE326 - Conservation Biology RESIT LIFE326.1.2 (40%) - Cycle 1 -  Debate Topic 2 []\n"
     ]
    },
    {
     "name": "stderr",
     "output_type": "stream",
     "text": [
      " 55%|█████▍    | 231/422 [06:18<01:44,  1.83it/s]"
     ]
    },
    {
     "name": "stdout",
     "output_type": "stream",
     "text": [
      "202324-LIFE326 - Conservation Biology RESIT LIFE326.1.3 (40%) - Cycle 1 - Debate Topic 3  []\n"
     ]
    },
    {
     "name": "stderr",
     "output_type": "stream",
     "text": [
      " 55%|█████▍    | 232/422 [06:19<01:43,  1.84it/s]"
     ]
    },
    {
     "name": "stdout",
     "output_type": "stream",
     "text": [
      "202324-LIFE326 - Conservation Biology RESIT LIFE326.1.4 (40%) - Cycle 1 - Debate Topic 4  []\n"
     ]
    },
    {
     "name": "stderr",
     "output_type": "stream",
     "text": [
      " 55%|█████▌    | 233/422 [06:19<01:46,  1.77it/s]"
     ]
    },
    {
     "name": "stdout",
     "output_type": "stream",
     "text": [
      "202324-LIFE326 - Conservation Biology RESIT LIFE326.1.5 (40%) - Cycle 1 - Debate Topic 5  []\n"
     ]
    },
    {
     "name": "stderr",
     "output_type": "stream",
     "text": [
      " 55%|█████▌    | 234/422 [06:20<01:45,  1.78it/s]"
     ]
    },
    {
     "name": "stdout",
     "output_type": "stream",
     "text": [
      "202324-LIFE325 - Advanced Skills in Microbiology RESIT LIFE325.1 (40%) - Peer Review - Advanced Skills []\n"
     ]
    },
    {
     "name": "stderr",
     "output_type": "stream",
     "text": [
      " 56%|█████▌    | 235/422 [06:20<01:41,  1.84it/s]"
     ]
    },
    {
     "name": "stdout",
     "output_type": "stream",
     "text": [
      "202324-LIFE325 - Advanced Skills in Microbiology RESIT LIFE325.0 (60%) - PostNote []\n",
      "202324-LIFE324 - CURRENT SKILLS AND TOPICS IN EVOLUTIONARY BIOLOGY RESIT LIFE324.1 (40%) Cycle 1 Submission  [60201]\n"
     ]
    },
    {
     "name": "stderr",
     "output_type": "stream",
     "text": [
      " 56%|█████▌    | 236/422 [06:22<02:29,  1.24it/s]"
     ]
    },
    {
     "name": "stdout",
     "output_type": "stream",
     "text": [
      "202324-LIFE324 - CURRENT SKILLS AND TOPICS IN EVOLUTIONARY BIOLOGY RESIT LIFE324.0 (60%) Cycle 2 Submission [60201]\n"
     ]
    },
    {
     "name": "stderr",
     "output_type": "stream",
     "text": [
      " 56%|█████▌    | 237/422 [06:23<03:10,  1.03s/it]"
     ]
    },
    {
     "name": "stdout",
     "output_type": "stream",
     "text": [
      "202324-LIFE323 - Gene Expression and Development RESIT LIFE323.1.1 - Cycle 1 - Question 1 Submission [79171]\n"
     ]
    },
    {
     "name": "stderr",
     "output_type": "stream",
     "text": [
      " 56%|█████▋    | 238/422 [06:25<04:05,  1.33s/it]"
     ]
    },
    {
     "name": "stdout",
     "output_type": "stream",
     "text": [
      "202324-LIFE323 - Gene Expression and Development RESIT LIFE323.1.2 - Cycle 1 - Question 2 Submission [79171]\n"
     ]
    },
    {
     "name": "stderr",
     "output_type": "stream",
     "text": [
      " 57%|█████▋    | 239/422 [06:27<04:17,  1.41s/it]"
     ]
    },
    {
     "name": "stdout",
     "output_type": "stream",
     "text": [
      "202324-LIFE323 - Gene Expression and Development RESIT LIFE323.0.1 (60%) - Cycle 2 - Question 1 (50% of cycle 2) Submission [60201, 79171]\n"
     ]
    },
    {
     "name": "stderr",
     "output_type": "stream",
     "text": [
      " 57%|█████▋    | 240/422 [06:30<05:34,  1.84s/it]"
     ]
    },
    {
     "name": "stdout",
     "output_type": "stream",
     "text": [
      "202324-LIFE323 - Gene Expression and Development RESIT LIFE323.0.2 (60%) - Cycle 2 - Question 2 (50% of cycle 2) Submission [60201, 79171]\n"
     ]
    },
    {
     "name": "stderr",
     "output_type": "stream",
     "text": [
      " 57%|█████▋    | 242/422 [06:33<04:51,  1.62s/it]"
     ]
    },
    {
     "name": "stdout",
     "output_type": "stream",
     "text": [
      "202324-LIFE322 - Current Topics in Animal Behaviour RESIT LIFE322.1 - Primer []\n"
     ]
    },
    {
     "name": "stderr",
     "output_type": "stream",
     "text": [
      " 58%|█████▊    | 243/422 [06:34<03:52,  1.30s/it]"
     ]
    },
    {
     "name": "stdout",
     "output_type": "stream",
     "text": [
      "202324-LIFE322 - Current Topics in Animal Behaviour RESIT LIFE322.0 (60%) Cycle 2 Submission []\n",
      "202324-LIFE321 - Human and Clinical Genetics RESIT LIFE321.1 Cycle 1 (40%) GWAS question [115175]\n"
     ]
    },
    {
     "name": "stderr",
     "output_type": "stream",
     "text": [
      " 58%|█████▊    | 244/422 [06:35<04:00,  1.35s/it]"
     ]
    },
    {
     "name": "stdout",
     "output_type": "stream",
     "text": [
      "202324-LIFE321 - Human and Clinical Genetics RESIT LIFE321.0.1 (60%) - Cycle 2 - Q1 - Dr Ian Ellis [60201]\n"
     ]
    },
    {
     "name": "stderr",
     "output_type": "stream",
     "text": [
      " 58%|█████▊    | 245/422 [06:37<04:10,  1.42s/it]"
     ]
    },
    {
     "name": "stdout",
     "output_type": "stream",
     "text": [
      "202324-LIFE321 - Human and Clinical Genetics RESIT LIFE321.0.2 (60%) - Cycle 2 - Q2 Nigel Jones [60201]\n"
     ]
    },
    {
     "name": "stderr",
     "output_type": "stream",
     "text": [
      " 58%|█████▊    | 246/422 [06:38<04:11,  1.43s/it]"
     ]
    },
    {
     "name": "stdout",
     "output_type": "stream",
     "text": [
      "202324-LIFE320 - VIRAL DISEASE MECHANISMS RESIT LIFE320.1 Cycle 1 [24151]\n"
     ]
    },
    {
     "name": "stderr",
     "output_type": "stream",
     "text": [
      " 59%|█████▊    | 247/422 [06:40<04:21,  1.49s/it]"
     ]
    },
    {
     "name": "stdout",
     "output_type": "stream",
     "text": [
      "202324-LIFE320 - VIRAL DISEASE MECHANISMS RESIT LIFE320.0 Cycle 2 [24151]\n"
     ]
    },
    {
     "name": "stderr",
     "output_type": "stream",
     "text": [
      " 59%|█████▉    | 249/422 [06:42<03:34,  1.24s/it]"
     ]
    },
    {
     "name": "stdout",
     "output_type": "stream",
     "text": [
      "202324-LIFE318 - Bacterial Disease Mechanisms RESIT LIFE318 Cycle 1 (40%) []\n"
     ]
    },
    {
     "name": "stderr",
     "output_type": "stream",
     "text": [
      " 59%|█████▉    | 250/422 [06:42<02:55,  1.02s/it]"
     ]
    },
    {
     "name": "stdout",
     "output_type": "stream",
     "text": [
      "202324-LIFE318 - Bacterial Disease Mechanisms RESIT LIFE318 Cycle 2 (60%) []\n"
     ]
    },
    {
     "name": "stderr",
     "output_type": "stream",
     "text": [
      " 59%|█████▉    | 251/422 [06:43<02:32,  1.12it/s]"
     ]
    },
    {
     "name": "stdout",
     "output_type": "stream",
     "text": [
      "202324-LIFE317 - MOLECULAR AND NEUROPHARMACOLOGY RESIT LIFE317.0.1 (60%) - Cycle 2 - Part 1 []\n"
     ]
    },
    {
     "name": "stderr",
     "output_type": "stream",
     "text": [
      " 60%|█████▉    | 252/422 [06:44<02:14,  1.26it/s]"
     ]
    },
    {
     "name": "stdout",
     "output_type": "stream",
     "text": [
      "202324-LIFE317 - MOLECULAR AND NEUROPHARMACOLOGY RESIT LIFE317.0.2 (60%) - Cycle 2 - Part 2 []\n",
      "202324-LIFE317 - MOLECULAR AND NEUROPHARMACOLOGY RESIT LIFE317.1.1 (40%) - Cycle 1 - Part 1 [40172]\n"
     ]
    },
    {
     "name": "stderr",
     "output_type": "stream",
     "text": [
      " 60%|█████▉    | 253/422 [06:45<02:51,  1.02s/it]"
     ]
    },
    {
     "name": "stdout",
     "output_type": "stream",
     "text": [
      "202324-LIFE317 - MOLECULAR AND NEUROPHARMACOLOGY RESIT LIFE317.1.2 (40%) - Cycle 1 - Part 2 [40172]\n"
     ]
    },
    {
     "name": "stderr",
     "output_type": "stream",
     "text": [
      " 60%|██████    | 254/422 [06:47<03:17,  1.17s/it]"
     ]
    },
    {
     "name": "stdout",
     "output_type": "stream",
     "text": [
      "202324-LIFE316 - Molecular Toxicology RESIT LIFE316.0.1 -  Cycle 2 Question 1 Submission Link Sharma [57665]\n"
     ]
    },
    {
     "name": "stderr",
     "output_type": "stream",
     "text": [
      " 60%|██████    | 255/422 [06:48<03:41,  1.33s/it]"
     ]
    },
    {
     "name": "stdout",
     "output_type": "stream",
     "text": [
      "202324-LIFE316 - Molecular Toxicology RESIT LIFE316.0.2 - Cycle 2 Question 2 Submission Link Naisbitt [57665]\n"
     ]
    },
    {
     "name": "stderr",
     "output_type": "stream",
     "text": [
      " 61%|██████    | 256/422 [06:50<03:59,  1.44s/it]"
     ]
    },
    {
     "name": "stdout",
     "output_type": "stream",
     "text": [
      "202324-LIFE315 - Drug Metabolism and Drug Response RESIT LIFE315.0.1 (60%) - Cycle 2 - Question 1 [40172]\n"
     ]
    },
    {
     "name": "stderr",
     "output_type": "stream",
     "text": [
      " 61%|██████    | 257/422 [06:51<03:59,  1.45s/it]"
     ]
    },
    {
     "name": "stdout",
     "output_type": "stream",
     "text": [
      "202324-LIFE315 - Drug Metabolism and Drug Response RESIT LIFE315.0.3 (60%) - Cycle 2 - Question 3 [40172]\n"
     ]
    },
    {
     "name": "stderr",
     "output_type": "stream",
     "text": [
      " 61%|██████    | 258/422 [06:53<04:00,  1.47s/it]"
     ]
    },
    {
     "name": "stdout",
     "output_type": "stream",
     "text": [
      "202324-LIFE315 - Drug Metabolism and Drug Response RESIT LIFE315.0.2 (60%) - Cycle 2 - Question 2  [40172]\n"
     ]
    },
    {
     "name": "stderr",
     "output_type": "stream",
     "text": [
      " 62%|██████▏   | 260/422 [06:56<03:33,  1.32s/it]"
     ]
    },
    {
     "name": "stdout",
     "output_type": "stream",
     "text": [
      "202324-LIFE315 - Drug Metabolism and Drug Response RESIT LIFE315.1.1 (40%) - Cycle 1 Marking Rubric []\n"
     ]
    },
    {
     "name": "stderr",
     "output_type": "stream",
     "text": [
      " 62%|██████▏   | 261/422 [06:56<02:53,  1.08s/it]"
     ]
    },
    {
     "name": "stdout",
     "output_type": "stream",
     "text": [
      "202324-LIFE314 - Cancer Pharmacology RESIT LIFE314.1.1 (40%) - Cycle 1 - QUESTION 1 []\n"
     ]
    },
    {
     "name": "stderr",
     "output_type": "stream",
     "text": [
      " 62%|██████▏   | 262/422 [06:57<02:27,  1.08it/s]"
     ]
    },
    {
     "name": "stdout",
     "output_type": "stream",
     "text": [
      "202324-LIFE314 - Cancer Pharmacology RESIT LIFE314.1.2 (40%) - Cycle 1 - QUESTION 2 []\n"
     ]
    },
    {
     "name": "stderr",
     "output_type": "stream",
     "text": [
      " 62%|██████▏   | 263/422 [06:57<02:08,  1.24it/s]"
     ]
    },
    {
     "name": "stdout",
     "output_type": "stream",
     "text": [
      "202324-LIFE314 - Cancer Pharmacology RESIT LIFE314.0.1 (60%) - Cycle 2 Question 1 []\n"
     ]
    },
    {
     "name": "stderr",
     "output_type": "stream",
     "text": [
      " 63%|██████▎   | 264/422 [06:58<01:51,  1.41it/s]"
     ]
    },
    {
     "name": "stdout",
     "output_type": "stream",
     "text": [
      "202324-LIFE314 - Cancer Pharmacology RESIT LIFE314.0.2 (60%) - Cycle 2 Question 2 []\n"
     ]
    },
    {
     "name": "stderr",
     "output_type": "stream",
     "text": [
      " 63%|██████▎   | 265/422 [06:58<01:43,  1.51it/s]"
     ]
    },
    {
     "name": "stdout",
     "output_type": "stream",
     "text": [
      "202324-LIFE314 - Cancer Pharmacology RESIT LIFE314.0.3 (60%) - Cycle 2 Question 3 []\n",
      "202324-LIFE313 - Cardiovascular and Respiratory Pharmacology RESIT LIFE313.0.1A (60%) - Cycle 2 - Question 1A [87291]\n"
     ]
    },
    {
     "name": "stderr",
     "output_type": "stream",
     "text": [
      " 63%|██████▎   | 266/422 [07:00<02:22,  1.10it/s]"
     ]
    },
    {
     "name": "stdout",
     "output_type": "stream",
     "text": [
      "202324-LIFE313 - Cardiovascular and Respiratory Pharmacology RESIT LIFE313.0.1B (60%) - Cycle 2 - Question 1B [87291]\n"
     ]
    },
    {
     "name": "stderr",
     "output_type": "stream",
     "text": [
      " 63%|██████▎   | 267/422 [07:01<02:47,  1.08s/it]"
     ]
    },
    {
     "name": "stdout",
     "output_type": "stream",
     "text": [
      "202324-LIFE313 - Cardiovascular and Respiratory Pharmacology RESIT LIFE313.0.2A (60%) - Cycle 2 - Question 2A [87291]\n"
     ]
    },
    {
     "name": "stderr",
     "output_type": "stream",
     "text": [
      " 64%|██████▎   | 268/422 [07:03<03:12,  1.25s/it]"
     ]
    },
    {
     "name": "stdout",
     "output_type": "stream",
     "text": [
      "202324-LIFE313 - Cardiovascular and Respiratory Pharmacology RESIT LIFE313.0.2B (60%) - Cycle 2 - Question 2B [87291]\n"
     ]
    },
    {
     "name": "stderr",
     "output_type": "stream",
     "text": [
      " 64%|██████▍   | 270/422 [07:05<02:56,  1.16s/it]"
     ]
    },
    {
     "name": "stdout",
     "output_type": "stream",
     "text": [
      "202324-LIFE313 - Cardiovascular and Respiratory Pharmacology RESIT LIFE313.1 (40%) - Cycle 1  []\n"
     ]
    },
    {
     "name": "stderr",
     "output_type": "stream",
     "text": [
      " 64%|██████▍   | 271/422 [07:06<02:41,  1.07s/it]"
     ]
    },
    {
     "name": "stdout",
     "output_type": "stream",
     "text": [
      "202324-LIFE312 - Chemotherapy and Cellular Pharmacology RESIT LIFE312.1.1 (40%) Cycle 1 - Q1 (Pushpakom) []\n"
     ]
    },
    {
     "name": "stderr",
     "output_type": "stream",
     "text": [
      " 64%|██████▍   | 272/422 [07:07<02:16,  1.10it/s]"
     ]
    },
    {
     "name": "stdout",
     "output_type": "stream",
     "text": [
      "202324-LIFE312 - Chemotherapy and Cellular Pharmacology RESIT LIFE312.1.2 (40%) Cycle 1 - Q2 (Nixon) []\n"
     ]
    },
    {
     "name": "stderr",
     "output_type": "stream",
     "text": [
      " 65%|██████▍   | 273/422 [07:07<01:59,  1.25it/s]"
     ]
    },
    {
     "name": "stdout",
     "output_type": "stream",
     "text": [
      "202324-LIFE312 - Chemotherapy and Cellular Pharmacology RESIT LIFE312.0.1 (60%) Cycle 2 - Q1a  (Dickens) []\n"
     ]
    },
    {
     "name": "stderr",
     "output_type": "stream",
     "text": [
      " 65%|██████▍   | 274/422 [07:08<01:47,  1.38it/s]"
     ]
    },
    {
     "name": "stdout",
     "output_type": "stream",
     "text": [
      "202324-LIFE312 - Chemotherapy and Cellular Pharmacology RESIT LIFE312.0.2 (60%) Cycle 2 – Q1b (Olagunju)  []\n"
     ]
    },
    {
     "name": "stderr",
     "output_type": "stream",
     "text": [
      " 65%|██████▌   | 275/422 [07:08<01:38,  1.49it/s]"
     ]
    },
    {
     "name": "stdout",
     "output_type": "stream",
     "text": [
      "202324-LIFE312 - Chemotherapy and Cellular Pharmacology RESIT LIFE312.0.3 (60%) Cycle 2 – Q2 (O'Neill) []\n",
      "202324-LIFE311 - NEUROMUSCULAR PHYSIOLOGY AND DISEASE RESIT LIFE311.1.2 (40%) - Cycle 1 - Question 2 - Skeletal Muscle Atrophy [57665]\n"
     ]
    },
    {
     "name": "stderr",
     "output_type": "stream",
     "text": [
      " 65%|██████▌   | 276/422 [07:10<02:21,  1.03it/s]"
     ]
    },
    {
     "name": "stdout",
     "output_type": "stream",
     "text": [
      "202324-LIFE311 - NEUROMUSCULAR PHYSIOLOGY AND DISEASE RESIT LIFE311.1.1 (40%) - Cycle 1 - Question 1 - Smooth Muscle and Force Regulation [57665]\n"
     ]
    },
    {
     "name": "stderr",
     "output_type": "stream",
     "text": [
      " 66%|██████▌   | 277/422 [07:11<02:47,  1.15s/it]"
     ]
    },
    {
     "name": "stdout",
     "output_type": "stream",
     "text": [
      "202324-LIFE311 - NEUROMUSCULAR PHYSIOLOGY AND DISEASE RESIT LIFE311.1.3 (40%) - Cycle 1 - Question 3 - Sensory Neuron Systems [57665]\n"
     ]
    },
    {
     "name": "stderr",
     "output_type": "stream",
     "text": [
      " 66%|██████▌   | 278/422 [07:14<03:25,  1.43s/it]"
     ]
    },
    {
     "name": "stdout",
     "output_type": "stream",
     "text": [
      "202324-LIFE311 - NEUROMUSCULAR PHYSIOLOGY AND DISEASE RESIT LIFE311.0.1 (60%) - Cycle 2 - Question 1- Circadian rhythms  [57665]\n"
     ]
    },
    {
     "name": "stderr",
     "output_type": "stream",
     "text": [
      " 66%|██████▌   | 279/422 [07:15<03:27,  1.45s/it]"
     ]
    },
    {
     "name": "stdout",
     "output_type": "stream",
     "text": [
      "202324-LIFE311 - NEUROMUSCULAR PHYSIOLOGY AND DISEASE RESIT LIFE311.0.2 (60%) - Cycle 2 - Question 2 - Neuromuscular synapse and venoms  [57665]\n"
     ]
    },
    {
     "name": "stderr",
     "output_type": "stream",
     "text": [
      " 66%|██████▋   | 280/422 [07:17<03:34,  1.51s/it]"
     ]
    },
    {
     "name": "stdout",
     "output_type": "stream",
     "text": [
      "202324-LIFE311 - NEUROMUSCULAR PHYSIOLOGY AND DISEASE RESIT LIFE311.0.3 (60%) - Cycle 2 - Question 3 - Neuroplasticity in neuronal cells [57665]\n"
     ]
    },
    {
     "name": "stderr",
     "output_type": "stream",
     "text": [
      " 67%|██████▋   | 281/422 [07:18<03:40,  1.57s/it]"
     ]
    },
    {
     "name": "stdout",
     "output_type": "stream",
     "text": [
      "202324-LIFE311 - NEUROMUSCULAR PHYSIOLOGY AND DISEASE RESIT LIFE311.0.4 (60%) - Cycle 2 - Question 4 - Regeneration and neuronal cytoskeleton [57665]\n"
     ]
    },
    {
     "name": "stderr",
     "output_type": "stream",
     "text": [
      " 67%|██████▋   | 282/422 [07:20<03:37,  1.55s/it]"
     ]
    },
    {
     "name": "stdout",
     "output_type": "stream",
     "text": [
      "202324-LIFE310 - Data Handling for Physiologists RESIT LIFE310.1 Cycle 1 (40%)- Assessment Submission Link [61134]\n"
     ]
    },
    {
     "name": "stderr",
     "output_type": "stream",
     "text": [
      " 67%|██████▋   | 283/422 [07:22<03:55,  1.70s/it]"
     ]
    },
    {
     "name": "stdout",
     "output_type": "stream",
     "text": [
      "202324-LIFE310 - Data Handling for Physiologists RESIT LIFE310.0 Cycle 2 (60%)- Assessment Submission Link [61134]\n"
     ]
    },
    {
     "name": "stderr",
     "output_type": "stream",
     "text": [
      " 68%|██████▊   | 285/422 [07:24<03:05,  1.35s/it]"
     ]
    },
    {
     "name": "stdout",
     "output_type": "stream",
     "text": [
      "202324-LIFE309 - Principles of Molecular Physiology Research RESIT LIFE309.1 (40%) - Cycle 1 - Assessment []\n"
     ]
    },
    {
     "name": "stderr",
     "output_type": "stream",
     "text": [
      " 68%|██████▊   | 286/422 [07:25<02:30,  1.11s/it]"
     ]
    },
    {
     "name": "stdout",
     "output_type": "stream",
     "text": [
      "202324-LIFE309 - Principles of Molecular Physiology Research RESIT LIFE309.0 (60%) - Cycle 2 - Assessment []\n"
     ]
    },
    {
     "name": "stderr",
     "output_type": "stream",
     "text": [
      " 68%|██████▊   | 287/422 [07:25<02:07,  1.06it/s]"
     ]
    },
    {
     "name": "stdout",
     "output_type": "stream",
     "text": [
      "202324-LIFE308 - ADVANCED SKILLS IN PHYSIOLOGY RESIT LIFE308.1 (40%)  - Peer Review - Advanced Skills []\n"
     ]
    },
    {
     "name": "stderr",
     "output_type": "stream",
     "text": [
      " 68%|██████▊   | 288/422 [07:26<01:50,  1.21it/s]"
     ]
    },
    {
     "name": "stdout",
     "output_type": "stream",
     "text": [
      "202324-LIFE308 - ADVANCED SKILLS IN PHYSIOLOGY RESIT LIFE308.0 (60%) - Cycle 2- POSTnote []\n",
      "202324-LIFE306 - Molecular Medicine RESIT LIFE306.1 (40%) - Cycle 1 Submission  [58928, 79171]\n"
     ]
    },
    {
     "name": "stderr",
     "output_type": "stream",
     "text": [
      " 69%|██████▊   | 290/422 [07:29<02:29,  1.13s/it]"
     ]
    },
    {
     "name": "stdout",
     "output_type": "stream",
     "text": [
      "202324-LIFE306 - Molecular Medicine RESIT LIFE306.0.1 (60%) Cycle 2 - Question 1 []\n"
     ]
    },
    {
     "name": "stderr",
     "output_type": "stream",
     "text": [
      " 69%|██████▉   | 291/422 [07:30<02:04,  1.05it/s]"
     ]
    },
    {
     "name": "stdout",
     "output_type": "stream",
     "text": [
      "202324-LIFE306 - Molecular Medicine RESIT LIFE306.0.1 (60%) Cycle 2 - Question 2 []\n",
      "202324-LIFE305 - Cell Signalling in Health and Disease RESIT LIFE305.0 (60%) - Assessment Submission - Semester 2 Cycle 2 [57665]\n"
     ]
    },
    {
     "name": "stderr",
     "output_type": "stream",
     "text": [
      " 69%|██████▉   | 292/422 [07:31<02:32,  1.18s/it]"
     ]
    },
    {
     "name": "stdout",
     "output_type": "stream",
     "text": [
      "202324-LIFE305 - Cell Signalling in Health and Disease RESIT LIFE305.1 (40%) - In-Course Assessment - Semester 1 Cycle 1 [57665, 59569, 79171, 87291]\n"
     ]
    },
    {
     "name": "stderr",
     "output_type": "stream",
     "text": [
      " 69%|██████▉   | 293/422 [07:37<05:13,  2.43s/it]"
     ]
    },
    {
     "name": "stdout",
     "output_type": "stream",
     "text": [
      "202324-LIFE303 - Protein Structure Function and Organisation RESIT LIFE303.1 (40%) - Cycle 1 [79171]\n"
     ]
    },
    {
     "name": "stderr",
     "output_type": "stream",
     "text": [
      " 70%|███████   | 296/422 [07:39<02:47,  1.33s/it]"
     ]
    },
    {
     "name": "stdout",
     "output_type": "stream",
     "text": [
      "202324-LIFE303 - Protein Structure Function and Organisation RESIT LIFE303.0.1 (60%) - Cycle 2 []\n"
     ]
    },
    {
     "name": "stderr",
     "output_type": "stream",
     "text": [
      " 70%|███████   | 297/422 [07:40<02:06,  1.01s/it]"
     ]
    },
    {
     "name": "stdout",
     "output_type": "stream",
     "text": [
      "202324-LIFE302 - GENES AND CANCER RESIT LIFE302.1 (40%) Cycle 1 Assessment Submission [58928]\n"
     ]
    },
    {
     "name": "stderr",
     "output_type": "stream",
     "text": [
      " 71%|███████   | 298/422 [07:41<02:26,  1.18s/it]"
     ]
    },
    {
     "name": "stdout",
     "output_type": "stream",
     "text": [
      "202324-LIFE302 - GENES AND CANCER RESIT LIFE302.0 (60%) Cycle 2 Assessment Submission [60201]\n"
     ]
    },
    {
     "name": "stderr",
     "output_type": "stream",
     "text": [
      " 71%|███████   | 300/422 [07:43<02:13,  1.09s/it]"
     ]
    },
    {
     "name": "stdout",
     "output_type": "stream",
     "text": [
      "202324-LIFE301 - ADVANCED SKILLS IN BIOCHEMISTRY RESIT LIFE301 Peer Review - Advanced Skills (40%) []\n"
     ]
    },
    {
     "name": "stderr",
     "output_type": "stream",
     "text": [
      " 71%|███████▏  | 301/422 [07:44<01:52,  1.07it/s]"
     ]
    },
    {
     "name": "stdout",
     "output_type": "stream",
     "text": [
      "202324-LIFE301 - ADVANCED SKILLS IN BIOCHEMISTRY RESIT LIFE301.1 Science Communication Article (60%) []\n",
      "202324-LIFE243 - Bird Ecology Identification and Conservation RESIT ISAP - 60% Cycle 2 [54716, 57892, 104831, 104843, 113027, 113754]\n"
     ]
    },
    {
     "name": "stderr",
     "output_type": "stream",
     "text": [
      " 72%|███████▏  | 302/422 [07:51<05:22,  2.69s/it]"
     ]
    },
    {
     "name": "stdout",
     "output_type": "stream",
     "text": [
      "202324-LIFE240 - Pathological Basis of Animal Diseases RESIT LIFE240.0 60% - Cycle 2 Essay 1 Submission  [83755]\n"
     ]
    },
    {
     "name": "stderr",
     "output_type": "stream",
     "text": [
      " 72%|███████▏  | 303/422 [07:52<04:38,  2.34s/it]"
     ]
    },
    {
     "name": "stdout",
     "output_type": "stream",
     "text": [
      "202324-LIFE240 - Pathological Basis of Animal Diseases RESIT LIFE240.0 60% - Cycle 2 Essay 2 Submission [83755]\n"
     ]
    },
    {
     "name": "stderr",
     "output_type": "stream",
     "text": [
      " 72%|███████▏  | 304/422 [07:54<04:17,  2.18s/it]"
     ]
    },
    {
     "name": "stdout",
     "output_type": "stream",
     "text": [
      "202324-LIFE240 - Pathological Basis of Animal Diseases RESIT LIFE240.1.1 (40%) Cycle 1 – Essay 1 Submission [67694, 83755]\n"
     ]
    },
    {
     "name": "stderr",
     "output_type": "stream",
     "text": [
      " 72%|███████▏  | 305/422 [07:57<04:47,  2.46s/it]"
     ]
    },
    {
     "name": "stdout",
     "output_type": "stream",
     "text": [
      "202324-LIFE240 - Pathological Basis of Animal Diseases RESIT LIFE240.1.2 (40%) Cycle 1 – Essay 2 Submission [67694, 83755]\n"
     ]
    },
    {
     "name": "stderr",
     "output_type": "stream",
     "text": [
      " 73%|███████▎  | 306/422 [08:00<04:52,  2.52s/it]"
     ]
    },
    {
     "name": "stdout",
     "output_type": "stream",
     "text": [
      "202324-LIFE239 - Advanced Techniques in Animal Behaviour Health and Welfare RESIT LIFE239.0 (100%) - Portfolio [67694]\n"
     ]
    },
    {
     "name": "stderr",
     "output_type": "stream",
     "text": [
      " 73%|███████▎  | 307/422 [08:06<06:48,  3.55s/it]"
     ]
    },
    {
     "name": "stdout",
     "output_type": "stream",
     "text": [
      "202324-LIFE238 - Advanced Experimental Design and Analysis RESIT LIFE238.1.1 (20%) Computer Assignment 2 - Summative [54716, 59836, 104587, 104843, 113027, 117151]\n"
     ]
    },
    {
     "name": "stderr",
     "output_type": "stream",
     "text": [
      " 73%|███████▎  | 308/422 [08:12<08:23,  4.42s/it]"
     ]
    },
    {
     "name": "stdout",
     "output_type": "stream",
     "text": [
      "202324-LIFE238 - Advanced Experimental Design and Analysis RESIT LIFE238.1.2 (20%) Computer Assignment 3 - Summative [54716, 104587, 104843, 113027, 117151]\n"
     ]
    },
    {
     "name": "stderr",
     "output_type": "stream",
     "text": [
      " 73%|███████▎  | 309/422 [08:18<09:12,  4.89s/it]"
     ]
    },
    {
     "name": "stdout",
     "output_type": "stream",
     "text": [
      "202324-LIFE238 - Advanced Experimental Design and Analysis RESIT LIFE238.2 (20%) Experimental Assignment 2- Summative [54716, 59836, 104587, 104843, 113027, 117151]\n"
     ]
    },
    {
     "name": "stderr",
     "output_type": "stream",
     "text": [
      " 73%|███████▎  | 310/422 [08:25<09:55,  5.32s/it]"
     ]
    },
    {
     "name": "stdout",
     "output_type": "stream",
     "text": [
      "202324-LIFE238 - Advanced Experimental Design and Analysis RESIT LIFE238.0 (40%) Final Experimental Assignment  3- summative [54716, 59686, 104587, 104843, 117151]\n"
     ]
    },
    {
     "name": "stderr",
     "output_type": "stream",
     "text": [
      " 74%|███████▍  | 312/422 [08:31<07:27,  4.07s/it]"
     ]
    },
    {
     "name": "stdout",
     "output_type": "stream",
     "text": [
      "202324-LIFE238 - Advanced Experimental Design and Analysis RESIT LIFE238.0 (40%) Experimental Assignment 3 (Summative): Data file []\n"
     ]
    },
    {
     "name": "stderr",
     "output_type": "stream",
     "text": [
      " 74%|███████▍  | 314/422 [08:32<03:49,  2.12s/it]"
     ]
    },
    {
     "name": "stdout",
     "output_type": "stream",
     "text": [
      "202324-LIFE236 - Practical Skills in Tropical Medicine RESIT LIFE236.0 lab Assessment part A [34362]\n"
     ]
    },
    {
     "name": "stderr",
     "output_type": "stream",
     "text": [
      " 75%|███████▍  | 315/422 [08:34<03:32,  1.98s/it]"
     ]
    },
    {
     "name": "stdout",
     "output_type": "stream",
     "text": [
      "202324-LIFE236 - Practical Skills in Tropical Medicine RESIT LIFE236.0 lab assessment part B [34362]\n"
     ]
    },
    {
     "name": "stderr",
     "output_type": "stream",
     "text": [
      " 75%|███████▍  | 316/422 [08:35<03:19,  1.88s/it]"
     ]
    },
    {
     "name": "stdout",
     "output_type": "stream",
     "text": [
      "202324-LIFE235 - Anatomy of the Abdomen and Pelvis RESIT LIFE235.0.1 (70%)  - Cycle 2 - Essay 1 [62548, 86818, 110842]\n"
     ]
    },
    {
     "name": "stderr",
     "output_type": "stream",
     "text": [
      " 75%|███████▌  | 317/422 [08:40<04:58,  2.85s/it]"
     ]
    },
    {
     "name": "stdout",
     "output_type": "stream",
     "text": [
      "202324-LIFE235 - Anatomy of the Abdomen and Pelvis RESIT LIFE235.0.2 (70%) - Cycle 2 - Essay  2 [62548, 86818, 110842]\n"
     ]
    },
    {
     "name": "stderr",
     "output_type": "stream",
     "text": [
      " 76%|███████▌  | 320/422 [08:45<02:51,  1.68s/it]"
     ]
    },
    {
     "name": "stdout",
     "output_type": "stream",
     "text": [
      "202324-LIFE234 - PRACTICAL PHARMACOLOGY RESIT LIFE234.1 (50%) - Cycle 2 Submission (Lab report) [85723, 112842, 114104]\n"
     ]
    },
    {
     "name": "stderr",
     "output_type": "stream",
     "text": [
      " 76%|███████▌  | 321/422 [08:49<03:59,  2.37s/it]"
     ]
    },
    {
     "name": "stdout",
     "output_type": "stream",
     "text": [
      "202324-LIFE233 - Biodiversity Practical Skills RESIT LIFE233.1 (40%) - Cycle 1 [54716]\n"
     ]
    },
    {
     "name": "stderr",
     "output_type": "stream",
     "text": [
      " 77%|███████▋  | 323/422 [08:51<02:43,  1.65s/it]"
     ]
    },
    {
     "name": "stdout",
     "output_type": "stream",
     "text": [
      "202324-LIFE232 - Experimental Physiology RESIT Week 1 portfolio []\n"
     ]
    },
    {
     "name": "stderr",
     "output_type": "stream",
     "text": [
      " 77%|███████▋  | 324/422 [08:51<02:13,  1.36s/it]"
     ]
    },
    {
     "name": "stdout",
     "output_type": "stream",
     "text": [
      "202324-LIFE232 - Experimental Physiology RESIT Week 2 portfolio []\n"
     ]
    },
    {
     "name": "stderr",
     "output_type": "stream",
     "text": [
      " 77%|███████▋  | 325/422 [08:52<01:50,  1.14s/it]"
     ]
    },
    {
     "name": "stdout",
     "output_type": "stream",
     "text": [
      "202324-LIFE232 - Experimental Physiology RESIT Week 3 portfolio []\n"
     ]
    },
    {
     "name": "stderr",
     "output_type": "stream",
     "text": [
      " 77%|███████▋  | 326/422 [08:53<01:40,  1.05s/it]"
     ]
    },
    {
     "name": "stdout",
     "output_type": "stream",
     "text": [
      "202324-LIFE232 - Experimental Physiology RESIT Week 4 portfolio []\n"
     ]
    },
    {
     "name": "stderr",
     "output_type": "stream",
     "text": [
      " 77%|███████▋  | 327/422 [08:54<01:49,  1.15s/it]"
     ]
    },
    {
     "name": "stdout",
     "output_type": "stream",
     "text": [
      "202324-LIFE232 - Experimental Physiology RESIT Week 5 portfolio []\n",
      "202324-LIFE232 - Experimental Physiology RESIT individual written coursework assignment [85762, 86145]\n"
     ]
    },
    {
     "name": "stderr",
     "output_type": "stream",
     "text": [
      " 78%|███████▊  | 328/422 [08:57<02:29,  1.59s/it]"
     ]
    },
    {
     "name": "stdout",
     "output_type": "stream",
     "text": [
      "202324-LIFE232 - Experimental Physiology Individual coursework task resit [85762, 86145]\n"
     ]
    },
    {
     "name": "stderr",
     "output_type": "stream",
     "text": [
      " 78%|███████▊  | 329/422 [09:00<03:04,  1.99s/it]"
     ]
    },
    {
     "name": "stdout",
     "output_type": "stream",
     "text": [
      "202324-LIFE232 - Experimental Physiology Portfolio resit task [85762, 86145]\n"
     ]
    },
    {
     "name": "stderr",
     "output_type": "stream",
     "text": [
      " 78%|███████▊  | 331/422 [09:03<02:33,  1.68s/it]"
     ]
    },
    {
     "name": "stdout",
     "output_type": "stream",
     "text": [
      "202324-LIFE232 - Experimental Physiology RESIT Small Group Coursework Assignment Task []\n",
      "202324-LIFE230 - Advanced Techniques in Zoology RESIT Individual Report [54716, 59836, 67694, 82160, 104587, 104843, 113692, 117151]\n"
     ]
    },
    {
     "name": "stderr",
     "output_type": "stream",
     "text": [
      " 79%|███████▉  | 333/422 [09:13<04:24,  2.97s/it]"
     ]
    },
    {
     "name": "stdout",
     "output_type": "stream",
     "text": [
      "202324-LIFE229 - Practical Human Physiology RESIT LIFE229.2 (20%) - Group Poster []\n"
     ]
    },
    {
     "name": "stderr",
     "output_type": "stream",
     "text": [
      " 79%|███████▉  | 334/422 [09:13<03:16,  2.24s/it]"
     ]
    },
    {
     "name": "stdout",
     "output_type": "stream",
     "text": [
      "202324-LIFE229 - Practical Human Physiology RESIT LIFE229.1 (30%) - Assignment 1 [Group Scientific Report] []\n",
      "202324-LIFE229 - Practical Human Physiology RESIT LIFE229.0 (50%) Assignment 2 - Individual Report [78284, 83861, 84565, 86145, 107936]\n"
     ]
    },
    {
     "name": "stderr",
     "output_type": "stream",
     "text": [
      " 80%|███████▉  | 336/422 [09:20<03:31,  2.46s/it]"
     ]
    },
    {
     "name": "stdout",
     "output_type": "stream",
     "text": [
      "202324-LIFE228 - Advanced Microbiological Techniques RESIT LIFE 228 - Presentation Slides (20%) []\n",
      "202324-LIFE228 - Advanced Microbiological Techniques RESIT LIFE 228 - Proceedings section (30%) [24546, 85671]\n"
     ]
    },
    {
     "name": "stderr",
     "output_type": "stream",
     "text": [
      " 80%|███████▉  | 337/422 [09:22<03:28,  2.45s/it]"
     ]
    },
    {
     "name": "stdout",
     "output_type": "stream",
     "text": [
      "202324-LIFE228 - Advanced Microbiological Techniques RESIT LIFE 228 - Results Section (50%) [24546, 85671, 108892]\n"
     ]
    },
    {
     "name": "stderr",
     "output_type": "stream",
     "text": [
      " 80%|████████  | 339/422 [09:26<02:57,  2.13s/it]"
     ]
    },
    {
     "name": "stdout",
     "output_type": "stream",
     "text": [
      "202324-LIFE227 - Techniques in Cell Biology RESIT Arabidopsis Workbook []\n"
     ]
    },
    {
     "name": "stderr",
     "output_type": "stream",
     "text": [
      " 81%|████████  | 340/422 [09:27<02:14,  1.64s/it]"
     ]
    },
    {
     "name": "stdout",
     "output_type": "stream",
     "text": [
      "202324-LIFE226 - Advanced Genetics Techniques RESIT 226.1 (40%) Gene editing report/talk []\n"
     ]
    },
    {
     "name": "stderr",
     "output_type": "stream",
     "text": [
      " 81%|████████  | 341/422 [09:27<01:46,  1.31s/it]"
     ]
    },
    {
     "name": "stdout",
     "output_type": "stream",
     "text": [
      "202324-LIFE224 - Advanced Biochemical Techniques RESIT Protein purification report []\n",
      "202324-LIFE224 - Advanced Biochemical Techniques LIFE224.1 RESIT Practical report [34362, 83861, 113804]\n"
     ]
    },
    {
     "name": "stderr",
     "output_type": "stream",
     "text": [
      " 82%|████████▏ | 344/422 [09:32<01:39,  1.28s/it]"
     ]
    },
    {
     "name": "stdout",
     "output_type": "stream",
     "text": [
      "202324-LIFE223 - Essential Skills for the Life Sciences 2 RESIT LIFE223.1.2 (50%) - Job Application (20%)   [34362, 54716, 78284, 83861, 84565, 85671, 86145, 87781, 104587, 104843, 107936, 112696, 112842, 113692, 113804, 114104, 117023, 117151]\n"
     ]
    },
    {
     "name": "stderr",
     "output_type": "stream",
     "text": [
      " 82%|████████▏ | 346/422 [09:53<06:25,  5.08s/it]"
     ]
    },
    {
     "name": "stdout",
     "output_type": "stream",
     "text": [
      "202324-LIFE223 - Essential Skills for the Life Sciences 2 RESIT LIFE223.1.4 (50%) - Scientific Report (20%) [34362, 54716, 78284, 83861, 84565, 85671, 86145, 87781, 104587, 104843, 107936, 112696, 112842, 113692, 113804, 114104, 117023, 117151]\n"
     ]
    },
    {
     "name": "stderr",
     "output_type": "stream",
     "text": [
      " 82%|████████▏ | 348/422 [10:12<07:58,  6.47s/it]"
     ]
    },
    {
     "name": "stdout",
     "output_type": "stream",
     "text": [
      "202324-LIFE223 - Essential Skills for the Life Sciences 2 RESIT Submission Academic Integrity declaration []\n",
      "202324-LIFE221 - The Immune System in Health and Disease RESIT LIFE221.1 (40%) - Cycle 1 [86145, 107936, 113109, 78993]\n"
     ]
    },
    {
     "name": "stderr",
     "output_type": "stream",
     "text": [
      " 83%|████████▎ | 349/422 [10:16<07:05,  5.83s/it]"
     ]
    },
    {
     "name": "stdout",
     "output_type": "stream",
     "text": [
      "202324-LIFE221 - The Immune System in Health and Disease RESIT LIFE221.0 (60%) - Cycle 2 [86145, 104464, 113109]\n"
     ]
    },
    {
     "name": "stderr",
     "output_type": "stream",
     "text": [
      " 83%|████████▎ | 351/422 [10:21<04:27,  3.77s/it]"
     ]
    },
    {
     "name": "stdout",
     "output_type": "stream",
     "text": [
      "202324-LIFE220 - Anatomy of the Head and Neck RESIT LIFE220.0.1 (70%) Cycle 2 Question 1 []\n"
     ]
    },
    {
     "name": "stderr",
     "output_type": "stream",
     "text": [
      " 83%|████████▎ | 352/422 [10:21<03:16,  2.81s/it]"
     ]
    },
    {
     "name": "stdout",
     "output_type": "stream",
     "text": [
      "202324-LIFE220 - Anatomy of the Head and Neck RESIT LIFE220.0.2 (70%) Cycle 2 Question 2 []\n"
     ]
    },
    {
     "name": "stderr",
     "output_type": "stream",
     "text": [
      " 84%|████████▎ | 353/422 [10:22<02:26,  2.12s/it]"
     ]
    },
    {
     "name": "stdout",
     "output_type": "stream",
     "text": [
      "202324-LIFE220 - Anatomy of the Head and Neck RESIT LIFE220.0.3 (70%) Cycle 2 Question 3 []\n"
     ]
    },
    {
     "name": "stderr",
     "output_type": "stream",
     "text": [
      " 84%|████████▍ | 354/422 [10:22<01:51,  1.64s/it]"
     ]
    },
    {
     "name": "stdout",
     "output_type": "stream",
     "text": [
      "202324-LIFE219 - Functional Anatomy of the Human Locomotor System RESIT LIFE219.0.1 (70%) - Essay 1 []\n"
     ]
    },
    {
     "name": "stderr",
     "output_type": "stream",
     "text": [
      " 84%|████████▍ | 355/422 [10:23<01:27,  1.30s/it]"
     ]
    },
    {
     "name": "stdout",
     "output_type": "stream",
     "text": [
      "202324-LIFE219 - Functional Anatomy of the Human Locomotor System RESIT LIFE219.0.2 (70%) - Essay 2 []\n"
     ]
    },
    {
     "name": "stderr",
     "output_type": "stream",
     "text": [
      " 84%|████████▍ | 356/422 [10:23<01:11,  1.09s/it]"
     ]
    },
    {
     "name": "stdout",
     "output_type": "stream",
     "text": [
      "202324-LIFE219 - Functional Anatomy of the Human Locomotor System RESIT LIFE219.0.3 (70%) - Essay 3 []\n"
     ]
    },
    {
     "name": "stderr",
     "output_type": "stream",
     "text": [
      " 85%|████████▍ | 357/422 [10:24<00:59,  1.09it/s]"
     ]
    },
    {
     "name": "stdout",
     "output_type": "stream",
     "text": [
      "202324-LIFE218 - Functional Neuroanatomy RESIT LIFE218.0 (70%) Cycle 2 Assessment Submission []\n",
      "202324-LIFE217 - Advanced Animal Husbandry RESIT LIFE217 (30%) Cycle 1 [83755]\n"
     ]
    },
    {
     "name": "stderr",
     "output_type": "stream",
     "text": [
      " 85%|████████▍ | 358/422 [10:25<01:13,  1.14s/it]"
     ]
    },
    {
     "name": "stdout",
     "output_type": "stream",
     "text": [
      "202324-LIFE217 - Advanced Animal Husbandry RESIT LIFE217 Cycle 1 - Question 2 [83755]\n"
     ]
    },
    {
     "name": "stderr",
     "output_type": "stream",
     "text": [
      " 85%|████████▌ | 359/422 [10:27<01:23,  1.32s/it]"
     ]
    },
    {
     "name": "stdout",
     "output_type": "stream",
     "text": [
      "202324-LIFE217 - Advanced Animal Husbandry RESIT LIFE217.0 (50%) - Cycle 2 [67694, 88157]\n"
     ]
    },
    {
     "name": "stderr",
     "output_type": "stream",
     "text": [
      " 85%|████████▌ | 360/422 [10:30<01:45,  1.71s/it]"
     ]
    },
    {
     "name": "stdout",
     "output_type": "stream",
     "text": [
      "202324-LIFE216 - Veterinary Parasitology and Public Health RESIT LIFE216.0 60% Cycle 2 Submission [54716, 67694]\n"
     ]
    },
    {
     "name": "stderr",
     "output_type": "stream",
     "text": [
      " 86%|████████▌ | 361/422 [10:32<01:58,  1.94s/it]"
     ]
    },
    {
     "name": "stdout",
     "output_type": "stream",
     "text": [
      "202324-LIFE216 - Veterinary Parasitology and Public Health RESIT LIFE216.1 Assessment 1 (40%) [67694, 24546, 54716]\n"
     ]
    },
    {
     "name": "stderr",
     "output_type": "stream",
     "text": [
      " 86%|████████▌ | 363/422 [10:36<01:49,  1.85s/it]"
     ]
    },
    {
     "name": "stdout",
     "output_type": "stream",
     "text": [
      "202324-LIFE215 - Veterinary Form and Function RESIT LIFE215.1 (40%) - Cycle 1 []\n",
      "202324-LIFE214 - Population and Community Ecology RESIT LIFE214.1 (40%) Cycle 1 Submission [54716, 57892, 82160, 104587, 104863, 111401]\n"
     ]
    },
    {
     "name": "stderr",
     "output_type": "stream",
     "text": [
      " 86%|████████▋ | 364/422 [10:42<02:59,  3.10s/it]"
     ]
    },
    {
     "name": "stdout",
     "output_type": "stream",
     "text": [
      "202324-LIFE214 - Population and Community Ecology RESIT LIFE214.0.1 (40%) Cycle 2 Task 1 Submission [54716, 57892, 104587, 104863, 111909, 117151]\n"
     ]
    },
    {
     "name": "stderr",
     "output_type": "stream",
     "text": [
      " 86%|████████▋ | 365/422 [10:49<03:54,  4.12s/it]"
     ]
    },
    {
     "name": "stdout",
     "output_type": "stream",
     "text": [
      "202324-LIFE214 - Population and Community Ecology RESIT LIFE214.0.2 (20%) Cycle 2 Task 2 Submission [54716, 57892, 104587, 104863, 111909, 117151]\n"
     ]
    },
    {
     "name": "stderr",
     "output_type": "stream",
     "text": [
      " 87%|████████▋ | 366/422 [10:55<04:25,  4.73s/it]"
     ]
    },
    {
     "name": "stdout",
     "output_type": "stream",
     "text": [
      "202324-LIFE213 - Evolutionary Biology RESIT LIFE213.1.1 (40%) - Cycle 1 - Phylogeny 2.5-minute video submission (60% of cycle 1) [54716]\n"
     ]
    },
    {
     "name": "stderr",
     "output_type": "stream",
     "text": [
      " 87%|████████▋ | 367/422 [10:56<03:28,  3.79s/it]"
     ]
    },
    {
     "name": "stdout",
     "output_type": "stream",
     "text": [
      "202324-LIFE213 - Evolutionary Biology RESIT LIFE213.1.2 (40%) - Cycle 1 - phylogeny prac work book (40% of cycle 1) [54716]\n"
     ]
    },
    {
     "name": "stderr",
     "output_type": "stream",
     "text": [
      " 87%|████████▋ | 368/422 [10:58<02:48,  3.12s/it]"
     ]
    },
    {
     "name": "stdout",
     "output_type": "stream",
     "text": [
      "202324-LIFE213 - Evolutionary Biology RESIT LIFE213.0.1 (60%) - Cycle 2 - Essay question (60% of cycle 2) [54716, 59686, 82160, 85671, 104587, 113692]\n"
     ]
    },
    {
     "name": "stderr",
     "output_type": "stream",
     "text": [
      " 87%|████████▋ | 369/422 [11:05<03:48,  4.31s/it]"
     ]
    },
    {
     "name": "stdout",
     "output_type": "stream",
     "text": [
      "202324-LIFE213 - Evolutionary Biology RESIT LIFE213.0.2 (40%) - Cycle 2 - Section A - ( 40% of cycle 2) [54716, 59686, 82160, 85671, 104587, 113692]\n"
     ]
    },
    {
     "name": "stderr",
     "output_type": "stream",
     "text": [
      " 88%|████████▊ | 370/422 [11:13<04:32,  5.23s/it]"
     ]
    },
    {
     "name": "stdout",
     "output_type": "stream",
     "text": [
      "202324-LIFE212 - Comparative Animal Physiology RESIT LIFE212.0 60% Cycle 2 Assessment Submission  [54716, 83635, 83755, 103459, 104587, 111909, 113027, 113897]\n"
     ]
    },
    {
     "name": "stderr",
     "output_type": "stream",
     "text": [
      " 88%|████████▊ | 371/422 [11:23<05:50,  6.87s/it]"
     ]
    },
    {
     "name": "stdout",
     "output_type": "stream",
     "text": [
      "202324-LIFE212 - Comparative Animal Physiology RESIT LIFE212.1.1 (40%) - Cycle 1 Video  [54716, 82160, 83635, 83755, 104587, 104843, 110781, 111909, 117151]\n"
     ]
    },
    {
     "name": "stderr",
     "output_type": "stream",
     "text": [
      " 88%|████████▊ | 372/422 [11:32<06:16,  7.53s/it]"
     ]
    },
    {
     "name": "stdout",
     "output_type": "stream",
     "text": [
      "202324-LIFE212 - Comparative Animal Physiology RESIT LIFE212.1.2 (40%) - Script [54716, 82160, 83635, 83755, 104587, 104843, 110781, 111909, 117151]\n"
     ]
    },
    {
     "name": "stderr",
     "output_type": "stream",
     "text": [
      " 88%|████████▊ | 373/422 [11:45<07:24,  9.08s/it]"
     ]
    },
    {
     "name": "stdout",
     "output_type": "stream",
     "text": [
      "202324-LIFE211 - Animal Behaviour RESIT LIFE211.0 (60%) - Cycle 2 [67694, 83557, 83635, 88157, 104587]\n"
     ]
    },
    {
     "name": "stderr",
     "output_type": "stream",
     "text": [
      " 89%|████████▊ | 374/422 [11:50<06:23,  8.00s/it]"
     ]
    },
    {
     "name": "stdout",
     "output_type": "stream",
     "text": [
      "202324-LIFE211 - Animal Behaviour RESIT LIFE211.1 (40%) - Cycle 1- Assessment submission  [54716, 67694, 82160, 83557, 113692]\n"
     ]
    },
    {
     "name": "stderr",
     "output_type": "stream",
     "text": [
      " 89%|████████▉ | 375/422 [11:56<05:40,  7.24s/it]"
     ]
    },
    {
     "name": "stdout",
     "output_type": "stream",
     "text": [
      "202324-LIFE210 - Biotechnology RESIT LIFE210.1 (40%) [53781, 111074, 113692, 143862]\n"
     ]
    },
    {
     "name": "stderr",
     "output_type": "stream",
     "text": [
      " 89%|████████▉ | 376/422 [12:00<04:53,  6.39s/it]"
     ]
    },
    {
     "name": "stdout",
     "output_type": "stream",
     "text": [
      "202324-LIFE210 - Biotechnology RESIT LIFE210.0 (60%) [53781, 113692, 143862]\n"
     ]
    },
    {
     "name": "stderr",
     "output_type": "stream",
     "text": [
      " 89%|████████▉ | 377/422 [12:04<04:07,  5.51s/it]"
     ]
    },
    {
     "name": "stdout",
     "output_type": "stream",
     "text": [
      "202324-LIFE209 - Virology RESIT LIFE209.0.1 (60%) -- Cycle 2 [104464, 112842, 113109, 117023]\n"
     ]
    },
    {
     "name": "stderr",
     "output_type": "stream",
     "text": [
      " 90%|████████▉ | 378/422 [12:08<03:41,  5.04s/it]"
     ]
    },
    {
     "name": "stdout",
     "output_type": "stream",
     "text": [
      "202324-LIFE209 - Virology RESIT LIFE209.1 (40%) - Cycle 1 [113109]\n"
     ]
    },
    {
     "name": "stderr",
     "output_type": "stream",
     "text": [
      " 90%|████████▉ | 379/422 [12:10<02:57,  4.12s/it]"
     ]
    },
    {
     "name": "stdout",
     "output_type": "stream",
     "text": [
      "202324-LIFE208 - MOLECULAR AND MEDICAL GENETICS RESIT LIFE208.1 (40%) - Cycle 1 - Q1 chromosomal rearrangement conversion of a proto-oncogene into an oncogene [62548, 85671, 104843, 107936]\n"
     ]
    },
    {
     "name": "stderr",
     "output_type": "stream",
     "text": [
      " 90%|█████████ | 380/422 [12:14<02:55,  4.19s/it]"
     ]
    },
    {
     "name": "stdout",
     "output_type": "stream",
     "text": [
      "202324-LIFE208 - MOLECULAR AND MEDICAL GENETICS RESIT LIFE208.1 (40%) - Cycle 1 - Q2 Retinoblastoma (Nigel Jones) [62548, 85671, 104843, 107936]\n"
     ]
    },
    {
     "name": "stderr",
     "output_type": "stream",
     "text": [
      " 90%|█████████ | 381/422 [12:19<02:56,  4.30s/it]"
     ]
    },
    {
     "name": "stdout",
     "output_type": "stream",
     "text": [
      "202324-LIFE208 - MOLECULAR AND MEDICAL GENETICS RESIT LIFE208.0.2 (60%) - Cycle 2 - Q2 (Nigel Jones): BRCA2 question [53781, 62548, 77808, 85671, 104843, 107936, 113109, 113692]\n"
     ]
    },
    {
     "name": "stderr",
     "output_type": "stream",
     "text": [
      " 91%|█████████ | 382/422 [12:27<03:37,  5.43s/it]"
     ]
    },
    {
     "name": "stdout",
     "output_type": "stream",
     "text": [
      "202324-LIFE208 - MOLECULAR AND MEDICAL GENETICS RESIT LIFE208.0.1 (60%) - Cycle 2 - Q1 (Mike Speed): Recessive/dominant disease question [53781, 62548, 77808, 85671, 104843, 107936, 113109, 113692]\n"
     ]
    },
    {
     "name": "stderr",
     "output_type": "stream",
     "text": [
      " 92%|█████████▏| 387/422 [12:36<00:58,  1.68s/it]"
     ]
    },
    {
     "name": "stdout",
     "output_type": "stream",
     "text": [
      "202324-LIFE206 - DRUG ACTION RESIT LIFE206.0.1 (60%) Cycle 2 Question 1 Submission Link [34362, 83861, 85723, 87781, 108892, 110839, 112842, 114104]\n"
     ]
    },
    {
     "name": "stderr",
     "output_type": "stream",
     "text": [
      " 92%|█████████▏| 388/422 [12:43<01:57,  3.45s/it]"
     ]
    },
    {
     "name": "stdout",
     "output_type": "stream",
     "text": [
      "202324-LIFE206 - DRUG ACTION RESIT LIFE206.0.2 (60%) Cycle 2 Question 2 Submission Link [34362, 83861, 85723, 87781, 108892, 110839, 112842, 114104]\n"
     ]
    },
    {
     "name": "stderr",
     "output_type": "stream",
     "text": [
      " 92%|█████████▏| 389/422 [12:52<02:49,  5.13s/it]"
     ]
    },
    {
     "name": "stdout",
     "output_type": "stream",
     "text": [
      "202324-LIFE206 - DRUG ACTION RESIT LIFE206.0.3 (60%) Cycle 2 Question 3 Submission Link [34362, 83861, 85723, 87781, 108892, 110839, 112842, 114104]\n"
     ]
    },
    {
     "name": "stderr",
     "output_type": "stream",
     "text": [
      " 93%|█████████▎| 391/422 [13:01<02:14,  4.33s/it]"
     ]
    },
    {
     "name": "stdout",
     "output_type": "stream",
     "text": [
      "202324-LIFE205 - The Multicellular Organism: tissues development regeneration and aging RESIT LIFE205.1.1 (40%) - Cycle 1 - Essay 1 (Alec Simpson) []\n"
     ]
    },
    {
     "name": "stderr",
     "output_type": "stream",
     "text": [
      " 93%|█████████▎| 392/422 [13:01<01:35,  3.19s/it]"
     ]
    },
    {
     "name": "stdout",
     "output_type": "stream",
     "text": [
      "202324-LIFE205 - The Multicellular Organism: tissues development regeneration and aging RESIT LIFE205.1.2 (40%) - Cycle 1 - Essay 2 (Bettina Wilm) []\n",
      "202324-LIFE205 - The Multicellular Organism: tissues development regeneration and aging RESIT LIFE205.1 (40%) - Cycle 1 - News and Views [83861, 85671, 85762]\n"
     ]
    },
    {
     "name": "stderr",
     "output_type": "stream",
     "text": [
      " 93%|█████████▎| 394/422 [13:05<01:07,  2.41s/it]"
     ]
    },
    {
     "name": "stdout",
     "output_type": "stream",
     "text": [
      "202324-LIFE205 - The Multicellular Organism: tissues development regeneration and aging RESIT LIFE205.1.1 (40%) - Cycle 1 - Essay 1 []\n"
     ]
    },
    {
     "name": "stderr",
     "output_type": "stream",
     "text": [
      " 94%|█████████▎| 395/422 [13:06<00:52,  1.96s/it]"
     ]
    },
    {
     "name": "stdout",
     "output_type": "stream",
     "text": [
      "202324-LIFE205 - The Multicellular Organism: tissues development regeneration and aging RESIT LIFE205.1.2 (40%) - Cycle 1 - Essay 2 []\n"
     ]
    },
    {
     "name": "stderr",
     "output_type": "stream",
     "text": [
      " 94%|█████████▍| 396/422 [13:07<00:39,  1.54s/it]"
     ]
    },
    {
     "name": "stdout",
     "output_type": "stream",
     "text": [
      "202324-LIFE205 - The Multicellular Organism: tissues development regeneration and aging RESIT LIFE205.1.3 (40%) - Cycle 1 - Essay 3 []\n",
      "202324-LIFE204 - Endocrine and Neuro-physiology RESIT LIFE204.1 (40%) [86145, 107936, 112842, 112952, 114156, 117023]\n"
     ]
    },
    {
     "name": "stderr",
     "output_type": "stream",
     "text": [
      " 95%|█████████▌| 401/422 [13:15<00:19,  1.05it/s]"
     ]
    },
    {
     "name": "stdout",
     "output_type": "stream",
     "text": [
      "202324-LIFE204 - Endocrine and Neuro-physiology RESIT LIFE204.0 (60%) [77808, 105666, 107936, 108892, 112842, 117023]\n"
     ]
    },
    {
     "name": "stderr",
     "output_type": "stream",
     "text": [
      " 95%|█████████▌| 402/422 [13:21<00:51,  2.58s/it]"
     ]
    },
    {
     "name": "stdout",
     "output_type": "stream",
     "text": [
      "202324-LIFE203 - Structure and Dynamics of Macromolecules RESIT LIFE203.1 (40%) Cycle 1 Essay Submission [104924, 113368, 113804]\n"
     ]
    },
    {
     "name": "stderr",
     "output_type": "stream",
     "text": [
      " 95%|█████████▌| 403/422 [13:25<00:55,  2.93s/it]"
     ]
    },
    {
     "name": "stdout",
     "output_type": "stream",
     "text": [
      "202324-LIFE203 - Structure and Dynamics of Macromolecules RESIT LIFE203.0 (60%) Cycle 2 Assessment Submission [104924, 113599, 113804]\n"
     ]
    },
    {
     "name": "stderr",
     "output_type": "stream",
     "text": [
      " 96%|█████████▌| 404/422 [13:29<01:00,  3.34s/it]"
     ]
    },
    {
     "name": "stdout",
     "output_type": "stream",
     "text": [
      "202324-LIFE202 - Cell Signalling in Health and Disease RESIT LIFE202.0.1 (60%) Cycle 2 Assessment [34362, 53781, 77808, 82784, 85671, 85723, 104924, 105675, 107936, 112842, 113109, 113804, 117023]\n"
     ]
    },
    {
     "name": "stderr",
     "output_type": "stream",
     "text": [
      " 96%|█████████▌| 405/422 [13:42<01:44,  6.15s/it]"
     ]
    },
    {
     "name": "stdout",
     "output_type": "stream",
     "text": [
      "202324-LIFE201 - From Genes to Proteins RESIT LIFE201.1 (40%) - Cycle 1 [82160, 113109]\n"
     ]
    },
    {
     "name": "stderr",
     "output_type": "stream",
     "text": [
      " 96%|█████████▌| 406/422 [13:45<01:23,  5.22s/it]"
     ]
    },
    {
     "name": "stdout",
     "output_type": "stream",
     "text": [
      "202324-LIFE201 - From Genes to Proteins RESIT LIFE201.0 (60%) - Cycle 2 [79043, 82160, 85671, 111495, 112952, 113109, 113804, 114156]\n"
     ]
    },
    {
     "name": "stderr",
     "output_type": "stream",
     "text": [
      " 96%|█████████▋| 407/422 [13:53<01:33,  6.23s/it]"
     ]
    },
    {
     "name": "stdout",
     "output_type": "stream",
     "text": [
      "202324-LIFE130 - Communication and Study Skills for the Life Sciences RESIT LIFE130.1 (40%) - Essay [139480, 139654, 140931, 141040, 141738, 142951, 144792]\n"
     ]
    },
    {
     "name": "stderr",
     "output_type": "stream",
     "text": [
      " 97%|█████████▋| 408/422 [14:02<01:35,  6.83s/it]"
     ]
    },
    {
     "name": "stdout",
     "output_type": "stream",
     "text": [
      "202324-LIFE130 - Communication and Study Skills for the Life Sciences RESIT LIFE130.2 (40%) - Skill 3 - Scientific Report [9483, 114130, 135187, 135798, 140931, 140947, 141654, 141738, 142405, 142951, 143040, 143541, 144792]\n"
     ]
    },
    {
     "name": "stderr",
     "output_type": "stream",
     "text": [
      " 97%|█████████▋| 410/422 [14:15<01:15,  6.26s/it]"
     ]
    },
    {
     "name": "stdout",
     "output_type": "stream",
     "text": [
      "202324-LIFE128 - Introduction to Genetics and Development RESIT LIFE128 Ethical Group Poster (Assignment 1 40%) []\n",
      "202324-LIFE120 - ECOLOGY AND THE GLOBAL ENVIRONMENT RESIT LIFE120.1 (40%) Cycle 1 Assignment 202324 [3450, 135518, 140947, 141654, 143943]\n"
     ]
    },
    {
     "name": "stderr",
     "output_type": "stream",
     "text": [
      " 98%|█████████▊| 413/422 [14:21<00:28,  3.17s/it]"
     ]
    },
    {
     "name": "stdout",
     "output_type": "stream",
     "text": [
      "202324-LIFE107 - EXPERIMENTAL SKILLS IN CURRENT BIOLOGY No RESIT opportunity for LIFE 107.1  []\n"
     ]
    },
    {
     "name": "stderr",
     "output_type": "stream",
     "text": [
      " 98%|█████████▊| 414/422 [14:22<00:19,  2.39s/it]"
     ]
    },
    {
     "name": "stdout",
     "output_type": "stream",
     "text": [
      "202324-LIFE107 - EXPERIMENTAL SKILLS IN CURRENT BIOLOGY RESIT LIFE107.2.1 (20%) Abstract - Group B []\n",
      "202324-LIFE107 - EXPERIMENTAL SKILLS IN CURRENT BIOLOGY LIFE107.2 (20%) Abstract SUBMISSION LINK [9483, 61020, 132006, 135187, 141738, 142405, 146825, 146990]\n"
     ]
    },
    {
     "name": "stderr",
     "output_type": "stream",
     "text": [
      " 98%|█████████▊| 415/422 [14:30<00:29,  4.22s/it]"
     ]
    },
    {
     "name": "stdout",
     "output_type": "stream",
     "text": [
      "202324-LIFE106 - INTRODUCTION TO PHYSIOLOGY AND PHARMACOLOGY RESIT 2023-24 LIFE106.1 (40%) CYCLE 1 VIDEO PRESENTATION Submission : Drug classification VIDEO PRESENTATION 2024 (25% of cycle 1 mark) [9483, 31864, 135798, 140264, 142405]\n"
     ]
    },
    {
     "name": "stderr",
     "output_type": "stream",
     "text": [
      " 99%|█████████▊| 416/422 [14:36<00:28,  4.77s/it]"
     ]
    },
    {
     "name": "stdout",
     "output_type": "stream",
     "text": [
      "202324-LIFE106 - INTRODUCTION TO PHYSIOLOGY AND PHARMACOLOGY RESIT 2023-24 LIFE106.1 Individual VIDEO presentation ABSTRACT submission - Please submit your written abstract here (NOT the VIDEO PRESENTATION) (15% of cycle 1 mark) [9483, 31864, 135798, 140264, 142405]\n"
     ]
    },
    {
     "name": "stderr",
     "output_type": "stream",
     "text": [
      " 99%|█████████▉| 418/422 [14:43<00:14,  3.73s/it]"
     ]
    },
    {
     "name": "stdout",
     "output_type": "stream",
     "text": [
      "202324-LIFE105 - GRAND CHALLENGES IN BIOLOGY RESIT LIFE105.2 (20%) - Explainer Video Assignment []\n",
      "202324-LIFE103 - EVOLUTION RESIT Please submit a copy of your Comprehension text here for plagiarism checks [9483, 135798, 136801, 138128, 140931]\n"
     ]
    },
    {
     "name": "stderr",
     "output_type": "stream",
     "text": [
      "100%|█████████▉| 420/422 [14:49<00:06,  3.24s/it]"
     ]
    },
    {
     "name": "stdout",
     "output_type": "stream",
     "text": [
      "202324-LIFE101 - MOLECULES AND CELLS RESIT LIFE101.1 (40%) - Cycle 1 - Infographic []\n",
      "202324-LIFE113 - Quantitative Skills for the Life Sciences RESIT LIFE113.1 (40%) - Test 1 [101, 112174, 135041, 135798, 140947, 141578, 141611, 141654, 141662, 141738, 142253, 143246, 144792, 145570, 146990]\n"
     ]
    },
    {
     "name": "stderr",
     "output_type": "stream",
     "text": [
      "100%|██████████| 422/422 [15:04<00:00,  2.14s/it]\n"
     ]
    }
   ],
   "source": [
    "\n",
    "\n",
    "all_rows = []\n",
    "\n",
    "# Iterate over each row in the data DataFrame\n",
    "for i, row in tqdm(data.iterrows(), total=len(data)):\n",
    "\n",
    "    try:\n",
    "        df = pd.read_csv(\"assignment_overrides_resits_202324.csv\")\n",
    "    except:\n",
    "        df = pd.DataFrame(columns=[\"course\", \"course_id\", \"assignment\", \"assignment_id\", \"sis_user_id\", \"sortable_name\"])\n",
    "\n",
    "    if len(df[df[\"assignment_id\"] == row[\"assignment_id\"]]) > 0:\n",
    "        continue\n",
    "\n",
    "    rows = []\n",
    "    \n",
    "    # Get the course using the course ID from the row\n",
    "    course = canvas.get_course(row[\"course\"], use_sis_id=True)\n",
    "    \n",
    "    try:\n",
    "        # Get the assignment using the assignment ID from the row\n",
    "        assignment = course.get_assignment(row[\"assignment_id\"])\n",
    "    except:\n",
    "        continue\n",
    "    \n",
    "    # Get the assignment overrides using the get_assignment_overrides() function\n",
    "    overrides = get_assignment_overrides(assignment)\n",
    "\n",
    "    print(course.name, assignment.name, overrides)\n",
    "    \n",
    "    if overrides:\n",
    "        # Iterate over each student ID in the overrides list\n",
    "        for student_id in overrides:\n",
    "            # Get the student profile using the student ID\n",
    "            profile = get_student_profile(student_id)\n",
    "            \n",
    "            # Append the row data to the rows list\n",
    "            rows.append({\n",
    "                \"course\": course.name,\n",
    "                \"course_id\": course.id,\n",
    "                \"assignment\": assignment.name,\n",
    "                \"assignment_id\": assignment.id,\n",
    "                \"sis_user_id\": profile[\"sis_user_id\"],\n",
    "                \"sortable_name\": profile[\"sortable_name\"]\n",
    "            })\n",
    "        \n",
    "        new_df = pd.DataFrame(rows)\n",
    "\n",
    "        # append new_df to df\n",
    "        df = pd.concat([df, new_df])\n",
    "\n",
    "        # Save the DataFrame to a CSV file\n",
    "        df.to_csv(\"assignment_overrides_resits_202324.csv\", index=False)\n",
    "\n",
    "\n",
    "# Create a DataFrame from the all_rows list\n",
    "df = pd.DataFrame(all_rows)\n",
    "\n",
    "# Save the DataFrame to a CSV file\n",
    "df.to_csv(\"assignment_overrides_resits_202324.csv\", index=False)\n"
   ]
  },
  {
   "cell_type": "code",
   "execution_count": null,
   "metadata": {},
   "outputs": [],
   "source": []
  }
 ],
 "metadata": {
  "kernelspec": {
   "display_name": "Python 3",
   "language": "python",
   "name": "python3"
  },
  "language_info": {
   "codemirror_mode": {
    "name": "ipython",
    "version": 3
   },
   "file_extension": ".py",
   "mimetype": "text/x-python",
   "name": "python",
   "nbconvert_exporter": "python",
   "pygments_lexer": "ipython3",
   "version": "3.12.0"
  }
 },
 "nbformat": 4,
 "nbformat_minor": 2
}
