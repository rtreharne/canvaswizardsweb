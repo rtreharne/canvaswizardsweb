{
 "cells": [
  {
   "cell_type": "code",
   "execution_count": 7,
   "metadata": {},
   "outputs": [],
   "source": [
    "from canvasapi import Canvas"
   ]
  },
  {
   "cell_type": "code",
   "execution_count": 8,
   "metadata": {},
   "outputs": [],
   "source": [
    "CANVAS_URL = \"https://canvas.liverpool.ac.uk\"\n",
    "CANVAS_TOKEN = \"15502~b3ReGDNqqaiXukP5nr2PyN94BiW5XxeGNB04HSOdTqEnmDTCcg5H0GH4jf0jUNCm\""
   ]
  },
  {
   "cell_type": "code",
   "execution_count": 9,
   "metadata": {},
   "outputs": [],
   "source": [
    "canvas = Canvas(CANVAS_URL, CANVAS_TOKEN)"
   ]
  },
  {
   "cell_type": "code",
   "execution_count": 10,
   "metadata": {},
   "outputs": [],
   "source": [
    "assignment = canvas.get_course(67382).get_assignment(270332)"
   ]
  },
  {
   "cell_type": "code",
   "execution_count": 11,
   "metadata": {},
   "outputs": [],
   "source": [
    "submissions = [x for x in assignment.get_submissions()]"
   ]
  },
  {
   "cell_type": "code",
   "execution_count": 52,
   "metadata": {},
   "outputs": [],
   "source": [
    "enrollments = [x for x in canvas.get_course(67382).get_enrollments(include=[\"user\"])]"
   ]
  },
  {
   "cell_type": "code",
   "execution_count": 53,
   "metadata": {},
   "outputs": [],
   "source": [
    "def get_user_from_id(enrollments, id):\n",
    "    for enrollment in enrollments:\n",
    "        if enrollment.user_id == id:\n",
    "            return enrollment.user\n",
    "    return None"
   ]
  },
  {
   "cell_type": "code",
   "execution_count": 57,
   "metadata": {},
   "outputs": [
    {
     "data": {
      "text/plain": [
       "True"
      ]
     },
     "execution_count": 57,
     "metadata": {},
     "output_type": "execute_result"
    }
   ],
   "source": [
    "assignment.anonymous_grading"
   ]
  },
  {
   "cell_type": "code",
   "execution_count": 56,
   "metadata": {},
   "outputs": [
    {
     "data": {
      "text/plain": [
       "{'id': 63597,\n",
       " 'name': 'Sam Bartley',\n",
       " 'created_at': '2020-09-02T08:44:20+01:00',\n",
       " 'sortable_name': 'Bartley, Sam',\n",
       " 'short_name': 'Sam Bartley',\n",
       " 'sis_user_id': '201485027hlsbart3',\n",
       " 'integration_id': None,\n",
       " 'login_id': 'hlsbart3@liverpool.ac.uk',\n",
       " 'pronouns': 'He/Him'}"
      ]
     },
     "execution_count": 56,
     "metadata": {},
     "output_type": "execute_result"
    }
   ],
   "source": [
    "assignment.anonymous_grading\n",
    "\n",
    "get_user_from_id(enrollments, submissions[10].user_id)"
   ]
  },
  {
   "cell_type": "code",
   "execution_count": 46,
   "metadata": {},
   "outputs": [],
   "source": [
    "rows = []\n",
    "for submission in submissions:\n",
    "    rows.append(\n",
    "        {\n",
    "        'anonymous_id':  submission.anonymous_id,\n",
    "        'url': f\"{CANVAS_URL}/courses/67382/gradebook/speed_grader?assignment_id={270332}&anonymous_id={submission.anonymous_id}\"\n",
    "        }\n",
    "    )"
   ]
  },
  {
   "cell_type": "code",
   "execution_count": 47,
   "metadata": {},
   "outputs": [
    {
     "data": {
      "text/plain": [
       "85"
      ]
     },
     "execution_count": 47,
     "metadata": {},
     "output_type": "execute_result"
    }
   ],
   "source": [
    "len(rows)"
   ]
  },
  {
   "cell_type": "code",
   "execution_count": 48,
   "metadata": {},
   "outputs": [],
   "source": [
    "import pandas as df\n",
    "\n",
    "df = df.DataFrame(rows)"
   ]
  },
  {
   "cell_type": "code",
   "execution_count": 50,
   "metadata": {},
   "outputs": [
    {
     "data": {
      "text/html": [
       "<div>\n",
       "<style scoped>\n",
       "    .dataframe tbody tr th:only-of-type {\n",
       "        vertical-align: middle;\n",
       "    }\n",
       "\n",
       "    .dataframe tbody tr th {\n",
       "        vertical-align: top;\n",
       "    }\n",
       "\n",
       "    .dataframe thead th {\n",
       "        text-align: right;\n",
       "    }\n",
       "</style>\n",
       "<table border=\"1\" class=\"dataframe\">\n",
       "  <thead>\n",
       "    <tr style=\"text-align: right;\">\n",
       "      <th></th>\n",
       "      <th>anonymous_id</th>\n",
       "      <th>url</th>\n",
       "    </tr>\n",
       "  </thead>\n",
       "  <tbody>\n",
       "    <tr>\n",
       "      <th>19</th>\n",
       "      <td>1eVcF</td>\n",
       "      <td>https://canvas.liverpool.ac.uk/courses/67382/g...</td>\n",
       "    </tr>\n",
       "    <tr>\n",
       "      <th>61</th>\n",
       "      <td>23Uq6</td>\n",
       "      <td>https://canvas.liverpool.ac.uk/courses/67382/g...</td>\n",
       "    </tr>\n",
       "    <tr>\n",
       "      <th>64</th>\n",
       "      <td>2DCZc</td>\n",
       "      <td>https://canvas.liverpool.ac.uk/courses/67382/g...</td>\n",
       "    </tr>\n",
       "    <tr>\n",
       "      <th>73</th>\n",
       "      <td>2Qscf</td>\n",
       "      <td>https://canvas.liverpool.ac.uk/courses/67382/g...</td>\n",
       "    </tr>\n",
       "    <tr>\n",
       "      <th>25</th>\n",
       "      <td>35MGq</td>\n",
       "      <td>https://canvas.liverpool.ac.uk/courses/67382/g...</td>\n",
       "    </tr>\n",
       "    <tr>\n",
       "      <th>...</th>\n",
       "      <td>...</td>\n",
       "      <td>...</td>\n",
       "    </tr>\n",
       "    <tr>\n",
       "      <th>38</th>\n",
       "      <td>tPYsj</td>\n",
       "      <td>https://canvas.liverpool.ac.uk/courses/67382/g...</td>\n",
       "    </tr>\n",
       "    <tr>\n",
       "      <th>18</th>\n",
       "      <td>to9qX</td>\n",
       "      <td>https://canvas.liverpool.ac.uk/courses/67382/g...</td>\n",
       "    </tr>\n",
       "    <tr>\n",
       "      <th>55</th>\n",
       "      <td>wEnPR</td>\n",
       "      <td>https://canvas.liverpool.ac.uk/courses/67382/g...</td>\n",
       "    </tr>\n",
       "    <tr>\n",
       "      <th>5</th>\n",
       "      <td>wd4kp</td>\n",
       "      <td>https://canvas.liverpool.ac.uk/courses/67382/g...</td>\n",
       "    </tr>\n",
       "    <tr>\n",
       "      <th>44</th>\n",
       "      <td>z6Z5g</td>\n",
       "      <td>https://canvas.liverpool.ac.uk/courses/67382/g...</td>\n",
       "    </tr>\n",
       "  </tbody>\n",
       "</table>\n",
       "<p>85 rows × 2 columns</p>\n",
       "</div>"
      ],
      "text/plain": [
       "   anonymous_id                                                url\n",
       "19        1eVcF  https://canvas.liverpool.ac.uk/courses/67382/g...\n",
       "61        23Uq6  https://canvas.liverpool.ac.uk/courses/67382/g...\n",
       "64        2DCZc  https://canvas.liverpool.ac.uk/courses/67382/g...\n",
       "73        2Qscf  https://canvas.liverpool.ac.uk/courses/67382/g...\n",
       "25        35MGq  https://canvas.liverpool.ac.uk/courses/67382/g...\n",
       "..          ...                                                ...\n",
       "38        tPYsj  https://canvas.liverpool.ac.uk/courses/67382/g...\n",
       "18        to9qX  https://canvas.liverpool.ac.uk/courses/67382/g...\n",
       "55        wEnPR  https://canvas.liverpool.ac.uk/courses/67382/g...\n",
       "5         wd4kp  https://canvas.liverpool.ac.uk/courses/67382/g...\n",
       "44        z6Z5g  https://canvas.liverpool.ac.uk/courses/67382/g...\n",
       "\n",
       "[85 rows x 2 columns]"
      ]
     },
     "execution_count": 50,
     "metadata": {},
     "output_type": "execute_result"
    }
   ],
   "source": [
    "df.sort_values(by='anonymous_id')"
   ]
  },
  {
   "cell_type": "code",
   "execution_count": 37,
   "metadata": {},
   "outputs": [],
   "source": [
    "import pandas as pd\n",
    "import re\n",
    "\n",
    "def sort_dataframe(df, column):\n",
    "    def sort_key(s):\n",
    "        match = re.match(r'(\\d+)', s)\n",
    "        if match:\n",
    "            # For strings starting with digits, the key is the numeric value followed by the rest of the string\n",
    "            return (int(match.group(1)), s[match.end():])\n",
    "        else:\n",
    "            # For strings starting with letters, the key is a large number followed by the string itself\n",
    "            return (float('inf'), s)\n",
    "\n",
    "    # Apply the key function to the column\n",
    "    df['sort_key'] = df[column].apply(sort_key)\n",
    "\n",
    "    # Sort the DataFrame using the key\n",
    "    df = df.sort_values(by='sort_key')\n",
    "\n",
    "    # Remove the sort_key column\n",
    "    df = df.drop(columns='sort_key')\n",
    "\n",
    "    return df"
   ]
  },
  {
   "cell_type": "code",
   "execution_count": 41,
   "metadata": {},
   "outputs": [
    {
     "name": "stdout",
     "output_type": "stream",
     "text": [
      "  anonymous_id\n",
      "0        1eVcF\n",
      "2        2DCZc\n",
      "3        2Qscf\n",
      "5        6xqr5\n",
      "6        8FnPJ\n",
      "1        23Uq6\n",
      "4        35MGq\n"
     ]
    }
   ],
   "source": [
    "import pandas as pd\n",
    "import re\n",
    "\n",
    "def sort_dataframe(df, column):\n",
    "    def sort_key(s):\n",
    "        match = re.match(r'(\\d+)', s)\n",
    "        head = match.group() if match else ''\n",
    "        tail = s[len(head):]\n",
    "        return (int(head) if head else float('inf'), tail)\n",
    "\n",
    "    # Apply the key function to the column\n",
    "    df['sort_key'] = df[column].apply(sort_key)\n",
    "\n",
    "    # Sort the DataFrame using the key\n",
    "    df = df.sort_values(by='sort_key')\n",
    "\n",
    "    # Remove the sort_key column\n",
    "    df = df.drop(columns='sort_key')\n",
    "\n",
    "    return df\n",
    "\n",
    "df = pd.DataFrame({\n",
    "    'anonymous_id': ['1eVcF', '23Uq6', '2DCZc', '2Qscf', '35MGq', '6xqr5', '8FnPJ'],\n",
    "})\n",
    "\n",
    "sorted_df = sort_dataframe(df, 'anonymous_id')\n",
    "\n",
    "print(sorted_df)"
   ]
  },
  {
   "cell_type": "code",
   "execution_count": 44,
   "metadata": {},
   "outputs": [
    {
     "name": "stdout",
     "output_type": "stream",
     "text": [
      "['1eVcF', '23Uq6', '2DCZc', '2Qscf', '35MGq', '6xqr5', '8FnPJ']\n"
     ]
    }
   ],
   "source": [
    "def custom_sort(lst):\n",
    "    return sorted(lst, key=lambda x: str(x))\n",
    "\n",
    "# Example usage:\n",
    "lst = ['1eVcF', '23Uq6', '2DCZc', '2Qscf', '35MGq', '6xqr5', '8FnPJ'][::-1]\n",
    "sorted_lst = custom_sort(lst)\n",
    "print(sorted_lst)\n"
   ]
  },
  {
   "cell_type": "code",
   "execution_count": 45,
   "metadata": {},
   "outputs": [
    {
     "data": {
      "text/html": [
       "<div>\n",
       "<style scoped>\n",
       "    .dataframe tbody tr th:only-of-type {\n",
       "        vertical-align: middle;\n",
       "    }\n",
       "\n",
       "    .dataframe tbody tr th {\n",
       "        vertical-align: top;\n",
       "    }\n",
       "\n",
       "    .dataframe thead th {\n",
       "        text-align: right;\n",
       "    }\n",
       "</style>\n",
       "<table border=\"1\" class=\"dataframe\">\n",
       "  <thead>\n",
       "    <tr style=\"text-align: right;\">\n",
       "      <th></th>\n",
       "      <th>anonymous_id</th>\n",
       "      <th>sort_key</th>\n",
       "    </tr>\n",
       "  </thead>\n",
       "  <tbody>\n",
       "    <tr>\n",
       "      <th>0</th>\n",
       "      <td>1eVcF</td>\n",
       "      <td>(1, eVcF)</td>\n",
       "    </tr>\n",
       "    <tr>\n",
       "      <th>1</th>\n",
       "      <td>23Uq6</td>\n",
       "      <td>(23, Uq6)</td>\n",
       "    </tr>\n",
       "    <tr>\n",
       "      <th>2</th>\n",
       "      <td>2DCZc</td>\n",
       "      <td>(2, DCZc)</td>\n",
       "    </tr>\n",
       "    <tr>\n",
       "      <th>3</th>\n",
       "      <td>2Qscf</td>\n",
       "      <td>(2, Qscf)</td>\n",
       "    </tr>\n",
       "    <tr>\n",
       "      <th>4</th>\n",
       "      <td>35MGq</td>\n",
       "      <td>(35, MGq)</td>\n",
       "    </tr>\n",
       "  </tbody>\n",
       "</table>\n",
       "</div>"
      ],
      "text/plain": [
       "  anonymous_id   sort_key\n",
       "0        1eVcF  (1, eVcF)\n",
       "1        23Uq6  (23, Uq6)\n",
       "2        2DCZc  (2, DCZc)\n",
       "3        2Qscf  (2, Qscf)\n",
       "4        35MGq  (35, MGq)"
      ]
     },
     "execution_count": 45,
     "metadata": {},
     "output_type": "execute_result"
    }
   ],
   "source": [
    "df.head()"
   ]
  },
  {
   "cell_type": "code",
   "execution_count": 21,
   "metadata": {},
   "outputs": [
    {
     "data": {
      "text/html": [
       "<div>\n",
       "<style scoped>\n",
       "    .dataframe tbody tr th:only-of-type {\n",
       "        vertical-align: middle;\n",
       "    }\n",
       "\n",
       "    .dataframe tbody tr th {\n",
       "        vertical-align: top;\n",
       "    }\n",
       "\n",
       "    .dataframe thead th {\n",
       "        text-align: right;\n",
       "    }\n",
       "</style>\n",
       "<table border=\"1\" class=\"dataframe\">\n",
       "  <thead>\n",
       "    <tr style=\"text-align: right;\">\n",
       "      <th></th>\n",
       "      <th>anonymous_id</th>\n",
       "      <th>url</th>\n",
       "    </tr>\n",
       "  </thead>\n",
       "  <tbody>\n",
       "    <tr>\n",
       "      <th>80</th>\n",
       "      <td>jmh41</td>\n",
       "      <td>https://canvas.liverpool.ac.uk/courses/67382/g...</td>\n",
       "    </tr>\n",
       "    <tr>\n",
       "      <th>81</th>\n",
       "      <td>kcqzk</td>\n",
       "      <td>https://canvas.liverpool.ac.uk/courses/67382/g...</td>\n",
       "    </tr>\n",
       "    <tr>\n",
       "      <th>82</th>\n",
       "      <td>og3co</td>\n",
       "      <td>https://canvas.liverpool.ac.uk/courses/67382/g...</td>\n",
       "    </tr>\n",
       "    <tr>\n",
       "      <th>83</th>\n",
       "      <td>oso6v</td>\n",
       "      <td>https://canvas.liverpool.ac.uk/courses/67382/g...</td>\n",
       "    </tr>\n",
       "    <tr>\n",
       "      <th>84</th>\n",
       "      <td>wd4kp</td>\n",
       "      <td>https://canvas.liverpool.ac.uk/courses/67382/g...</td>\n",
       "    </tr>\n",
       "  </tbody>\n",
       "</table>\n",
       "</div>"
      ],
      "text/plain": [
       "   anonymous_id                                                url\n",
       "80        jmh41  https://canvas.liverpool.ac.uk/courses/67382/g...\n",
       "81        kcqzk  https://canvas.liverpool.ac.uk/courses/67382/g...\n",
       "82        og3co  https://canvas.liverpool.ac.uk/courses/67382/g...\n",
       "83        oso6v  https://canvas.liverpool.ac.uk/courses/67382/g...\n",
       "84        wd4kp  https://canvas.liverpool.ac.uk/courses/67382/g..."
      ]
     },
     "execution_count": 21,
     "metadata": {},
     "output_type": "execute_result"
    }
   ],
   "source": [
    "df.tail()"
   ]
  },
  {
   "cell_type": "code",
   "execution_count": 22,
   "metadata": {},
   "outputs": [
    {
     "data": {
      "text/plain": [
       "0     1eVcF\n",
       "1     23Uq6\n",
       "2     2DCZc\n",
       "3     2Qscf\n",
       "4     35MGq\n",
       "      ...  \n",
       "80    jmh41\n",
       "81    kcqzk\n",
       "82    og3co\n",
       "83    oso6v\n",
       "84    wd4kp\n",
       "Name: anonymous_id, Length: 85, dtype: object"
      ]
     },
     "execution_count": 22,
     "metadata": {},
     "output_type": "execute_result"
    }
   ],
   "source": [
    "df[\"anonymous_id\"]"
   ]
  },
  {
   "cell_type": "code",
   "execution_count": 23,
   "metadata": {},
   "outputs": [
    {
     "name": "stdout",
     "output_type": "stream",
     "text": [
      "1eVcF https://canvas.liverpool.ac.uk/courses/67382/gradebook/speed_grader?assignment_id=270332&anonymous_id=1eVcF\n",
      "23Uq6 https://canvas.liverpool.ac.uk/courses/67382/gradebook/speed_grader?assignment_id=270332&anonymous_id=23Uq6\n",
      "2DCZc https://canvas.liverpool.ac.uk/courses/67382/gradebook/speed_grader?assignment_id=270332&anonymous_id=2DCZc\n",
      "2Qscf https://canvas.liverpool.ac.uk/courses/67382/gradebook/speed_grader?assignment_id=270332&anonymous_id=2Qscf\n",
      "35MGq https://canvas.liverpool.ac.uk/courses/67382/gradebook/speed_grader?assignment_id=270332&anonymous_id=35MGq\n",
      "8FnPJ https://canvas.liverpool.ac.uk/courses/67382/gradebook/speed_grader?assignment_id=270332&anonymous_id=8FnPJ\n",
      "92xzW https://canvas.liverpool.ac.uk/courses/67382/gradebook/speed_grader?assignment_id=270332&anonymous_id=92xzW\n",
      "9cS18 https://canvas.liverpool.ac.uk/courses/67382/gradebook/speed_grader?assignment_id=270332&anonymous_id=9cS18\n",
      "AwMt3 https://canvas.liverpool.ac.uk/courses/67382/gradebook/speed_grader?assignment_id=270332&anonymous_id=AwMt3\n",
      "B8JXe https://canvas.liverpool.ac.uk/courses/67382/gradebook/speed_grader?assignment_id=270332&anonymous_id=B8JXe\n",
      "BLfyi https://canvas.liverpool.ac.uk/courses/67382/gradebook/speed_grader?assignment_id=270332&anonymous_id=BLfyi\n",
      "CXfqC https://canvas.liverpool.ac.uk/courses/67382/gradebook/speed_grader?assignment_id=270332&anonymous_id=CXfqC\n",
      "DA9mJ https://canvas.liverpool.ac.uk/courses/67382/gradebook/speed_grader?assignment_id=270332&anonymous_id=DA9mJ\n",
      "DYW2W https://canvas.liverpool.ac.uk/courses/67382/gradebook/speed_grader?assignment_id=270332&anonymous_id=DYW2W\n",
      "EQYn8 https://canvas.liverpool.ac.uk/courses/67382/gradebook/speed_grader?assignment_id=270332&anonymous_id=EQYn8\n",
      "EaCiB https://canvas.liverpool.ac.uk/courses/67382/gradebook/speed_grader?assignment_id=270332&anonymous_id=EaCiB\n",
      "EqYaA https://canvas.liverpool.ac.uk/courses/67382/gradebook/speed_grader?assignment_id=270332&anonymous_id=EqYaA\n",
      "F9gxy https://canvas.liverpool.ac.uk/courses/67382/gradebook/speed_grader?assignment_id=270332&anonymous_id=F9gxy\n",
      "FBXub https://canvas.liverpool.ac.uk/courses/67382/gradebook/speed_grader?assignment_id=270332&anonymous_id=FBXub\n",
      "FBtri https://canvas.liverpool.ac.uk/courses/67382/gradebook/speed_grader?assignment_id=270332&anonymous_id=FBtri\n",
      "FzCYe https://canvas.liverpool.ac.uk/courses/67382/gradebook/speed_grader?assignment_id=270332&anonymous_id=FzCYe\n",
      "FzN7e https://canvas.liverpool.ac.uk/courses/67382/gradebook/speed_grader?assignment_id=270332&anonymous_id=FzN7e\n",
      "G2DTm https://canvas.liverpool.ac.uk/courses/67382/gradebook/speed_grader?assignment_id=270332&anonymous_id=G2DTm\n",
      "GwEq5 https://canvas.liverpool.ac.uk/courses/67382/gradebook/speed_grader?assignment_id=270332&anonymous_id=GwEq5\n",
      "Gwtvb https://canvas.liverpool.ac.uk/courses/67382/gradebook/speed_grader?assignment_id=270332&anonymous_id=Gwtvb\n",
      "JTbBh https://canvas.liverpool.ac.uk/courses/67382/gradebook/speed_grader?assignment_id=270332&anonymous_id=JTbBh\n",
      "KYw4H https://canvas.liverpool.ac.uk/courses/67382/gradebook/speed_grader?assignment_id=270332&anonymous_id=KYw4H\n",
      "Khd2X https://canvas.liverpool.ac.uk/courses/67382/gradebook/speed_grader?assignment_id=270332&anonymous_id=Khd2X\n",
      "Kp6zV https://canvas.liverpool.ac.uk/courses/67382/gradebook/speed_grader?assignment_id=270332&anonymous_id=Kp6zV\n",
      "MoSvV https://canvas.liverpool.ac.uk/courses/67382/gradebook/speed_grader?assignment_id=270332&anonymous_id=MoSvV\n",
      "Moeip https://canvas.liverpool.ac.uk/courses/67382/gradebook/speed_grader?assignment_id=270332&anonymous_id=Moeip\n",
      "MsKSN https://canvas.liverpool.ac.uk/courses/67382/gradebook/speed_grader?assignment_id=270332&anonymous_id=MsKSN\n",
      "N4uar https://canvas.liverpool.ac.uk/courses/67382/gradebook/speed_grader?assignment_id=270332&anonymous_id=N4uar\n",
      "NMHNk https://canvas.liverpool.ac.uk/courses/67382/gradebook/speed_grader?assignment_id=270332&anonymous_id=NMHNk\n",
      "NySxj https://canvas.liverpool.ac.uk/courses/67382/gradebook/speed_grader?assignment_id=270332&anonymous_id=NySxj\n",
      "QVZS6 https://canvas.liverpool.ac.uk/courses/67382/gradebook/speed_grader?assignment_id=270332&anonymous_id=QVZS6\n",
      "QaLEN https://canvas.liverpool.ac.uk/courses/67382/gradebook/speed_grader?assignment_id=270332&anonymous_id=QaLEN\n",
      "SFPCZ https://canvas.liverpool.ac.uk/courses/67382/gradebook/speed_grader?assignment_id=270332&anonymous_id=SFPCZ\n",
      "SMeBd https://canvas.liverpool.ac.uk/courses/67382/gradebook/speed_grader?assignment_id=270332&anonymous_id=SMeBd\n",
      "TQzrN https://canvas.liverpool.ac.uk/courses/67382/gradebook/speed_grader?assignment_id=270332&anonymous_id=TQzrN\n",
      "URZ9t https://canvas.liverpool.ac.uk/courses/67382/gradebook/speed_grader?assignment_id=270332&anonymous_id=URZ9t\n",
      "UkVAm https://canvas.liverpool.ac.uk/courses/67382/gradebook/speed_grader?assignment_id=270332&anonymous_id=UkVAm\n",
      "UnDFw https://canvas.liverpool.ac.uk/courses/67382/gradebook/speed_grader?assignment_id=270332&anonymous_id=UnDFw\n",
      "VGBb1 https://canvas.liverpool.ac.uk/courses/67382/gradebook/speed_grader?assignment_id=270332&anonymous_id=VGBb1\n",
      "VShbm https://canvas.liverpool.ac.uk/courses/67382/gradebook/speed_grader?assignment_id=270332&anonymous_id=VShbm\n",
      "VkBnQ https://canvas.liverpool.ac.uk/courses/67382/gradebook/speed_grader?assignment_id=270332&anonymous_id=VkBnQ\n",
      "WHwUb https://canvas.liverpool.ac.uk/courses/67382/gradebook/speed_grader?assignment_id=270332&anonymous_id=WHwUb\n",
      "WJWkZ https://canvas.liverpool.ac.uk/courses/67382/gradebook/speed_grader?assignment_id=270332&anonymous_id=WJWkZ\n",
      "WJrCx https://canvas.liverpool.ac.uk/courses/67382/gradebook/speed_grader?assignment_id=270332&anonymous_id=WJrCx\n",
      "WpNJu https://canvas.liverpool.ac.uk/courses/67382/gradebook/speed_grader?assignment_id=270332&anonymous_id=WpNJu\n",
      "WqN8Y https://canvas.liverpool.ac.uk/courses/67382/gradebook/speed_grader?assignment_id=270332&anonymous_id=WqN8Y\n",
      "WsWx8 https://canvas.liverpool.ac.uk/courses/67382/gradebook/speed_grader?assignment_id=270332&anonymous_id=WsWx8\n",
      "YWT3Z https://canvas.liverpool.ac.uk/courses/67382/gradebook/speed_grader?assignment_id=270332&anonymous_id=YWT3Z\n",
      "YrETd https://canvas.liverpool.ac.uk/courses/67382/gradebook/speed_grader?assignment_id=270332&anonymous_id=YrETd\n",
      "ZUfEf https://canvas.liverpool.ac.uk/courses/67382/gradebook/speed_grader?assignment_id=270332&anonymous_id=ZUfEf\n",
      "aPhNc https://canvas.liverpool.ac.uk/courses/67382/gradebook/speed_grader?assignment_id=270332&anonymous_id=aPhNc\n",
      "bXokA https://canvas.liverpool.ac.uk/courses/67382/gradebook/speed_grader?assignment_id=270332&anonymous_id=bXokA\n",
      "eEMec https://canvas.liverpool.ac.uk/courses/67382/gradebook/speed_grader?assignment_id=270332&anonymous_id=eEMec\n",
      "hpEY6 https://canvas.liverpool.ac.uk/courses/67382/gradebook/speed_grader?assignment_id=270332&anonymous_id=hpEY6\n",
      "hwGq3 https://canvas.liverpool.ac.uk/courses/67382/gradebook/speed_grader?assignment_id=270332&anonymous_id=hwGq3\n",
      "juPYu https://canvas.liverpool.ac.uk/courses/67382/gradebook/speed_grader?assignment_id=270332&anonymous_id=juPYu\n",
      "kCJ19 https://canvas.liverpool.ac.uk/courses/67382/gradebook/speed_grader?assignment_id=270332&anonymous_id=kCJ19\n",
      "m4LdC https://canvas.liverpool.ac.uk/courses/67382/gradebook/speed_grader?assignment_id=270332&anonymous_id=m4LdC\n",
      "mY12K https://canvas.liverpool.ac.uk/courses/67382/gradebook/speed_grader?assignment_id=270332&anonymous_id=mY12K\n",
      "mdoRT https://canvas.liverpool.ac.uk/courses/67382/gradebook/speed_grader?assignment_id=270332&anonymous_id=mdoRT\n",
      "mezbM https://canvas.liverpool.ac.uk/courses/67382/gradebook/speed_grader?assignment_id=270332&anonymous_id=mezbM\n",
      "nJTLC https://canvas.liverpool.ac.uk/courses/67382/gradebook/speed_grader?assignment_id=270332&anonymous_id=nJTLC\n",
      "nPFW1 https://canvas.liverpool.ac.uk/courses/67382/gradebook/speed_grader?assignment_id=270332&anonymous_id=nPFW1\n",
      "o6dUe https://canvas.liverpool.ac.uk/courses/67382/gradebook/speed_grader?assignment_id=270332&anonymous_id=o6dUe\n",
      "pxiyC https://canvas.liverpool.ac.uk/courses/67382/gradebook/speed_grader?assignment_id=270332&anonymous_id=pxiyC\n",
      "qxLcT https://canvas.liverpool.ac.uk/courses/67382/gradebook/speed_grader?assignment_id=270332&anonymous_id=qxLcT\n",
      "rFZ4f https://canvas.liverpool.ac.uk/courses/67382/gradebook/speed_grader?assignment_id=270332&anonymous_id=rFZ4f\n",
      "rZyGu https://canvas.liverpool.ac.uk/courses/67382/gradebook/speed_grader?assignment_id=270332&anonymous_id=rZyGu\n",
      "s1L1e https://canvas.liverpool.ac.uk/courses/67382/gradebook/speed_grader?assignment_id=270332&anonymous_id=s1L1e\n",
      "t5CgN https://canvas.liverpool.ac.uk/courses/67382/gradebook/speed_grader?assignment_id=270332&anonymous_id=t5CgN\n",
      "tPYsj https://canvas.liverpool.ac.uk/courses/67382/gradebook/speed_grader?assignment_id=270332&anonymous_id=tPYsj\n",
      "to9qX https://canvas.liverpool.ac.uk/courses/67382/gradebook/speed_grader?assignment_id=270332&anonymous_id=to9qX\n",
      "wEnPR https://canvas.liverpool.ac.uk/courses/67382/gradebook/speed_grader?assignment_id=270332&anonymous_id=wEnPR\n",
      "z6Z5g https://canvas.liverpool.ac.uk/courses/67382/gradebook/speed_grader?assignment_id=270332&anonymous_id=z6Z5g\n",
      "6xqr5 https://canvas.liverpool.ac.uk/courses/67382/gradebook/speed_grader?assignment_id=270332&anonymous_id=6xqr5\n",
      "jmh41 https://canvas.liverpool.ac.uk/courses/67382/gradebook/speed_grader?assignment_id=270332&anonymous_id=jmh41\n",
      "kcqzk https://canvas.liverpool.ac.uk/courses/67382/gradebook/speed_grader?assignment_id=270332&anonymous_id=kcqzk\n",
      "og3co https://canvas.liverpool.ac.uk/courses/67382/gradebook/speed_grader?assignment_id=270332&anonymous_id=og3co\n",
      "oso6v https://canvas.liverpool.ac.uk/courses/67382/gradebook/speed_grader?assignment_id=270332&anonymous_id=oso6v\n",
      "wd4kp https://canvas.liverpool.ac.uk/courses/67382/gradebook/speed_grader?assignment_id=270332&anonymous_id=wd4kp\n"
     ]
    }
   ],
   "source": [
    "for index, row in df.iterrows():\n",
    "    print(row[\"anonymous_id\"], row[\"url\"])"
   ]
  },
  {
   "cell_type": "code",
   "execution_count": null,
   "metadata": {},
   "outputs": [],
   "source": []
  }
 ],
 "metadata": {
  "kernelspec": {
   "display_name": "Python 3",
   "language": "python",
   "name": "python3"
  },
  "language_info": {
   "codemirror_mode": {
    "name": "ipython",
    "version": 3
   },
   "file_extension": ".py",
   "mimetype": "text/x-python",
   "name": "python",
   "nbconvert_exporter": "python",
   "pygments_lexer": "ipython3",
   "version": "3.12.0"
  }
 },
 "nbformat": 4,
 "nbformat_minor": 2
}
